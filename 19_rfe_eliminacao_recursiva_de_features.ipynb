{
 "cells": [
  {
   "cell_type": "code",
   "execution_count": 1,
   "id": "1e985736",
   "metadata": {},
   "outputs": [],
   "source": [
    "import pandas as pd\n",
    "import numpy as np\n",
    "import matplotlib.pyplot as plt"
   ]
  },
  {
   "cell_type": "markdown",
   "id": "c5712964",
   "metadata": {},
   "source": [
    "# Introdução\n",
    "\n",
    "A requeima é uma doença que afeta tomateiros e pode causar a perda total do cultivar. Existem plantas resistentes à doença.\n",
    "\n",
    "O dataset estudado, constituído de 132 observações, relaciona índices extraídos de imagens de plantas tomadas por câmeras especiais (de 5 bandas) adaptadas a drones ao nível de comprometimento de um determinado conjunto de plantas.\n",
    "\n",
    "O objetivo é construir um modelo que melhore as predições da severidade da doença. Nosso benchmark para o modelo de Regressão Linear: R2 = 0.888; RMSE = 7.539; e MAE = 6.344."
   ]
  },
  {
   "cell_type": "code",
   "execution_count": 2,
   "id": "c1a45080",
   "metadata": {},
   "outputs": [
    {
     "data": {
      "text/html": [
       "<div>\n",
       "<style scoped>\n",
       "    .dataframe tbody tr th:only-of-type {\n",
       "        vertical-align: middle;\n",
       "    }\n",
       "\n",
       "    .dataframe tbody tr th {\n",
       "        vertical-align: top;\n",
       "    }\n",
       "\n",
       "    .dataframe thead th {\n",
       "        text-align: right;\n",
       "    }\n",
       "</style>\n",
       "<table border=\"1\" class=\"dataframe\">\n",
       "  <thead>\n",
       "    <tr style=\"text-align: right;\">\n",
       "      <th></th>\n",
       "      <th>id</th>\n",
       "      <th>NDVI_d28</th>\n",
       "      <th>SAVI_d28</th>\n",
       "      <th>GNDVI_d28</th>\n",
       "      <th>MCARI1_d28</th>\n",
       "      <th>SR_d28</th>\n",
       "      <th>NDVI_d01</th>\n",
       "      <th>SAVI_d01</th>\n",
       "      <th>GNDVI_d01</th>\n",
       "      <th>MCARI1_d01</th>\n",
       "      <th>...</th>\n",
       "      <th>SAVI_d04</th>\n",
       "      <th>GNDVI_d04</th>\n",
       "      <th>MCARI1_d04</th>\n",
       "      <th>SR_d04</th>\n",
       "      <th>NDVI_d08</th>\n",
       "      <th>SAVI_d08</th>\n",
       "      <th>GNDVI_d08</th>\n",
       "      <th>MCARI1_d08</th>\n",
       "      <th>SR_d08</th>\n",
       "      <th>Severidade</th>\n",
       "    </tr>\n",
       "  </thead>\n",
       "  <tbody>\n",
       "    <tr>\n",
       "      <th>0</th>\n",
       "      <td>2</td>\n",
       "      <td>0.806955</td>\n",
       "      <td>1.210392</td>\n",
       "      <td>0.705323</td>\n",
       "      <td>19513.85630</td>\n",
       "      <td>10.557411</td>\n",
       "      <td>0.774359</td>\n",
       "      <td>1.161514</td>\n",
       "      <td>0.717367</td>\n",
       "      <td>30041.91766</td>\n",
       "      <td>...</td>\n",
       "      <td>1.166604</td>\n",
       "      <td>0.680269</td>\n",
       "      <td>22731.09954</td>\n",
       "      <td>8.380453</td>\n",
       "      <td>0.725521</td>\n",
       "      <td>1.088240</td>\n",
       "      <td>0.669113</td>\n",
       "      <td>16190.82038</td>\n",
       "      <td>6.491860</td>\n",
       "      <td>37.83</td>\n",
       "    </tr>\n",
       "    <tr>\n",
       "      <th>1</th>\n",
       "      <td>10</td>\n",
       "      <td>0.789403</td>\n",
       "      <td>1.184062</td>\n",
       "      <td>0.688353</td>\n",
       "      <td>17859.92417</td>\n",
       "      <td>9.527958</td>\n",
       "      <td>0.757559</td>\n",
       "      <td>1.136312</td>\n",
       "      <td>0.706716</td>\n",
       "      <td>26529.38283</td>\n",
       "      <td>...</td>\n",
       "      <td>1.106409</td>\n",
       "      <td>0.653475</td>\n",
       "      <td>17483.16681</td>\n",
       "      <td>7.039555</td>\n",
       "      <td>0.701538</td>\n",
       "      <td>1.052262</td>\n",
       "      <td>0.651048</td>\n",
       "      <td>13607.31327</td>\n",
       "      <td>5.889840</td>\n",
       "      <td>46.07</td>\n",
       "    </tr>\n",
       "    <tr>\n",
       "      <th>2</th>\n",
       "      <td>12</td>\n",
       "      <td>0.806006</td>\n",
       "      <td>1.208966</td>\n",
       "      <td>0.698522</td>\n",
       "      <td>18325.86796</td>\n",
       "      <td>10.450621</td>\n",
       "      <td>0.776762</td>\n",
       "      <td>1.165121</td>\n",
       "      <td>0.712256</td>\n",
       "      <td>35348.89095</td>\n",
       "      <td>...</td>\n",
       "      <td>1.136947</td>\n",
       "      <td>0.663469</td>\n",
       "      <td>18970.25945</td>\n",
       "      <td>7.691801</td>\n",
       "      <td>0.721819</td>\n",
       "      <td>1.082688</td>\n",
       "      <td>0.654506</td>\n",
       "      <td>16312.51025</td>\n",
       "      <td>6.385158</td>\n",
       "      <td>38.38</td>\n",
       "    </tr>\n",
       "    <tr>\n",
       "      <th>3</th>\n",
       "      <td>20</td>\n",
       "      <td>0.778408</td>\n",
       "      <td>1.167566</td>\n",
       "      <td>0.674224</td>\n",
       "      <td>16130.88569</td>\n",
       "      <td>9.135821</td>\n",
       "      <td>0.755313</td>\n",
       "      <td>1.132947</td>\n",
       "      <td>0.697300</td>\n",
       "      <td>30860.23050</td>\n",
       "      <td>...</td>\n",
       "      <td>1.097415</td>\n",
       "      <td>0.648051</td>\n",
       "      <td>15867.27075</td>\n",
       "      <td>6.888080</td>\n",
       "      <td>0.723709</td>\n",
       "      <td>1.085521</td>\n",
       "      <td>0.659776</td>\n",
       "      <td>15024.84460</td>\n",
       "      <td>6.503054</td>\n",
       "      <td>38.15</td>\n",
       "    </tr>\n",
       "    <tr>\n",
       "      <th>4</th>\n",
       "      <td>46</td>\n",
       "      <td>0.777937</td>\n",
       "      <td>1.166863</td>\n",
       "      <td>0.670604</td>\n",
       "      <td>17315.57673</td>\n",
       "      <td>8.797762</td>\n",
       "      <td>0.765304</td>\n",
       "      <td>1.147933</td>\n",
       "      <td>0.699105</td>\n",
       "      <td>30874.50847</td>\n",
       "      <td>...</td>\n",
       "      <td>1.165921</td>\n",
       "      <td>0.678815</td>\n",
       "      <td>23387.23253</td>\n",
       "      <td>8.498031</td>\n",
       "      <td>0.782553</td>\n",
       "      <td>1.173796</td>\n",
       "      <td>0.707183</td>\n",
       "      <td>22071.41814</td>\n",
       "      <td>8.726001</td>\n",
       "      <td>2.91</td>\n",
       "    </tr>\n",
       "    <tr>\n",
       "      <th>...</th>\n",
       "      <td>...</td>\n",
       "      <td>...</td>\n",
       "      <td>...</td>\n",
       "      <td>...</td>\n",
       "      <td>...</td>\n",
       "      <td>...</td>\n",
       "      <td>...</td>\n",
       "      <td>...</td>\n",
       "      <td>...</td>\n",
       "      <td>...</td>\n",
       "      <td>...</td>\n",
       "      <td>...</td>\n",
       "      <td>...</td>\n",
       "      <td>...</td>\n",
       "      <td>...</td>\n",
       "      <td>...</td>\n",
       "      <td>...</td>\n",
       "      <td>...</td>\n",
       "      <td>...</td>\n",
       "      <td>...</td>\n",
       "      <td>...</td>\n",
       "    </tr>\n",
       "    <tr>\n",
       "      <th>127</th>\n",
       "      <td>99</td>\n",
       "      <td>0.771956</td>\n",
       "      <td>1.157887</td>\n",
       "      <td>0.684271</td>\n",
       "      <td>15544.34528</td>\n",
       "      <td>8.793058</td>\n",
       "      <td>0.756874</td>\n",
       "      <td>1.135286</td>\n",
       "      <td>0.716099</td>\n",
       "      <td>29284.26304</td>\n",
       "      <td>...</td>\n",
       "      <td>1.105095</td>\n",
       "      <td>0.676929</td>\n",
       "      <td>15552.39493</td>\n",
       "      <td>7.002859</td>\n",
       "      <td>0.721953</td>\n",
       "      <td>1.082884</td>\n",
       "      <td>0.678242</td>\n",
       "      <td>13753.59426</td>\n",
       "      <td>6.400156</td>\n",
       "      <td>63.68</td>\n",
       "    </tr>\n",
       "    <tr>\n",
       "      <th>128</th>\n",
       "      <td>106</td>\n",
       "      <td>0.684094</td>\n",
       "      <td>1.026101</td>\n",
       "      <td>0.579705</td>\n",
       "      <td>14363.76139</td>\n",
       "      <td>5.485155</td>\n",
       "      <td>0.683368</td>\n",
       "      <td>1.025026</td>\n",
       "      <td>0.621754</td>\n",
       "      <td>21390.94521</td>\n",
       "      <td>...</td>\n",
       "      <td>1.047398</td>\n",
       "      <td>0.612533</td>\n",
       "      <td>15864.07369</td>\n",
       "      <td>5.836134</td>\n",
       "      <td>0.722138</td>\n",
       "      <td>1.083168</td>\n",
       "      <td>0.646372</td>\n",
       "      <td>16276.04763</td>\n",
       "      <td>6.535245</td>\n",
       "      <td>28.48</td>\n",
       "    </tr>\n",
       "    <tr>\n",
       "      <th>129</th>\n",
       "      <td>101</td>\n",
       "      <td>0.702853</td>\n",
       "      <td>1.054238</td>\n",
       "      <td>0.596766</td>\n",
       "      <td>14282.54195</td>\n",
       "      <td>6.243612</td>\n",
       "      <td>0.703867</td>\n",
       "      <td>1.055777</td>\n",
       "      <td>0.637277</td>\n",
       "      <td>23944.36106</td>\n",
       "      <td>...</td>\n",
       "      <td>1.059496</td>\n",
       "      <td>0.612366</td>\n",
       "      <td>16146.96220</td>\n",
       "      <td>6.102729</td>\n",
       "      <td>0.715297</td>\n",
       "      <td>1.072908</td>\n",
       "      <td>0.632440</td>\n",
       "      <td>16155.19752</td>\n",
       "      <td>6.366358</td>\n",
       "      <td>37.31</td>\n",
       "    </tr>\n",
       "    <tr>\n",
       "      <th>130</th>\n",
       "      <td>105</td>\n",
       "      <td>0.649085</td>\n",
       "      <td>0.973586</td>\n",
       "      <td>0.556922</td>\n",
       "      <td>12279.07652</td>\n",
       "      <td>4.789961</td>\n",
       "      <td>0.651537</td>\n",
       "      <td>0.977283</td>\n",
       "      <td>0.607133</td>\n",
       "      <td>21376.18619</td>\n",
       "      <td>...</td>\n",
       "      <td>1.005140</td>\n",
       "      <td>0.587082</td>\n",
       "      <td>13652.41571</td>\n",
       "      <td>5.173874</td>\n",
       "      <td>0.699264</td>\n",
       "      <td>1.048856</td>\n",
       "      <td>0.619211</td>\n",
       "      <td>14888.57394</td>\n",
       "      <td>5.873620</td>\n",
       "      <td>37.78</td>\n",
       "    </tr>\n",
       "    <tr>\n",
       "      <th>131</th>\n",
       "      <td>100</td>\n",
       "      <td>0.666665</td>\n",
       "      <td>0.999954</td>\n",
       "      <td>0.575492</td>\n",
       "      <td>12256.75810</td>\n",
       "      <td>5.094710</td>\n",
       "      <td>0.671412</td>\n",
       "      <td>1.007096</td>\n",
       "      <td>0.616721</td>\n",
       "      <td>23884.30469</td>\n",
       "      <td>...</td>\n",
       "      <td>0.998610</td>\n",
       "      <td>0.599493</td>\n",
       "      <td>14022.14139</td>\n",
       "      <td>5.100803</td>\n",
       "      <td>0.692860</td>\n",
       "      <td>1.039251</td>\n",
       "      <td>0.626415</td>\n",
       "      <td>14428.77128</td>\n",
       "      <td>5.717155</td>\n",
       "      <td>35.90</td>\n",
       "    </tr>\n",
       "  </tbody>\n",
       "</table>\n",
       "<p>132 rows × 22 columns</p>\n",
       "</div>"
      ],
      "text/plain": [
       "      id  NDVI_d28  SAVI_d28  GNDVI_d28   MCARI1_d28     SR_d28  NDVI_d01  \\\n",
       "0      2  0.806955  1.210392   0.705323  19513.85630  10.557411  0.774359   \n",
       "1     10  0.789403  1.184062   0.688353  17859.92417   9.527958  0.757559   \n",
       "2     12  0.806006  1.208966   0.698522  18325.86796  10.450621  0.776762   \n",
       "3     20  0.778408  1.167566   0.674224  16130.88569   9.135821  0.755313   \n",
       "4     46  0.777937  1.166863   0.670604  17315.57673   8.797762  0.765304   \n",
       "..   ...       ...       ...        ...          ...        ...       ...   \n",
       "127   99  0.771956  1.157887   0.684271  15544.34528   8.793058  0.756874   \n",
       "128  106  0.684094  1.026101   0.579705  14363.76139   5.485155  0.683368   \n",
       "129  101  0.702853  1.054238   0.596766  14282.54195   6.243612  0.703867   \n",
       "130  105  0.649085  0.973586   0.556922  12279.07652   4.789961  0.651537   \n",
       "131  100  0.666665  0.999954   0.575492  12256.75810   5.094710  0.671412   \n",
       "\n",
       "     SAVI_d01  GNDVI_d01   MCARI1_d01  ...  SAVI_d04  GNDVI_d04   MCARI1_d04  \\\n",
       "0    1.161514   0.717367  30041.91766  ...  1.166604   0.680269  22731.09954   \n",
       "1    1.136312   0.706716  26529.38283  ...  1.106409   0.653475  17483.16681   \n",
       "2    1.165121   0.712256  35348.89095  ...  1.136947   0.663469  18970.25945   \n",
       "3    1.132947   0.697300  30860.23050  ...  1.097415   0.648051  15867.27075   \n",
       "4    1.147933   0.699105  30874.50847  ...  1.165921   0.678815  23387.23253   \n",
       "..        ...        ...          ...  ...       ...        ...          ...   \n",
       "127  1.135286   0.716099  29284.26304  ...  1.105095   0.676929  15552.39493   \n",
       "128  1.025026   0.621754  21390.94521  ...  1.047398   0.612533  15864.07369   \n",
       "129  1.055777   0.637277  23944.36106  ...  1.059496   0.612366  16146.96220   \n",
       "130  0.977283   0.607133  21376.18619  ...  1.005140   0.587082  13652.41571   \n",
       "131  1.007096   0.616721  23884.30469  ...  0.998610   0.599493  14022.14139   \n",
       "\n",
       "       SR_d04  NDVI_d08  SAVI_d08  GNDVI_d08   MCARI1_d08    SR_d08  \\\n",
       "0    8.380453  0.725521  1.088240   0.669113  16190.82038  6.491860   \n",
       "1    7.039555  0.701538  1.052262   0.651048  13607.31327  5.889840   \n",
       "2    7.691801  0.721819  1.082688   0.654506  16312.51025  6.385158   \n",
       "3    6.888080  0.723709  1.085521   0.659776  15024.84460  6.503054   \n",
       "4    8.498031  0.782553  1.173796   0.707183  22071.41814  8.726001   \n",
       "..        ...       ...       ...        ...          ...       ...   \n",
       "127  7.002859  0.721953  1.082884   0.678242  13753.59426  6.400156   \n",
       "128  5.836134  0.722138  1.083168   0.646372  16276.04763  6.535245   \n",
       "129  6.102729  0.715297  1.072908   0.632440  16155.19752  6.366358   \n",
       "130  5.173874  0.699264  1.048856   0.619211  14888.57394  5.873620   \n",
       "131  5.100803  0.692860  1.039251   0.626415  14428.77128  5.717155   \n",
       "\n",
       "     Severidade  \n",
       "0         37.83  \n",
       "1         46.07  \n",
       "2         38.38  \n",
       "3         38.15  \n",
       "4          2.91  \n",
       "..          ...  \n",
       "127       63.68  \n",
       "128       28.48  \n",
       "129       37.31  \n",
       "130       37.78  \n",
       "131       35.90  \n",
       "\n",
       "[132 rows x 22 columns]"
      ]
     },
     "execution_count": 2,
     "metadata": {},
     "output_type": "execute_result"
    }
   ],
   "source": [
    "#%% importar o dataset\n",
    "\n",
    "df = pd.read_csv('dataset_problema2.csv')\n",
    "df"
   ]
  },
  {
   "cell_type": "code",
   "execution_count": 3,
   "id": "11be9823",
   "metadata": {},
   "outputs": [],
   "source": [
    "X = df.drop(['id', 'Severidade'], axis = 1)\n",
    "y = df['Severidade']"
   ]
  },
  {
   "cell_type": "code",
   "execution_count": 4,
   "id": "e9da5d83",
   "metadata": {},
   "outputs": [],
   "source": [
    "#%% separar dados de treinamento e teste\n",
    "\n",
    "from sklearn.model_selection import train_test_split\n",
    "\n",
    "X_train, X_test, y_train, y_test = train_test_split(X, y, test_size = 0.2, random_state = 0)"
   ]
  },
  {
   "cell_type": "code",
   "execution_count": 5,
   "id": "8b9d077c",
   "metadata": {},
   "outputs": [],
   "source": [
    "#%% Padronização das variáveis\n",
    "\n",
    "from sklearn.preprocessing import StandardScaler\n",
    "\n",
    "scaler = StandardScaler() #media 0 e desvio padrão 1\n",
    "\n",
    "X_train_sc = scaler.fit_transform(X_train)\n",
    "\n",
    "X_test_sc = scaler.transform(X_test)\n",
    "\n",
    "\n",
    "X_train_sc = pd.DataFrame(X_train_sc)\n",
    "X_train_sc.columns = X_train.columns\n",
    "\n",
    "X_test_sc = pd.DataFrame(X_test_sc)\n",
    "X_test_sc.columns = X_train.columns"
   ]
  },
  {
   "cell_type": "code",
   "execution_count": 6,
   "id": "d84f00ba",
   "metadata": {},
   "outputs": [
    {
     "name": "stdout",
     "output_type": "stream",
     "text": [
      "0.841721582102615\n"
     ]
    }
   ],
   "source": [
    "#%% validação cruzada para selecionar o número de variáveis\n",
    "\n",
    "from sklearn.model_selection import cross_val_score\n",
    "from sklearn.linear_model import LinearRegression\n",
    "\n",
    "modelo_linear = LinearRegression()\n",
    "\n",
    "score = cross_val_score(modelo_linear, X_train_sc, y_train, cv = 10)\n",
    "\n",
    "print(np.mean(score))"
   ]
  },
  {
   "cell_type": "code",
   "execution_count": 7,
   "id": "1be3b24a",
   "metadata": {},
   "outputs": [
    {
     "name": "stdout",
     "output_type": "stream",
     "text": [
      "0.06445199150879911\n",
      "0.093964860292673\n",
      "0.6727804225017578\n",
      "0.7266720621278192\n",
      "0.8223245283784297\n",
      "0.8233753596091711\n",
      "0.8202942847769122\n",
      "0.8160171069369833\n",
      "0.8642534971611298\n",
      "0.8655536026350521\n",
      "0.8592050402769521\n",
      "0.8626245070270955\n",
      "0.8617649200612012\n",
      "0.8568329558901651\n",
      "0.8551560805815512\n",
      "0.8539354093354742\n",
      "0.8498948606433393\n",
      "0.8484410541093149\n",
      "0.8438806051052401\n",
      "0.841721582102615\n"
     ]
    }
   ],
   "source": [
    "#%% seleção de variáveis\n",
    "\n",
    "from sklearn.feature_selection import RFE\n",
    "from sklearn.linear_model import LinearRegression\n",
    "\n",
    "max_f = 20\n",
    "\n",
    "lista_r2 = list()\n",
    "\n",
    "for i in range(1, max_f+1):\n",
    "  \n",
    "  selector = RFE(modelo_linear, n_features_to_select=i, step=1)\n",
    "  \n",
    "  selector = selector.fit(X_train_sc, y_train)\n",
    "  \n",
    "  mask = selector.support_\n",
    "  \n",
    "  features = X_train_sc.columns\n",
    "  \n",
    "  sel_features = features[mask]\n",
    "\n",
    "  X_sel = X_train_sc[sel_features]\n",
    "  \n",
    "  modelo_linear = LinearRegression()\n",
    "  \n",
    "  score = cross_val_score(modelo_linear, X_sel, y_train, cv = 10, scoring = 'r2') # Verificar correção do código\n",
    "  \n",
    "  lista_r2.append(np.abs(np.mean(score)))\n",
    "  \n",
    "  print(np.abs(np.mean(score)))"
   ]
  },
  {
   "cell_type": "code",
   "execution_count": 8,
   "id": "a3b0bbe2",
   "metadata": {},
   "outputs": [
    {
     "data": {
      "image/png": "[encoded data removed]",
      "text/plain": [
       "<Figure size 640x480 with 1 Axes>"
      ]
     },
     "metadata": {},
     "output_type": "display_data"
    }
   ],
   "source": [
    "#%% gráfico\n",
    "\n",
    "plt.plot(lista_r2)\n",
    "\n",
    "plt.show()"
   ]
  },
  {
   "cell_type": "code",
   "execution_count": 9,
   "id": "1afa9691",
   "metadata": {},
   "outputs": [
    {
     "name": "stdout",
     "output_type": "stream",
     "text": [
      "Index(['NDVI_d28', 'SAVI_d28', 'NDVI_d01', 'SAVI_d01', 'NDVI_d04', 'SAVI_d04',\n",
      "       'NDVI_d08', 'SAVI_d08', 'GNDVI_d08', 'SR_d08'],\n",
      "      dtype='object')\n"
     ]
    }
   ],
   "source": [
    "#%% selecionar as features\n",
    "\n",
    "modelo_linear = LinearRegression()\n",
    "selector = RFE(modelo_linear, n_features_to_select = 10, step=1)\n",
    "selector = selector.fit(X_train_sc, y_train)\n",
    "mask = selector.support_\n",
    "features = X_train_sc.columns\n",
    "sel_features = features[mask]\n",
    "\n",
    "print(sel_features)"
   ]
  },
  {
   "cell_type": "code",
   "execution_count": 10,
   "id": "9e501374",
   "metadata": {},
   "outputs": [
    {
     "name": "stdout",
     "output_type": "stream",
     "text": [
      "0.8655536026350521\n"
     ]
    }
   ],
   "source": [
    "#%% validação cruzada\n",
    "\n",
    "modelo_linear = LinearRegression()\n",
    "X_sel = X_train_sc[sel_features]\n",
    "score = cross_val_score(modelo_linear, X_sel, y_train, cv = 10, scoring = 'r2')\n",
    "print(np.mean(score))"
   ]
  },
  {
   "cell_type": "code",
   "execution_count": 11,
   "id": "fd7b57d8",
   "metadata": {},
   "outputs": [
    {
     "name": "stdout",
     "output_type": "stream",
     "text": [
      "[-3.48320174e+04  3.48360344e+04  6.23485877e+04 -6.23356138e+04\n",
      " -1.60865847e+04  1.60746797e+04  2.52778047e+04 -2.52600932e+04\n",
      " -5.26898795e+00 -2.82718382e+01]\n"
     ]
    }
   ],
   "source": [
    "#%% modelo final - Regressão linear multipla\n",
    "\n",
    "from sklearn.linear_model import LinearRegression\n",
    "\n",
    "modelo_linear = LinearRegression()\n",
    "\n",
    "modelo_linear.fit(X_sel, y_train)\n",
    "\n",
    "coef = modelo_linear.coef_\n",
    "\n",
    "print(coef)\n",
    "\n",
    "r2 = modelo_linear.score(X_sel, y_train)"
   ]
  },
  {
   "cell_type": "code",
   "execution_count": 12,
   "id": "58144fb1",
   "metadata": {},
   "outputs": [
    {
     "name": "stdout",
     "output_type": "stream",
     "text": [
      "RMSE 7.539476072294115\n",
      "MAE 6.3440663489556774\n",
      "R2 0.887634277869935\n"
     ]
    },
    {
     "data": {
      "image/png": "[encoded data removed]",
      "text/plain": [
       "<Figure size 640x480 with 1 Axes>"
      ]
     },
     "metadata": {},
     "output_type": "display_data"
    }
   ],
   "source": [
    "#%% teste final\n",
    "from sklearn.metrics import mean_squared_error\n",
    "from sklearn.metrics import mean_absolute_error\n",
    "\n",
    "\n",
    "y_pred = modelo_linear.predict(X_test_sc[sel_features])\n",
    "\n",
    "r2 = modelo_linear.score(X_test_sc[sel_features], y_test)\n",
    "\n",
    "rmse = (mean_squared_error(y_test, y_pred))**0.5\n",
    "\n",
    "mae = mean_absolute_error(y_test, y_pred)\n",
    "\n",
    "print(\"RMSE\", rmse)\n",
    "print(\"MAE\", mae)\n",
    "print(\"R2\", r2)\n",
    "\n",
    "plt.scatter(y_test, y_pred)\n",
    "plt.show()"
   ]
  },
  {
   "cell_type": "code",
   "execution_count": 13,
   "id": "09d0cd64",
   "metadata": {},
   "outputs": [
    {
     "name": "stdout",
     "output_type": "stream",
     "text": [
      "0.9187543089517886\n"
     ]
    },
    {
     "data": {
      "image/png": "[encoded data removed]",
      "text/plain": [
       "<Figure size 640x480 with 1 Axes>"
      ]
     },
     "metadata": {},
     "output_type": "display_data"
    }
   ],
   "source": [
    "#%% R2 da validação\n",
    "\n",
    "model_r2 = LinearRegression()\n",
    "model_r2.fit(np.array(y_test).reshape(-1, 1), y_pred)\n",
    "\n",
    "import matplotlib.pyplot as plt\n",
    "plt.scatter(y_test, y_pred)\n",
    "\n",
    "print(model_r2.score(np.array(y_test).reshape(-1, 1), y_pred))"
   ]
  },
  {
   "cell_type": "markdown",
   "id": "c54a0cee",
   "metadata": {},
   "source": [
    "# Método\n",
    "\n",
    "Para cumprir o objetivo proposto, usamos os regressores DecisionTreeRegressor(), RandomForestRegressor(), Ridge(), Lasso() e SVR() e verificamos seus scores R2 obtidos em validação cruzada com os dados de treino. \n",
    "\n",
    "Como se sabe, quanto mais próximo o R2 estiver de 1, melhor o modelo se ajusta aos dados.\n",
    "\n",
    "Os modelos mais promissores foram o RandomForestRegressor(), com R2 aproximado de 0.841 e Ridge(), com R2 próximo de 0.860.\n",
    "\n",
    "Escolhidos os dois modelos, empregamos a classe do Scikit-Learn para a eliminação recursiva de features (RFE), associando-o ao estimador R2.\n",
    "\n",
    "Criamos a função plota_r2_n_features() para estabelecer, em gráfico, o número de features necessárias ao bom desempenho dos modelos e, para ambos, estipulamos em 7.\n",
    "\n",
    "Para o Random Forest foram selecionados pelo RFE as seguintes features: 'GNDVI_d28', 'MCARI1_d04', 'NDVI_d08', 'SAVI_d08', 'GNDVI_d08','MCARI1_d08' e 'SR_d08'\n",
    "\n",
    "Para o Ridge foram selecionadas pelo RFE as features: 'GNDVI_d01', 'SR_d04', 'NDVI_d08', 'SAVI_d08', 'GNDVI_d08', 'MCARI1_d08'e 'SR_d08'.\n",
    "\n",
    "Os modelos foram treinados com as features selecionadas, obtendo-se os seguintes resultados finais (dados de teste):\n",
    "\n",
    "__Ridge():__ \n",
    "\n",
    "R2 da validação 0.8537815643146514\n",
    "\n",
    "RMSE 6.632198845643125\n",
    "\n",
    "MAE 5.03897671399085\n",
    "\n",
    "R2 0.9130505998808762\n",
    "\n",
    "__RandomForestRegressor():__ \n",
    "\n",
    "R2 da validação 0.8575500018276516\n",
    "\n",
    "RMSE 7.581069442416469\n",
    "\n",
    "MAE 6.627314814814811\n",
    "\n",
    "R2 0.8863910719108179\n"
   ]
  },
  {
   "cell_type": "code",
   "execution_count": 14,
   "id": "2d553bb6",
   "metadata": {},
   "outputs": [],
   "source": [
    "# Importações dos demais modelos\n",
    "\n",
    "from sklearn.tree import DecisionTreeRegressor\n",
    "from sklearn.ensemble import RandomForestRegressor\n",
    "from sklearn.linear_model import Ridge, Lasso\n",
    "from sklearn import svm"
   ]
  },
  {
   "cell_type": "code",
   "execution_count": 15,
   "id": "cfb9a43c",
   "metadata": {},
   "outputs": [
    {
     "name": "stdout",
     "output_type": "stream",
     "text": [
      "LinearRegression(): 0.841721582102615\n",
      "DecisionTreeRegressor(): 0.7041151448759744\n",
      "RandomForestRegressor(): 0.8350474023898451\n",
      "Ridge(): 0.859518549094938\n",
      "Lasso(): 0.8313730754884336\n",
      "SVR(): 0.44230902528088334\n"
     ]
    }
   ],
   "source": [
    "modelo_linear = LinearRegression()\n",
    "modelo_dtr = DecisionTreeRegressor()\n",
    "modelo_rfr = RandomForestRegressor()\n",
    "modelo_ridge = Ridge()\n",
    "modelo_lasso = Lasso()\n",
    "modelo_svr = svm.SVR()\n",
    "\n",
    "def verifica_score(modelo):\n",
    "    score = cross_val_score(modelo, X_train_sc, y_train, cv = 10, scoring = 'r2')\n",
    "    print(f'{modelo}: {np.mean(score)}')\n",
    "    \n",
    "verifica_score(modelo_linear)   \n",
    "verifica_score(modelo_dtr)\n",
    "verifica_score(modelo_rfr)\n",
    "verifica_score(modelo_ridge)\n",
    "verifica_score(modelo_lasso)\n",
    "verifica_score(modelo_svr)"
   ]
  },
  {
   "cell_type": "markdown",
   "id": "f0d7808b",
   "metadata": {},
   "source": [
    "### Modelos mais promissores: RFR e Ridge\n",
    "Obs.: Quanto mais próximo o valor do R² estiver de 1, melhor o modelo se ajusta aos dados."
   ]
  },
  {
   "cell_type": "code",
   "execution_count": 16,
   "id": "8b857c30",
   "metadata": {},
   "outputs": [],
   "source": [
    "# Número de features\n",
    "max_f = 20\n",
    "def plota_r2_n_features(modelo):\n",
    "    lista_r2 = []\n",
    "    for i in range(1, max_f + 1):\n",
    "      selector = RFE(modelo, n_features_to_select=i, step=1)\n",
    "      selector = selector.fit(X_train_sc, y_train)\n",
    "      mask = selector.support_\n",
    "      features = X_train_sc.columns\n",
    "      sel_features = features[mask]\n",
    "      X_sel = X_train_sc[sel_features]\n",
    "      score = cross_val_score(modelo, X_sel, y_train, cv = 10, scoring = 'r2')\n",
    "      lista_r2.append(np.abs(np.mean(score)))\n",
    "    plt.figure(figsize=(4,3))\n",
    "    plt.plot(lista_r2)\n",
    "    plt.title(f'{modelo}')\n",
    "    plt.show()"
   ]
  },
  {
   "cell_type": "code",
   "execution_count": 17,
   "id": "151bafb4",
   "metadata": {},
   "outputs": [
    {
     "data": {
      "image/png": "[encoded data removed]",
      "text/plain": [
       "<Figure size 400x300 with 1 Axes>"
      ]
     },
     "metadata": {},
     "output_type": "display_data"
    },
    {
     "data": {
      "image/png": "[encoded data removed]",
      "text/plain": [
       "<Figure size 400x300 with 1 Axes>"
      ]
     },
     "metadata": {},
     "output_type": "display_data"
    }
   ],
   "source": [
    "plota_r2_n_features(modelo_ridge)\n",
    "plota_r2_n_features(modelo_rfr)"
   ]
  },
  {
   "cell_type": "code",
   "execution_count": 18,
   "id": "3906b085",
   "metadata": {},
   "outputs": [
    {
     "name": "stdout",
     "output_type": "stream",
     "text": [
      "Index(['GNDVI_d01', 'SR_d04', 'NDVI_d08', 'SAVI_d08', 'GNDVI_d08',\n",
      "       'MCARI1_d08', 'SR_d08'],\n",
      "      dtype='object')\n"
     ]
    }
   ],
   "source": [
    "# N de features: 7\n",
    "\n",
    "selector = RFE(modelo_ridge, n_features_to_select = 7, step=1)\n",
    "selector = selector.fit(X_train_sc, y_train)\n",
    "mask = selector.support_\n",
    "features = X_train_sc.columns\n",
    "sel_features = features[mask]\n",
    "print(sel_features)"
   ]
  },
  {
   "cell_type": "code",
   "execution_count": 19,
   "id": "0d984d4c",
   "metadata": {},
   "outputs": [
    {
     "name": "stdout",
     "output_type": "stream",
     "text": [
      "Ridge(): 0.8537815643146514\n",
      "RMSE 6.632198845643125\n",
      "MAE 5.03897671399085\n",
      "R2 0.9130505998808762\n"
     ]
    },
    {
     "data": {
      "image/png": "[encoded data removed]",
      "text/plain": [
       "<Figure size 640x480 with 1 Axes>"
      ]
     },
     "metadata": {},
     "output_type": "display_data"
    },
    {
     "name": "stdout",
     "output_type": "stream",
     "text": [
      "0.9326979105370807\n"
     ]
    },
    {
     "data": {
      "image/png": "[encoded data removed]",
      "text/plain": [
       "<Figure size 640x480 with 1 Axes>"
      ]
     },
     "metadata": {},
     "output_type": "display_data"
    }
   ],
   "source": [
    "# validação cruzada\n",
    "\n",
    "modelo = modelo_ridge\n",
    "X_sel = X_train_sc[sel_features]\n",
    "\n",
    "score = cross_val_score(modelo, X_sel, y_train, cv = 10, scoring = 'r2')\n",
    "print(f'{modelo}: {np.mean(score)}')\n",
    "\n",
    "# modelo final\n",
    "modelo.fit(X_sel, y_train)\n",
    "#coef = modelo.coef_\n",
    "#print(coef)\n",
    "\n",
    "r2 = modelo.score(X_sel, y_train)\n",
    "\n",
    "#%% teste final\n",
    "from sklearn.metrics import mean_squared_error\n",
    "from sklearn.metrics import mean_absolute_error\n",
    "\n",
    "y_pred = modelo.predict(X_test_sc[sel_features])\n",
    "r2 = modelo.score(X_test_sc[sel_features], y_test)\n",
    "\n",
    "rmse = (mean_squared_error(y_test, y_pred))**0.5\n",
    "mae = mean_absolute_error(y_test, y_pred)\n",
    "\n",
    "print(\"RMSE\", rmse)\n",
    "print(\"MAE\", mae)\n",
    "print(\"R2\", r2)\n",
    "\n",
    "plt.scatter(y_test, y_pred)\n",
    "plt.show()\n",
    "\n",
    "# R2 da validação\n",
    "modelo.fit(np.array(y_test).reshape(-1, 1), y_pred)\n",
    "plt.scatter(y_test, y_pred)\n",
    "\n",
    "print(modelo.score(np.array(y_test).reshape(-1, 1), y_pred))"
   ]
  },
  {
   "cell_type": "code",
   "execution_count": 20,
   "id": "25189e86",
   "metadata": {},
   "outputs": [
    {
     "name": "stdout",
     "output_type": "stream",
     "text": [
      "Index(['GNDVI_d28', 'MCARI1_d04', 'NDVI_d08', 'SAVI_d08', 'GNDVI_d08',\n",
      "       'MCARI1_d08', 'SR_d08'],\n",
      "      dtype='object')\n"
     ]
    }
   ],
   "source": [
    "# N de features: 7\n",
    "\n",
    "selector = RFE(modelo_rfr, n_features_to_select = 7, step=1)\n",
    "selector = selector.fit(X_train_sc, y_train)\n",
    "mask = selector.support_\n",
    "features = X_train_sc.columns\n",
    "sel_features = features[mask]\n",
    "print(sel_features)"
   ]
  },
  {
   "cell_type": "code",
   "execution_count": 21,
   "id": "828030b3",
   "metadata": {},
   "outputs": [
    {
     "name": "stdout",
     "output_type": "stream",
     "text": [
      "RandomForestRegressor(): 0.8468649835421992\n",
      "RMSE 7.704994482561056\n",
      "MAE 6.722874074074074\n",
      "R2 0.8826464648456082\n"
     ]
    },
    {
     "data": {
      "image/png": "[encoded data removed]",
      "text/plain": [
       "<Figure size 640x480 with 1 Axes>"
      ]
     },
     "metadata": {},
     "output_type": "display_data"
    },
    {
     "name": "stdout",
     "output_type": "stream",
     "text": [
      "0.9956368518268964\n"
     ]
    },
    {
     "data": {
      "image/png": "[encoded data removed]",
      "text/plain": [
       "<Figure size 640x480 with 1 Axes>"
      ]
     },
     "metadata": {},
     "output_type": "display_data"
    }
   ],
   "source": [
    "# validação cruzada\n",
    "\n",
    "modelo = modelo_rfr\n",
    "X_sel = X_train_sc[sel_features]\n",
    "\n",
    "score = cross_val_score(modelo, X_sel, y_train, cv = 10, scoring = 'r2')\n",
    "print(f'{modelo}: {np.mean(score)}')\n",
    "\n",
    "# modelo final\n",
    "modelo.fit(X_sel, y_train)\n",
    "#coef = modelo.coef_\n",
    "#print(coef)\n",
    "\n",
    "r2 = modelo.score(X_sel, y_train)\n",
    "\n",
    "\n",
    "#%% teste final\n",
    "from sklearn.metrics import mean_squared_error\n",
    "from sklearn.metrics import mean_absolute_error\n",
    "\n",
    "y_pred = modelo.predict(X_test_sc[sel_features])\n",
    "r2 = modelo.score(X_test_sc[sel_features], y_test)\n",
    "\n",
    "rmse = (mean_squared_error(y_test, y_pred))**0.5\n",
    "\n",
    "mae = mean_absolute_error(y_test, y_pred)\n",
    "\n",
    "print(\"RMSE\", rmse)\n",
    "print(\"MAE\", mae)\n",
    "print(\"R2\", r2)\n",
    "\n",
    "plt.scatter(y_test, y_pred)\n",
    "plt.show()\n",
    "\n",
    "# R2 da validação\n",
    "\n",
    "modelo.fit(np.array(y_test).reshape(-1, 1), y_pred)\n",
    "plt.scatter(y_test, y_pred)\n",
    "\n",
    "print(modelo.score(np.array(y_test).reshape(-1, 1), y_pred))"
   ]
  },
  {
   "cell_type": "markdown",
   "id": "1b57df6d",
   "metadata": {},
   "source": [
    "# Conclusão\n",
    "\n",
    "Para determinar qual é o melhor modelo entre os estudados, consideramos diferentes métricas de desempenho: RMSE (Root Mean Square Error), MAE (Mean Absolute Error) e o R² (coefficient of determination).\n",
    "\n",
    "Comparando as métricas obtidas, pudemos observar que o modelo \"Ridge\" tem o menor RMSE (6.632198845643125) e MAE (5.03897671399085) em comparação aos outros modelos, ou seja, menor média de erro e uma maior precisão em relação aos valores reais.\n",
    "\n",
    "Além disso, o modelo \"Ridge\" também possui o maior valor de R² (0.9130505998808762), o que significa que ele é capaz de explicar uma maior proporção da variação nos dados de saída em relação aos demais.\n",
    "\n",
    "Em conclusão, o modelo \"Ridge\" com as features GNDVI_d01', 'SR_d04', 'NDVI_d08', 'SAVI_d08', 'GNDVI_d08','MCARI1_d08' e 'SR_d08' oferece melhores resultados."
   ]
  }
 ],
 "metadata": {
  "kernelspec": {
   "display_name": "Python 3 (ipykernel)",
   "language": "python",
   "name": "python3"
  },
  "language_info": {
   "codemirror_mode": {
    "name": "ipython",
    "version": 3
   },
   "file_extension": ".py",
   "mimetype": "text/x-python",
   "name": "python",
   "nbconvert_exporter": "python",
   "pygments_lexer": "ipython3",
   "version": "3.10.11"
  }
 },
 "nbformat": 4,
 "nbformat_minor": 5
}
