{
  "nbformat": 4,
  "nbformat_minor": 0,
  "metadata": {
    "colab": {
      "provenance": []
    },
    "kernelspec": {
      "name": "python3",
      "display_name": "Python 3"
    },
    "language_info": {
      "name": "python"
    }
  },
  "cells": [
    {
      "cell_type": "markdown",
      "metadata": {
        "id": "tJvFIzPHudo0"
      },
      "source": [
        "# **ELT574 - Aprendizado de Máquinas**\n",
        "**Roteiro dirigido da Semana 3**\n",
        "\n"
      ]
    },
    {
      "cell_type": "markdown",
      "source": [
        "Crie um Notebook no Google Colab com o nome [ELT574 Semana 3 <Matrícula>], modificando o campo <Matrícula> pela sua matrícula do Sapiens (Exemplo: ELT574 Semana 3 12700-0). Conforme o roteiro abaixo, responda os questionamento e implemente rotinas para realizar os cálculos necessários.\n",
        "\n",
        "\n",
        "1. Como relacionar as redes neurais artificiais com as células neurais?\n",
        "\n",
        "2. Quais são as funções de ativação mais utilizadas nas redes neurais artificiais. Desenhe os gráficos de cada uma.\n",
        "\n",
        "3. Suponha uma rede PMC composta por uma camada de entrada com 10 neurônios, conectada com uma camada escondida com 50 neurônios artificiais e uma camada de saída com 3 neurônios artificiais. Todos os neurônios utilizam a função de ativação ReLU.\n",
        "\n",
        "> 3.1. Qual é o formato da matriz de entrada X?\n",
        ">\n",
        "> 3.2. Quais são os formatos das matrizes de pesos (Wh) e da matriz de limiares de ativação (bh) da camada escondida?\n",
        ">\n",
        "> 3.3. Quais são os formatos das matrizes de pesos (Wo) e da matriz de limiares de ativação (bo) da camada de saída?\n",
        ">\n",
        "> 3.4. Qual o formato da matriz de saída Y da rede PMC?\n",
        ">\n",
        "> 3.5 Escreva a equação que computa a saída Y da rede PMC em função de X, Wh, bh, Wo, e bo.\n",
        "\n",
        "4. Quantos neurônios na camada de saída são necessários para uma rede PMC classificar um e-mail em \"Spam\" ou \"Não-spam\"? Qual função de ativação deve ser utilizada na camada de saída desta rede PMC?\n",
        "\n",
        "5. Se você quiser construir uma rede neural artificial que identifique números escritos a mão, de 0 a 10, quantos neurônios seriam necessários na camada de saída da rede? Qual função de ativação deve ser utilizada? Por quê?\n",
        "\n",
        "6. Utilize o notebook disponibilizado para o problema de classificação multiclasse e, ajustando diferentes hiperparâmetros de treinamento, tente atingir 98% de precisão nas inferências. Apresente o gráfico de treinamento e validação da função de loss. Caso não consiga atingir este nível de precisão, mostre qual foi seu melhor resultado.\n",
        "\n",
        "Todas as questões devem ser inseridas no notebook do Google Colab. O link para o notebook deve ser enviado como resposta da tarefa."
      ],
      "metadata": {
        "id": "SuW5RZEmULK_"
      }
    },
    {
      "cell_type": "markdown",
      "metadata": {
        "id": "DUFZrQNLFGeW"
      },
      "source": [
        "## Resposta 1\n",
        "\n",
        "No campo da Inteligência Artificial e, particularmente, do aprendizado de máquina, costumamos falar que o computador aprende com os dados que lhe são apresentados.\n",
        "\n",
        "Em razão dessa capacidade, é comum fazermos uma analogia com o funcionamento do cérebro humano, ainda que nenhuma máquina se compare à aptidão do ser humano de se adquirir conhecimento e de se adaptar a novas situações.\n",
        "\n",
        "A analogia referida diz respeito ao fato de que o cérebro humano é formado por bilhões de neurônios interligados em rede, que se conectam pelas sinapses, permitindo a passagem de eletricidade entre as céluas. Quanto mais evoluída a espécie, maior a complexidade da rede neural que nela pode ser observada.\n",
        "\n",
        "Voltando aos computadores, tem-se que as redes neurais artificiais são formadas por unidades, que também são denominadas neurônios, que armazenam um vetor de pesos (números de ponto flutuante). Esse vetor é combinado com um vetor de entradas passado para o neurônio (produto escalar). O neurônio executa uma função, chamada função de ativação (quase sempre não linear) e produz uma saída.\n",
        "\n",
        "O perceptron é a rede neural artificial mais simples, constituída por um único neurônio. Ele pode ter ```n``` entradas, representadas pelo vetor de entrada ```X = [x1, x2, ..., xn]``` e uma saída, ```y```. Cada neurônio apresenta características de pesos sinápticos ```W = [w1, w2, ..., wn]``` e um potencial limiar de ativação ```b``` (_bias_) para que a função de ativação ```g(.)``` altere a saída ```y```. \n",
        "\n",
        "Redes mais complexas possuem diversas camadas sequenciais de neurônios artificiais (camadas ocultas) e podem ser úteis para fazer previsões ou classificações por meio de uma função desconhecida de aproximação."
      ]
    },
    {
      "cell_type": "markdown",
      "source": [
        "## Resposta 2\n",
        "\n",
        "As principais funções de ativação são as seguintes:\n",
        "\n",
        "1. De etapa binária\n",
        "\n",
        "Nessa modalidade:\n",
        "\n",
        "f(x) = 1, x >= 0\n",
        "\n",
        "f(x) = 0, x < 0\n",
        "\n",
        "Problema relacionado a essa função é descontínua e não é diferenciável. Por esse motivo, não é a mais adequada para ajusar modelos com gradiente descendente. \n",
        "\n",
        "\n",
        "2. Linear\n",
        "\n",
        "f(x) = ax\n",
        "\n",
        "3. Sigmoide \n",
        "\n",
        "f(x) = 1/(1 + e ^ -x)\n",
        "\n",
        "4. Tangente hiperbólica (tanh)\n",
        "\n",
        "f(x) = (2/1 + e^ (-2 * B * x)) - 1 , onde B é a inclinação de tangente hiperbólica.  \n",
        "\n",
        "5. ReLU (Rectified Linear Unit): retorna o valor de entrada se for positivo; caso contrário, retorna 0\n"
      ],
      "metadata": {
        "id": "XwCEGFckVbkR"
      }
    },
    {
      "cell_type": "code",
      "source": [
        "import numpy as np\n",
        "import matplotlib.pyplot as plt\n",
        "\n",
        "# Série de valores de entrada\n",
        "x = np.linspace(-1, 1, 100)\n",
        "\n",
        "# Funções de ativação\n",
        "a, b = 2, 0\n",
        "linear = a*x + b\n",
        "sigmoide = 1 / (1 + np.exp(-x))\n",
        "tanh = np.tanh(x)\n",
        "relu = np.maximum(0, x)\n",
        "\n",
        "# Divisão da figura em 4 subplots\n",
        "\n",
        "plt.subplot(2, 2, 1)\n",
        "plt.plot(x, linear, label='Linear')\n",
        "plt.legend()\n",
        "\n",
        "plt.subplot(2, 2, 2)\n",
        "plt.plot(x, sigmoide, label='Sigmoide')\n",
        "plt.legend()\n",
        "\n",
        "plt.subplot(2, 2, 3)\n",
        "plt.plot(x, tanh, label='Tanh')\n",
        "plt.legend()\n",
        "\n",
        "plt.subplot(2, 2, 4)\n",
        "plt.plot(x, relu, label='ReLU')\n",
        "plt.legend()\n",
        "\n",
        "plt.show()"
      ],
      "metadata": {
        "colab": {
          "base_uri": "https://localhost:8080/",
          "height": 265
        },
        "id": "AQR-NSzxq4yr",
        "outputId": "8d8b9beb-eb5e-49ff-bf8f-7f62578d9534"
      },
      "execution_count": null,
      "outputs": [
        {
          "output_type": "display_data",
          "data": {
            "text/plain": [
              "<Figure size 432x288 with 4 Axes>"
            ],
            "image/png": "[encoded data removed]"
          },
          "metadata": {
            "needs_background": "light"
          }
        }
      ]
    },
    {
      "cell_type": "code",
      "source": [
        "plt.plot(x, linear, label='Linear')\n",
        "plt.legend()\n",
        "\n",
        "plt.plot(x, sigmoide, label='Sigmoide')\n",
        "plt.legend()\n",
        "\n",
        "plt.plot(x, tanh, label='Tanh')\n",
        "plt.legend()\n",
        "\n",
        "plt.plot(x, relu, label='ReLU')\n",
        "plt.legend()\n",
        "\n",
        "plt.show()"
      ],
      "metadata": {
        "id": "ugFBmCOfyfTE",
        "colab": {
          "base_uri": "https://localhost:8080/",
          "height": 265
        },
        "outputId": "7ee9ad9c-eb6d-4f23-9d10-8ede42d19ae9"
      },
      "execution_count": null,
      "outputs": [
        {
          "output_type": "display_data",
          "data": {
            "text/plain": [
              "<Figure size 432x288 with 1 Axes>"
            ],
            "image/png": "[encoded data removed]"
          },
          "metadata": {
            "needs_background": "light"
          }
        }
      ]
    },
    {
      "cell_type": "markdown",
      "source": [
        "## Resposta 3\n",
        "\n",
        "3.1. A matriz de entrada depende do número de exemplos e número de features de cada exemplo. Se o proposição afirma que há 10 neurônios na entrada, pode-se presumir que os exemplos se caracterizem por 10 features. Assim, se tivermos 200 exemplos, a matriz de entrada será 200 x 10.\n",
        "\n",
        "3.2. A matriz de pesos (Wh) tem formato 50 x 10, porque as linhas representam os neurônios da camada escondida e as colunas os neurônios da camada de entrada.\n",
        "\n",
        "A matriz de limiares de ativação (bh) é dada pelo número de neurônios na camada escondida, que, no caso é 50, pelo peso de cada conexão. Logo, tem formato 50 x 1. \n",
        "\n",
        "3.3. A matriz Wo corresponde ao número de neurônios na camada de saída e ao número de neurônios da camada escondida. No caso, será do formato 50 x 3. Já a matriz de limiares de ativação para a camada de saída será do formato 3 x 1, considerando a existência de 3 neurônios na saída com um único limiar de ativação para cada elemento.\n",
        "\n",
        "3.4. A matriz da saída tem o formato ditado pelos exemplos apresentados no treinamento e o número de neurônios de saída. Se o treinamento tivesse sido feito com 200 exemplos, teríamos uma matriz de saída de formato 200 x 3.\n",
        "\n",
        "3.5. A equação de saída é a seguinte:\n",
        "\n",
        "Z = X * Wh + bh\n",
        "\n",
        "A = f(Z)\n",
        "\n",
        "Y = A * Wo + bo\n",
        "\n",
        "Onde X é a matriz de entrada, Wh é a matriz de pesos da camada escondida, bh é a matriz de limiares de ativação da camada escondida, Wo é a matriz de pesos da camada de saída, bo é a matriz de limiares de ativação da camada de saída, e f é a função de ativação da camada escondida (no caso, ReLu).\n",
        "\n",
        "Em conclusão:\n",
        "\n",
        "$$ f(x) = ReLu(Wo) + bo $$\n"
      ],
      "metadata": {
        "id": "ASYiWzt5Vgvg"
      }
    },
    {
      "cell_type": "code",
      "source": [
        "from keras.models import Sequential\n",
        "from keras.layers import Dense\n",
        "\n",
        "# Criação do modelo\n",
        "model = Sequential()\n",
        "\n",
        "# Adicionando a camada de entrada\n",
        "model.add(Dense(10, input_dim=10, activation='relu'))\n",
        "\n",
        "# Adicionando a camada escondida\n",
        "model.add(Dense(50, activation='relu'))\n",
        "\n",
        "# Adicionando a camada de saída\n",
        "model.add(Dense(3, activation='relu'))\n",
        "\n",
        "# Compilação do modelo\n",
        "model.compile(loss='mean_squared_error', optimizer='adam', metrics=['accuracy'])\n",
        "\n",
        "# Plotando o modelo\n",
        "model.summary()"
      ],
      "metadata": {
        "colab": {
          "base_uri": "https://localhost:8080/"
        },
        "id": "V3lqRib7eeke",
        "outputId": "e9b0a158-93a1-4939-fd1d-3b7b285fd153"
      },
      "execution_count": null,
      "outputs": [
        {
          "output_type": "stream",
          "name": "stdout",
          "text": [
            "Model: \"sequential\"\n",
            "_________________________________________________________________\n",
            " Layer (type)                Output Shape              Param #   \n",
            "=================================================================\n",
            " dense (Dense)               (None, 10)                110       \n",
            "                                                                 \n",
            " dense_1 (Dense)             (None, 50)                550       \n",
            "                                                                 \n",
            " dense_2 (Dense)             (None, 3)                 153       \n",
            "                                                                 \n",
            "=================================================================\n",
            "Total params: 813\n",
            "Trainable params: 813\n",
            "Non-trainable params: 0\n",
            "_________________________________________________________________\n"
          ]
        }
      ]
    },
    {
      "cell_type": "markdown",
      "source": [
        "## Resposta 4\n",
        "\n",
        "Para um classificador de e-mails como ham ou spam é preciso apenas um único neurônio de saída. A função de ativação logística é adequada para essa tarefa, em que não se exige probabilidade na saída."
      ],
      "metadata": {
        "id": "nIBlkUhsVlsK"
      }
    },
    {
      "cell_type": "markdown",
      "source": [
        "## Resposta 5\n",
        "Para o reconhecimento de caracteres de 0 a 9 são precisos 10 neurônios de saída, um para cada classe. Nesse caso, a função de ativação Softmax é recomendada, pois ela fará com que as probabilidades se situem entre 0 e 1 e que a soma de todas as probabilidades seja 1 (classificação multiclasse, adequada para classes mutuamente exclusivas)."
      ],
      "metadata": {
        "id": "WlW5yPTWVoWe"
      }
    },
    {
      "cell_type": "markdown",
      "source": [
        "## Resposta 6"
      ],
      "metadata": {
        "id": "lC1eay4yVrB1"
      }
    },
    {
      "cell_type": "code",
      "source": [
        "import tensorflow as tf\n",
        "from tensorflow import keras\n",
        "\n",
        "fashion_mnist = keras.datasets.fashion_mnist\n",
        "(X_train_full, y_train_full), (X_test, y_test) = fashion_mnist.load_data()\n",
        "\n",
        "X_valid, X_train = X_train_full[:5000] / 255., X_train_full[5000:] / 255.\n",
        "y_valid, y_train = y_train_full[:5000], y_train_full[5000:]\n",
        "X_test = X_test / 255.\n",
        "\n",
        "class_names = [\"T-shirt/top\", \"Trouser\", \"Pullover\", \"Dress\", \"Coat\",\n",
        "               \"Sandal\", \"Shirt\", \"Sneaker\", \"Bag\", \"Ankle boot\"]"
      ],
      "metadata": {
        "id": "7lUMoPCcVvUV"
      },
      "execution_count": null,
      "outputs": []
    },
    {
      "cell_type": "code",
      "source": [
        "# Declaração do modelo \n",
        "\n",
        "model = keras.models.Sequential([\n",
        "  keras.layers.Flatten(input_shape=[28, 28]),\n",
        "  keras.layers.Dense(200, activation=\"relu\"),\n",
        "  keras.layers.Dense(200, activation=\"relu\"),\n",
        "  keras.layers.Dense(10, activation=\"softmax\")\n",
        "]) "
      ],
      "metadata": {
        "id": "atCqik_9cpil"
      },
      "execution_count": null,
      "outputs": []
    },
    {
      "cell_type": "code",
      "source": [
        "model.compile(loss='sparse_categorical_crossentropy', \n",
        "              optimizer='sgd', \n",
        "              metrics=['accuracy'])"
      ],
      "metadata": {
        "id": "-wiLcSJodCp4"
      },
      "execution_count": null,
      "outputs": []
    },
    {
      "cell_type": "code",
      "source": [
        "history = model.fit(X_train,y_train, epochs=10,\n",
        "                    validation_data=(X_valid,y_valid))"
      ],
      "metadata": {
        "colab": {
          "base_uri": "https://localhost:8080/"
        },
        "id": "KFruCSV1dHiH",
        "outputId": "09cdd0d3-1a31-4934-828d-e7bc877d7e7b"
      },
      "execution_count": null,
      "outputs": [
        {
          "output_type": "stream",
          "name": "stdout",
          "text": [
            "Epoch 1/10\n",
            "1719/1719 [==============================] - 15s 8ms/step - loss: 0.7319 - accuracy: 0.7616 - val_loss: 0.5021 - val_accuracy: 0.8334\n",
            "Epoch 2/10\n",
            "1719/1719 [==============================] - 11s 6ms/step - loss: 0.4935 - accuracy: 0.8277 - val_loss: 0.4512 - val_accuracy: 0.8460\n",
            "Epoch 3/10\n",
            "1719/1719 [==============================] - 7s 4ms/step - loss: 0.4502 - accuracy: 0.8416 - val_loss: 0.4257 - val_accuracy: 0.8524\n",
            "Epoch 4/10\n",
            "1719/1719 [==============================] - 7s 4ms/step - loss: 0.4250 - accuracy: 0.8495 - val_loss: 0.4109 - val_accuracy: 0.8628\n",
            "Epoch 5/10\n",
            "1719/1719 [==============================] - 7s 4ms/step - loss: 0.4062 - accuracy: 0.8565 - val_loss: 0.3941 - val_accuracy: 0.8664\n",
            "Epoch 6/10\n",
            "1719/1719 [==============================] - 7s 4ms/step - loss: 0.3905 - accuracy: 0.8619 - val_loss: 0.3745 - val_accuracy: 0.8716\n",
            "Epoch 7/10\n",
            "1719/1719 [==============================] - 8s 4ms/step - loss: 0.3761 - accuracy: 0.8671 - val_loss: 0.3872 - val_accuracy: 0.8670\n",
            "Epoch 8/10\n",
            "1719/1719 [==============================] - 8s 5ms/step - loss: 0.3648 - accuracy: 0.8692 - val_loss: 0.3671 - val_accuracy: 0.8698\n",
            "Epoch 9/10\n",
            "1719/1719 [==============================] - 8s 4ms/step - loss: 0.3552 - accuracy: 0.8750 - val_loss: 0.3526 - val_accuracy: 0.8788\n",
            "Epoch 10/10\n",
            "1719/1719 [==============================] - 8s 4ms/step - loss: 0.3442 - accuracy: 0.8776 - val_loss: 0.3524 - val_accuracy: 0.8748\n"
          ]
        }
      ]
    },
    {
      "cell_type": "code",
      "source": [
        "# Análise do resultado do modelo\n",
        "\n",
        "import pandas as pd\n",
        "import matplotlib.pyplot as plt\n",
        "\n",
        "pd.DataFrame(history.history).plot(figsize=(10,8))\n",
        "plt.grid(True)\n",
        "plt.gca().set_ylim(0,1) # ajusta o eixo y para os limites de 0 a 1\n",
        "plt.show()"
      ],
      "metadata": {
        "colab": {
          "base_uri": "https://localhost:8080/",
          "height": 487
        },
        "id": "It_VKaEAdX3b",
        "outputId": "3c06b1ec-bbea-4da3-b8ef-e0cd41256312"
      },
      "execution_count": null,
      "outputs": [
        {
          "output_type": "display_data",
          "data": {
            "text/plain": [
              "<Figure size 720x576 with 1 Axes>"
            ],
            "image/png": "[encoded data removed]"
          },
          "metadata": {
            "needs_background": "light"
          }
        }
      ]
    }
  ]
}
