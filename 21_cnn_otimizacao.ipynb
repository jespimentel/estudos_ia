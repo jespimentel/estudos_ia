{
  "nbformat": 4,
  "nbformat_minor": 0,
  "metadata": {
    "colab": {
      "provenance": []
    },
    "kernelspec": {
      "name": "python3",
      "display_name": "Python 3"
    },
    "language_info": {
      "name": "python"
    },
    "accelerator": "GPU"
  },
  "cells": [
    {
      "cell_type": "code",
      "execution_count": null,
      "metadata": {
        "id": "171BECu4aq9q"
      },
      "outputs": [],
      "source": [
        "import numpy as np\n",
        "import cv2\n",
        "import os\n",
        "from PIL import Image\n",
        "import tensorflow as tf"
      ]
    },
    {
      "cell_type": "code",
      "source": [
        "from google.colab import drive\n",
        "drive.mount('/content/drive')"
      ],
      "metadata": {
        "colab": {
          "base_uri": "https://localhost:8080/"
        },
        "id": "0L4ytOyeadxI",
        "outputId": "c8481b72-efbf-4f28-d138-1385022ad4db"
      },
      "execution_count": null,
      "outputs": [
        {
          "output_type": "stream",
          "name": "stdout",
          "text": [
            "Drive already mounted at /content/drive; to attempt to forcibly remount, call drive.mount(\"/content/drive\", force_remount=True).\n"
          ]
        }
      ]
    },
    {
      "cell_type": "code",
      "source": [
        "pasta = '/content/drive/MyDrive/Datasets/imagens_celulas_1000/' # Adaptado para o meu drive\n",
        "\n",
        "positivas = os.listdir(pasta + 'positivos/')\n",
        "\n",
        "negativas = os.listdir(pasta + 'negativos/')"
      ],
      "metadata": {
        "id": "mWma_bQUbJUE"
      },
      "execution_count": null,
      "outputs": []
    },
    {
      "cell_type": "code",
      "source": [
        "dataset = list()\n",
        "\n",
        "label = list()\n",
        "\n",
        "SIZE = 64\n",
        "\n",
        "for i, image_name in enumerate(positivas):\n",
        "  if (image_name.split('.')[1] == 'png'):\n",
        "    image = cv2.imread(pasta + 'positivos/' + image_name)\n",
        "    image = Image.fromarray(image, 'RGB')\n",
        "    image = image.resize((SIZE,SIZE))\n",
        "    dataset.append(np.array(image))\n",
        "    label.append(1)\n",
        "\n",
        "for i, image_name in enumerate(negativas):\n",
        "  if (image_name.split('.')[1] == 'png'):\n",
        "    image = cv2.imread(pasta + 'negativos/' + image_name)\n",
        "    image = Image.fromarray(image, 'RGB')\n",
        "    image = image.resize((SIZE,SIZE))\n",
        "    dataset.append(np.array(image))\n",
        "    label.append(0)\n"
      ],
      "metadata": {
        "id": "R1dfOqgBb8qY"
      },
      "execution_count": null,
      "outputs": []
    },
    {
      "cell_type": "code",
      "source": [
        "import matplotlib.pyplot as plt\n",
        "\n",
        "print('label = ', label[-1])\n",
        "\n",
        "print('imagem')\n",
        "plt.imshow(dataset[-1])"
      ],
      "metadata": {
        "colab": {
          "base_uri": "https://localhost:8080/",
          "height": 486
        },
        "id": "mzcFuV_eg5MG",
        "outputId": "1570ed7b-bc75-479e-e5dd-7bf2a7f94aa6"
      },
      "execution_count": null,
      "outputs": [
        {
          "output_type": "stream",
          "name": "stdout",
          "text": [
            "label =  0\n",
            "imagem\n"
          ]
        },
        {
          "output_type": "execute_result",
          "data": {
            "text/plain": [
              "<matplotlib.image.AxesImage at 0x7f3f97a50cd0>"
            ]
          },
          "metadata": {},
          "execution_count": 58
        },
        {
          "output_type": "display_data",
          "data": {
            "text/plain": [
              "<Figure size 640x480 with 1 Axes>"
            ],
            "image/png": "[encoded data removed]"
          },
          "metadata": {}
        }
      ]
    },
    {
      "cell_type": "code",
      "source": [
        "X = np.array(dataset)\n",
        "\n",
        "X = X/255.0\n",
        "\n",
        "y = tf.keras.utils.to_categorical(np.array(label))\n",
        "\n",
        "from sklearn.model_selection import train_test_split\n",
        "\n",
        "X_train, X_test, y_train, y_test = train_test_split(X, y, test_size = 0.20, random_state = 0)\n",
        "\n"
      ],
      "metadata": {
        "id": "T5mxBv-xiHNp"
      },
      "execution_count": null,
      "outputs": []
    },
    {
      "cell_type": "code",
      "source": [
        "print(np.shape(X_train))\n",
        "\n",
        "print(np.shape(y_train))"
      ],
      "metadata": {
        "colab": {
          "base_uri": "https://localhost:8080/"
        },
        "id": "0hrNqK00jta5",
        "outputId": "08f65343-495b-4441-808a-9593b78101bb"
      },
      "execution_count": null,
      "outputs": [
        {
          "output_type": "stream",
          "name": "stdout",
          "text": [
            "(1600, 64, 64, 3)\n",
            "(1600, 2)\n"
          ]
        }
      ]
    },
    {
      "cell_type": "code",
      "source": [
        "from tensorflow.keras import Sequential\n",
        "from tensorflow.keras.layers import Conv2D, MaxPooling2D, Flatten, Dense\n",
        "from keras.layers import LeakyReLU\n",
        "\n",
        "model = Sequential()\n",
        "model.add(Conv2D(32, kernel_size=(3, 3),activation='linear',input_shape=(64,64,3),padding='same'))\n",
        "model.add(LeakyReLU(alpha=0.1))\n",
        "model.add(MaxPooling2D((2, 2),padding='same'))\n",
        "model.add(Conv2D(64, (3, 3), activation='linear',padding='same'))\n",
        "model.add(LeakyReLU(alpha=0.1))\n",
        "model.add(MaxPooling2D(pool_size=(2, 2),padding='same'))\n",
        "model.add(Conv2D(128, (3, 3), activation='linear',padding='same'))\n",
        "model.add(LeakyReLU(alpha=0.1))\n",
        "model.add(MaxPooling2D(pool_size=(2, 2),padding='same'))\n",
        "model.add(Conv2D(128, (3, 3), activation='linear',padding='same'))\n",
        "model.add(LeakyReLU(alpha=0.1))\n",
        "model.add(MaxPooling2D(pool_size=(2, 2),padding='same'))\n",
        "model.add(Flatten())\n",
        "model.add(Dense(128, activation='linear'))\n",
        "model.add(LeakyReLU(alpha=0.1))\n",
        "model.add(Dense(2, activation='softmax'))\n",
        "\n",
        "model.compile(optimizer = 'adam', loss = 'binary_crossentropy', metrics = ['accuracy'])\n",
        "\n",
        "model.summary()"
      ],
      "metadata": {
        "colab": {
          "base_uri": "https://localhost:8080/"
        },
        "id": "TpFcEh4ZlNb7",
        "outputId": "1534054b-34ac-48d7-81bd-a82336f765b5"
      },
      "execution_count": null,
      "outputs": [
        {
          "output_type": "stream",
          "name": "stdout",
          "text": [
            "Model: \"sequential_59\"\n",
            "_________________________________________________________________\n",
            " Layer (type)                Output Shape              Param #   \n",
            "=================================================================\n",
            " conv2d_170 (Conv2D)         (None, 64, 64, 32)        896       \n",
            "                                                                 \n",
            " leaky_re_lu_13 (LeakyReLU)  (None, 64, 64, 32)        0         \n",
            "                                                                 \n",
            " max_pooling2d_164 (MaxPooli  (None, 32, 32, 32)       0         \n",
            " ng2D)                                                           \n",
            "                                                                 \n",
            " conv2d_171 (Conv2D)         (None, 32, 32, 64)        18496     \n",
            "                                                                 \n",
            " leaky_re_lu_14 (LeakyReLU)  (None, 32, 32, 64)        0         \n",
            "                                                                 \n",
            " max_pooling2d_165 (MaxPooli  (None, 16, 16, 64)       0         \n",
            " ng2D)                                                           \n",
            "                                                                 \n",
            " conv2d_172 (Conv2D)         (None, 16, 16, 128)       73856     \n",
            "                                                                 \n",
            " leaky_re_lu_15 (LeakyReLU)  (None, 16, 16, 128)       0         \n",
            "                                                                 \n",
            " max_pooling2d_166 (MaxPooli  (None, 8, 8, 128)        0         \n",
            " ng2D)                                                           \n",
            "                                                                 \n",
            " conv2d_173 (Conv2D)         (None, 8, 8, 128)         147584    \n",
            "                                                                 \n",
            " leaky_re_lu_16 (LeakyReLU)  (None, 8, 8, 128)         0         \n",
            "                                                                 \n",
            " max_pooling2d_167 (MaxPooli  (None, 4, 4, 128)        0         \n",
            " ng2D)                                                           \n",
            "                                                                 \n",
            " flatten_51 (Flatten)        (None, 2048)              0         \n",
            "                                                                 \n",
            " dense_102 (Dense)           (None, 128)               262272    \n",
            "                                                                 \n",
            " leaky_re_lu_17 (LeakyReLU)  (None, 128)               0         \n",
            "                                                                 \n",
            " dense_103 (Dense)           (None, 2)                 258       \n",
            "                                                                 \n",
            "=================================================================\n",
            "Total params: 503,362\n",
            "Trainable params: 503,362\n",
            "Non-trainable params: 0\n",
            "_________________________________________________________________\n"
          ]
        }
      ]
    },
    {
      "cell_type": "code",
      "source": [
        "from tensorflow import keras\n",
        "history = model.fit(X_train, y_train, batch_size = 32, verbose = 1, epochs = 30, validation_split = 0.1 )"
      ],
      "metadata": {
        "colab": {
          "base_uri": "https://localhost:8080/"
        },
        "id": "2kM3K7N0oBCF",
        "outputId": "5ecf37a3-1837-4440-b384-eeb2b401c19e"
      },
      "execution_count": null,
      "outputs": [
        {
          "output_type": "stream",
          "name": "stdout",
          "text": [
            "Epoch 1/30\n",
            "45/45 [==============================] - 3s 13ms/step - loss: 0.6734 - accuracy: 0.5569 - val_loss: 0.5850 - val_accuracy: 0.6125\n",
            "Epoch 2/30\n",
            "45/45 [==============================] - 0s 8ms/step - loss: 0.6057 - accuracy: 0.6604 - val_loss: 0.5204 - val_accuracy: 0.6500\n",
            "Epoch 3/30\n",
            "45/45 [==============================] - 0s 7ms/step - loss: 0.5507 - accuracy: 0.7188 - val_loss: 0.4459 - val_accuracy: 0.7875\n",
            "Epoch 4/30\n",
            "45/45 [==============================] - 0s 8ms/step - loss: 0.4369 - accuracy: 0.7993 - val_loss: 0.3155 - val_accuracy: 0.8687\n",
            "Epoch 5/30\n",
            "45/45 [==============================] - 0s 8ms/step - loss: 0.2361 - accuracy: 0.9139 - val_loss: 0.2308 - val_accuracy: 0.9375\n",
            "Epoch 6/30\n",
            "45/45 [==============================] - 0s 8ms/step - loss: 0.1417 - accuracy: 0.9500 - val_loss: 0.1344 - val_accuracy: 0.9500\n",
            "Epoch 7/30\n",
            "45/45 [==============================] - 0s 8ms/step - loss: 0.1334 - accuracy: 0.9583 - val_loss: 0.2276 - val_accuracy: 0.9438\n",
            "Epoch 8/30\n",
            "45/45 [==============================] - 0s 8ms/step - loss: 0.0889 - accuracy: 0.9694 - val_loss: 0.1809 - val_accuracy: 0.9312\n",
            "Epoch 9/30\n",
            "45/45 [==============================] - 0s 8ms/step - loss: 0.0708 - accuracy: 0.9743 - val_loss: 0.1332 - val_accuracy: 0.9438\n",
            "Epoch 10/30\n",
            "45/45 [==============================] - 0s 8ms/step - loss: 0.0526 - accuracy: 0.9826 - val_loss: 0.1653 - val_accuracy: 0.9375\n",
            "Epoch 11/30\n",
            "45/45 [==============================] - 0s 8ms/step - loss: 0.0420 - accuracy: 0.9861 - val_loss: 0.3442 - val_accuracy: 0.9250\n",
            "Epoch 12/30\n",
            "45/45 [==============================] - 0s 8ms/step - loss: 0.0526 - accuracy: 0.9833 - val_loss: 0.2201 - val_accuracy: 0.9250\n",
            "Epoch 13/30\n",
            "45/45 [==============================] - 0s 8ms/step - loss: 0.0219 - accuracy: 0.9924 - val_loss: 0.3508 - val_accuracy: 0.9187\n",
            "Epoch 14/30\n",
            "45/45 [==============================] - 0s 7ms/step - loss: 0.0339 - accuracy: 0.9889 - val_loss: 0.2486 - val_accuracy: 0.9312\n",
            "Epoch 15/30\n",
            "45/45 [==============================] - 0s 7ms/step - loss: 0.0159 - accuracy: 0.9965 - val_loss: 0.2251 - val_accuracy: 0.9312\n",
            "Epoch 16/30\n",
            "45/45 [==============================] - 0s 8ms/step - loss: 0.0065 - accuracy: 0.9979 - val_loss: 0.3646 - val_accuracy: 0.9312\n",
            "Epoch 17/30\n",
            "45/45 [==============================] - 0s 9ms/step - loss: 0.0029 - accuracy: 0.9993 - val_loss: 0.4963 - val_accuracy: 0.9187\n",
            "Epoch 18/30\n",
            "45/45 [==============================] - 0s 9ms/step - loss: 0.0090 - accuracy: 0.9958 - val_loss: 0.3923 - val_accuracy: 0.9375\n",
            "Epoch 19/30\n",
            "45/45 [==============================] - 0s 10ms/step - loss: 0.0311 - accuracy: 0.9910 - val_loss: 0.4154 - val_accuracy: 0.9062\n",
            "Epoch 20/30\n",
            "45/45 [==============================] - 0s 8ms/step - loss: 0.0473 - accuracy: 0.9833 - val_loss: 0.2780 - val_accuracy: 0.9438\n",
            "Epoch 21/30\n",
            "45/45 [==============================] - 0s 9ms/step - loss: 0.0121 - accuracy: 0.9972 - val_loss: 0.2304 - val_accuracy: 0.9375\n",
            "Epoch 22/30\n",
            "45/45 [==============================] - 0s 9ms/step - loss: 0.0316 - accuracy: 0.9882 - val_loss: 0.3421 - val_accuracy: 0.9312\n",
            "Epoch 23/30\n",
            "45/45 [==============================] - 0s 10ms/step - loss: 0.0089 - accuracy: 0.9965 - val_loss: 0.5149 - val_accuracy: 0.9250\n",
            "Epoch 24/30\n",
            "45/45 [==============================] - 0s 9ms/step - loss: 0.0157 - accuracy: 0.9937 - val_loss: 0.3514 - val_accuracy: 0.9563\n",
            "Epoch 25/30\n",
            "45/45 [==============================] - 0s 9ms/step - loss: 0.0621 - accuracy: 0.9847 - val_loss: 0.3397 - val_accuracy: 0.9125\n",
            "Epoch 26/30\n",
            "45/45 [==============================] - 0s 8ms/step - loss: 0.0062 - accuracy: 0.9986 - val_loss: 0.3894 - val_accuracy: 0.9375\n",
            "Epoch 27/30\n",
            "45/45 [==============================] - 0s 8ms/step - loss: 8.5387e-04 - accuracy: 1.0000 - val_loss: 0.4174 - val_accuracy: 0.9375\n",
            "Epoch 28/30\n",
            "45/45 [==============================] - 0s 8ms/step - loss: 3.0206e-04 - accuracy: 1.0000 - val_loss: 0.4232 - val_accuracy: 0.9375\n",
            "Epoch 29/30\n",
            "45/45 [==============================] - 0s 8ms/step - loss: 2.0839e-04 - accuracy: 1.0000 - val_loss: 0.4373 - val_accuracy: 0.9375\n",
            "Epoch 30/30\n",
            "45/45 [==============================] - 0s 7ms/step - loss: 1.5993e-04 - accuracy: 1.0000 - val_loss: 0.4491 - val_accuracy: 0.9375\n"
          ]
        }
      ]
    },
    {
      "cell_type": "code",
      "source": [
        "#plotar gráficos\n",
        "import matplotlib.pyplot as plt\n",
        "\n",
        "loss = history.history['accuracy']\n",
        "val_loss = history.history['val_accuracy']\n",
        "\n",
        "epochs = range(1, len(loss)+ 1)\n",
        "\n",
        "plt.plot(epochs, loss, 'y', label = \"Treinamento\")\n",
        "plt.plot(epochs, val_loss, 'r', label = \"Validação\")\n",
        "\n",
        "plt.title(\"Treinamento versus validação\")\n",
        "plt.xlabel(\"Epocas\")\n",
        "plt.ylabel(\"Acurácia Global\")\n",
        "plt.legend()\n",
        "plt.show()"
      ],
      "metadata": {
        "colab": {
          "base_uri": "https://localhost:8080/",
          "height": 472
        },
        "id": "Mp9WhamLop9a",
        "outputId": "a1962b33-e31d-4e60-8e55-01955329fa12"
      },
      "execution_count": null,
      "outputs": [
        {
          "output_type": "display_data",
          "data": {
            "text/plain": [
              "<Figure size 640x480 with 1 Axes>"
            ],
            "image/png": "[encoded data removed]"
          },
          "metadata": {}
        }
      ]
    },
    {
      "cell_type": "code",
      "source": [
        "model.save('malaria_model.h5')"
      ],
      "metadata": {
        "id": "k-SIgzvtrqVb"
      },
      "execution_count": null,
      "outputs": []
    },
    {
      "cell_type": "code",
      "source": [
        "from tensorflow.keras.models import load_model\n",
        "\n",
        "model = load_model('malaria_model.h5')"
      ],
      "metadata": {
        "id": "tIOZJqHuruq9"
      },
      "execution_count": null,
      "outputs": []
    },
    {
      "cell_type": "code",
      "source": [
        "_,score = model.evaluate(X_test, y_test)\n",
        "\n",
        "print(score)"
      ],
      "metadata": {
        "colab": {
          "base_uri": "https://localhost:8080/"
        },
        "id": "oiCXDQllr4td",
        "outputId": "e63308f9-a5af-469b-f3ff-ff9254d596fd"
      },
      "execution_count": null,
      "outputs": [
        {
          "output_type": "stream",
          "name": "stdout",
          "text": [
            "13/13 [==============================] - 0s 5ms/step - loss: 0.2798 - accuracy: 0.9625\n",
            "0.9624999761581421\n"
          ]
        }
      ]
    }
  ]
}