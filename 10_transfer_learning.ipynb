{
  "nbformat": 4,
  "nbformat_minor": 0,
  "metadata": {
    "colab": {
      "provenance": []
    },
    "kernelspec": {
      "name": "python3",
      "display_name": "Python 3"
    },
    "language_info": {
      "name": "python"
    }
  },
  "cells": [
    {
      "cell_type": "markdown",
      "source": [
        "# ELT 575 - Aprendizado Profundo\n",
        "## Atividade 4\n",
        "### Aluno: José Eduardo de Souza Pimentel"
      ],
      "metadata": {
        "id": "TTk4SbIx-0pZ"
      }
    },
    {
      "cell_type": "markdown",
      "source": [
        "# Parte 1"
      ],
      "metadata": {
        "id": "M7CD1NT8---7"
      }
    },
    {
      "cell_type": "markdown",
      "source": [
        "**1 - Com base no que vimos no curso, aponte em quais casos as redes neurais recorrentes (RNN) e redes neurais convolucionais (CNN) devem ser aplicadas. Quais características dessas redes favorecem cada tipo de aplicação?**\n",
        "\n",
        "As Redes Neurais Recorrentes ajustam seus pesos não somente com as informações de saída da época de treinamento atual, como também das anteriores (t-1, t-2, ...), que se combinam para a obtenção de um ajuste mais preciso. As RNN têm como característica a recorrência, que é a modificação do neurônio, que se desdobra em vários, para que receba as informações de instantes de tempo anteriores ou das posições de uma sequência. Por isso, elas são bastante empregadas em análises temporais, de textos e de arquivos de áudio, porque, nesses casos, há uma dependência, no tempo ou na sequência, entre os elementos da informação.\n",
        "\n",
        "As Redes Neurais Convolucionais são largamente empregadas em classificação de imagens. Baseiam-se no funcionamento do córtex visual: as unidades que compõe a CNN são, a exemplo do modelo biológico, especializadas, ou seja, destinadas a analisar determinadas características de baixo nível da imagem. São, ademais, conectadas a um número limitado de neurônios, o que garante a esparsividade. Além disso, compartilham parâmetros, ou seja, os filtros (kernels) percorrem toda a imagem de entrada, colhendo os padrões, indiferente a movimentos de translações (mudança de posição) que a entrada possa sofrer. A esparsidade e o compartilhamento de parâmetros conferem eficiência às CNN, fazendo com que demandem menos poder computacional para a realização das tarefas.\n"
      ],
      "metadata": {
        "id": "4SGNdc61BDCM"
      }
    },
    {
      "cell_type": "markdown",
      "source": [
        "**2 - No que consiste a técnica Transfer Learning? Por que essa técnica é muito utilizada em problemas relacionados com imagens?**\n",
        "\n",
        "O transfer learning (ou aprendizado por transferência) é uma técnica que permite construir modelos eficientes mesmo quando há limitação de amostras nos dados de treinamento.\n",
        "\n",
        "O exemplo clássico é o do classificador de imagens. Nele, reutilizam-se camadas pré-treinadas de outro modelo, como o Xception, que foi treinado com imagens no ImageNet, excluímos camadas médias (de pooling global e de saída densa) e adicionamos as nossas próprias camadas de pooling global e densa, esta conforme a saída que desejamos. É útil congelar os pesos das camadas pré-treinadas. Finalmente, o modelo é compilado e avaliado.\n",
        "\n",
        "Como se intui, a técnica permite aproveitar o aprendizado obtido pelo modelo pré-treinado quando exposto a grandes bases de dados em cenários cuja tarefa possua alguma semelhança, porém com menores recursos de poder computacional, dados, tempo ou orçamento. \n",
        "\n",
        "\n",
        "\n",
        "\n",
        "\n",
        "\n",
        "\n"
      ],
      "metadata": {
        "id": "z44n-yoyBGGl"
      }
    },
    {
      "cell_type": "markdown",
      "source": [
        "**3 - O que são os autoencoders? Explique com suas palavras como esse tipo de modelo funciona.**\n",
        "\n",
        "Os autoencoders são arquiteturas de aprendizado profundo que combinam duas redes feedfoward, de forma simétrica. A primeira extrai características dos dados de entrada e produz na saída a representação desses dados, em menor dimensão. A segunda tem por finalidade reconstruir o dado de entrada (original) a partir da representação construída na rede precedente. Como os dados original e de saída são comparados, o modelo aprende a extrair as características mais relevantes da informação. Os autoencoders podem ser úteis para a supressão de ruídos, por exemplo.\n",
        "\n",
        "\n"
      ],
      "metadata": {
        "id": "X0MbIzqJBRpM"
      }
    },
    {
      "cell_type": "markdown",
      "source": [
        "**4 - Procure algum exemplo de aplicação recente de técnicas de Aprendizado Profundo para a solução de algum problema que ache relevante (classificação/identificação de doenças em plantas, diagnóstico médico, anaĺise de textos em redes sociais, previsão de ações da bolsa de valores, etc.). Explique o exemplo encontrado, destacando a importância do problema, a estratégia usada para resolvê-lo e os resultados obtidos.**\n",
        "\n",
        "A pesquisa revelou que há várias iniciativas voltadas ao diagnóstico médico com Aprendizado Profundo e Transfer Learning. Relacionada a isso, encontra-se a Internet das Coisas Médicas (ou IoMT), que se constitui no ecossistema de dispositivos portáteis, sensores, vestíveis etc. destinados a coletar dados de pacientes e submetê-los às soluções automatizadas de diagnósticos. \n",
        "\n",
        "Surpreendeu-me, entretanto, os esforços voltados para o dignóstico do Covid-19 a partir de radiografias de tórax e tomografias computadorizadas de pulmões, com ML e Transfer Leaning. O uso das técnicas se justificou, principalmente, pela premência dos resultados (que contribuiria para deter a disseminação da doença) e escassez de imagens para o treinamento, lembrando-se de que a patologia era, ao tempo dos primeiros ensaios, desconhecida. \n",
        "\n",
        "É possível inferir, portanto, que a escassez de recursos - de tempo, imagens, orçamento, etc - foi fator de fundamental importância para a utilização do Transfer Learning para a definição dos modelos de diganóstico de Covid-19, uma vez que a técnica aproveita a capacidade do modelo em que se baseia de identificar as informações de baixo nível das imagens. Ao modelo modificado se acrescentam camadas que contribuirão para torná-lo mais adequado à tarefa específica. São feitos novos treinos (mantendo-se os pesos já aprendidos das primeiras camadas), tornando-o apto a estabelecer o diagnóstico da doença pesquisada, com boa capacidade de abstração, diante das novas imagens. Assim, o modelo converge de forma mais rápida e reaproveita recursos valiosos, ainda que originalmente tenham sido estabelecidos ao ser exposto a imagens bastante diversas e de outros campos de interesse.\n",
        "\n"
      ],
      "metadata": {
        "id": "KEbvdLIpBVmF"
      }
    },
    {
      "cell_type": "markdown",
      "source": [
        "# Parte 2"
      ],
      "metadata": {
        "id": "Pp1GtMiLBZW_"
      }
    },
    {
      "cell_type": "markdown",
      "source": [
        "Aplique a técnica de transfer learning para treinar um novo modelo para classificar o dataset CIFAR-10, usado na Atividade 2. Comente sobre os resultados obtidos neste experimento quando comparados com os resultados obtidos na realização da Atividade 2. Foi mais fácil e rápido treinar o modelo usando transfer learning?\n",
        "\n",
        "DICA: O script pode uma modificação do que foi usado na Atividade 2, alterando apenas a parte de construção do modelo para usar um modelo pré-treinado (recomenda-se o VGG16) seguido de camadas totalmente conectadas, como no exemplo Transfer_learning_CNN.ipynb, disponibilizado na plataforma.\n",
        "\n",
        "Exemplo Transfer_learning_CNN:\n",
        "https://colab.research.google.com/drive/1cuETYxf8-rDQOj0bhHYFybOJVyW6-V_z?usp=sharing\n",
        "\n",
        "Dados Usados no exemplo de Transfer Learning:\n",
        "https://drive.google.com/drive/folders/1VYURCRwxEj5888IYHbO-OT0fzC0hI1jm?usp=sharing"
      ],
      "metadata": {
        "id": "9AmMK4UKBbNf"
      }
    },
    {
      "cell_type": "markdown",
      "source": [
        "# Transfer Learning"
      ],
      "metadata": {
        "id": "DTU1VRjfLsCI"
      }
    },
    {
      "cell_type": "code",
      "execution_count": null,
      "metadata": {
        "colab": {
          "base_uri": "https://localhost:8080/"
        },
        "id": "UDDcMbNdr6FI",
        "outputId": "b6d65505-fb8c-4f15-9329-aa0a77bdcf42"
      },
      "outputs": [
        {
          "output_type": "stream",
          "name": "stdout",
          "text": [
            "Mounted at /content/meu_drive\n"
          ]
        }
      ],
      "source": [
        "import matplotlib.pyplot as plt\n",
        "import numpy as np\n",
        "import os\n",
        "import tensorflow as tf\n",
        "from tensorflow.keras.applications.vgg16 import VGG16, preprocess_input\n",
        "from tensorflow.keras.applications.resnet import ResNet50\n",
        "from tensorflow.keras.datasets import cifar10\n",
        "from tensorflow.keras.models import Sequential\n",
        "from tensorflow.keras.optimizers import Adam\n",
        "from tensorflow.keras.layers import Dense, Dropout, Flatten\n",
        "from tensorflow.keras.preprocessing.image import ImageDataGenerator\n",
        "from tensorflow.keras.utils import to_categorical\n",
        "\n",
        "from google.colab import drive\n",
        "drive.mount('/content/meu_drive')"
      ]
    },
    {
      "cell_type": "markdown",
      "source": [
        "# Importando dados"
      ],
      "metadata": {
        "id": "7wDLYZxtsPeg"
      }
    },
    {
      "cell_type": "code",
      "source": [
        "# Carregando o dataset CIFAR10\n",
        "(trainX, trainY), (testX, testY) = cifar10.load_data()"
      ],
      "metadata": {
        "id": "0oTJGJS7_oQq",
        "colab": {
          "base_uri": "https://localhost:8080/"
        },
        "outputId": "72f32e74-ff98-42c3-8beb-3a8391208809"
      },
      "execution_count": null,
      "outputs": [
        {
          "output_type": "stream",
          "name": "stdout",
          "text": [
            "Downloading data from https://www.cs.toronto.edu/~kriz/cifar-10-python.tar.gz\n",
            "170498071/170498071 [==============================] - 2s 0us/step\n"
          ]
        }
      ]
    },
    {
      "cell_type": "code",
      "execution_count": null,
      "metadata": {
        "id": "fIhMNN9u8063"
      },
      "outputs": [],
      "source": [
        "# fazendo um reshape no dataset para ter um único canal\n",
        "trainX = trainX.reshape((trainX.shape[0], 32, 32, 3))\n",
        "testX = testX.reshape((testX.shape[0], 32, 32, 3))\n",
        "\n",
        "# Convertendo valores dos pixels em float\n",
        "trainX = trainX.astype('float32')\n",
        "testX = testX.astype('float32')\n",
        "\n",
        "# normalização para escala [0-1]\n",
        "trainX = trainX / 255.0\n",
        "testX = testX / 255.0\n",
        "\n",
        "# transformando a variável alvo (target) para uma codificação one hot\n",
        "trainY = to_categorical(trainY)\n",
        "testY = to_categorical(testY)"
      ]
    },
    {
      "cell_type": "markdown",
      "source": [
        "# Construção do Modelo"
      ],
      "metadata": {
        "id": "Cg_OqT65OIWi"
      }
    },
    {
      "cell_type": "code",
      "source": [
        "# Carregamos o modelo VGG16 sem as últimas camadas totalmente conectadas (include_top=False)\n",
        "pre_model = VGG16(weights='imagenet', include_top=False, input_shape=(32,32,3))\n",
        "\n",
        "# Aqui fazemos com que as camadas do modelo pré-treinado não sejam alteradas durante o treino\n",
        "for layer in pre_model.layers:\n",
        "  layer.trainable = False\n",
        "\n",
        "# Criamos então um modelo sequential onde temos o VGG16 seguido das novas camadas conectadas\n",
        "model = Sequential()\n",
        "\n",
        "model.add(pre_model)\n",
        "model.add(Dropout(0.2))\n",
        "\n",
        "model.add(Flatten())\n",
        "\n",
        "model.add(Dense(100, activation='relu'))\n",
        "model.add(Dropout(0.2))\n",
        "\n",
        "model.add(Dense(50, activation='relu'))\n",
        "model.add(Dropout(0.2))\n",
        "\n",
        "model.add(Dense(10, activation='relu'))\n",
        "model.add(Dropout(0.2))\n",
        "\n",
        "model.add(Dense(10, activation='softmax'))"
      ],
      "metadata": {
        "id": "_ftekn8YYhd5",
        "colab": {
          "base_uri": "https://localhost:8080/"
        },
        "outputId": "6e66f51d-e4a9-4076-d0b2-2f8dede955d8"
      },
      "execution_count": null,
      "outputs": [
        {
          "output_type": "stream",
          "name": "stdout",
          "text": [
            "Downloading data from https://storage.googleapis.com/tensorflow/keras-applications/vgg16/vgg16_weights_tf_dim_ordering_tf_kernels_notop.h5\n",
            "58889256/58889256 [==============================] - 0s 0us/step\n"
          ]
        }
      ]
    },
    {
      "cell_type": "markdown",
      "source": [
        "# Compilação do modelo"
      ],
      "metadata": {
        "id": "p_-MVi_iH9hq"
      }
    },
    {
      "cell_type": "code",
      "source": [
        "opt = Adam(learning_rate=0.001)\n",
        "\n",
        "model.compile(loss='categorical_crossentropy', optimizer=opt, metrics=['accuracy'])"
      ],
      "metadata": {
        "id": "8Qw7bv_NH61n"
      },
      "execution_count": null,
      "outputs": []
    },
    {
      "cell_type": "code",
      "source": [
        "# Checando a estrutura do modelo criado\n",
        "model.summary()"
      ],
      "metadata": {
        "colab": {
          "base_uri": "https://localhost:8080/"
        },
        "id": "oDk3R9LZpgjH",
        "outputId": "0f272cb0-389d-4f30-d475-185901f95584"
      },
      "execution_count": null,
      "outputs": [
        {
          "output_type": "stream",
          "name": "stdout",
          "text": [
            "Model: \"sequential\"\n",
            "_________________________________________________________________\n",
            " Layer (type)                Output Shape              Param #   \n",
            "=================================================================\n",
            " vgg16 (Functional)          (None, 1, 1, 512)         14714688  \n",
            "                                                                 \n",
            " dropout (Dropout)           (None, 1, 1, 512)         0         \n",
            "                                                                 \n",
            " flatten (Flatten)           (None, 512)               0         \n",
            "                                                                 \n",
            " dense (Dense)               (None, 100)               51300     \n",
            "                                                                 \n",
            " dropout_1 (Dropout)         (None, 100)               0         \n",
            "                                                                 \n",
            " dense_1 (Dense)             (None, 50)                5050      \n",
            "                                                                 \n",
            " dropout_2 (Dropout)         (None, 50)                0         \n",
            "                                                                 \n",
            " dense_2 (Dense)             (None, 10)                510       \n",
            "                                                                 \n",
            " dropout_3 (Dropout)         (None, 10)                0         \n",
            "                                                                 \n",
            " dense_3 (Dense)             (None, 10)                110       \n",
            "                                                                 \n",
            "=================================================================\n",
            "Total params: 14,771,658\n",
            "Trainable params: 56,970\n",
            "Non-trainable params: 14,714,688\n",
            "_________________________________________________________________\n"
          ]
        }
      ]
    },
    {
      "cell_type": "markdown",
      "source": [
        "# Treinamento do modelo"
      ],
      "metadata": {
        "id": "f8hmLmuGSbWV"
      }
    },
    {
      "cell_type": "code",
      "source": [
        "history = model.fit(trainX, trainY, \n",
        "          epochs=30,\n",
        "          validation_data=(testX, testY),\n",
        "          verbose=1)"
      ],
      "metadata": {
        "colab": {
          "base_uri": "https://localhost:8080/"
        },
        "id": "5M_lSl389jjH",
        "outputId": "62e399fd-e6d1-42a8-be05-39be46de8ec1"
      },
      "execution_count": null,
      "outputs": [
        {
          "output_type": "stream",
          "name": "stdout",
          "text": [
            "Epoch 1/30\n",
            "1563/1563 [==============================] - 516s 329ms/step - loss: 1.9115 - accuracy: 0.2980 - val_loss: 1.5419 - val_accuracy: 0.4592\n",
            "Epoch 2/30\n",
            "1563/1563 [==============================] - 571s 365ms/step - loss: 1.6652 - accuracy: 0.4065 - val_loss: 1.4383 - val_accuracy: 0.5057\n",
            "Epoch 3/30\n",
            "1563/1563 [==============================] - 583s 373ms/step - loss: 1.5965 - accuracy: 0.4405 - val_loss: 1.4101 - val_accuracy: 0.5133\n",
            "Epoch 4/30\n",
            "1563/1563 [==============================] - 578s 370ms/step - loss: 1.5675 - accuracy: 0.4548 - val_loss: 1.3960 - val_accuracy: 0.5300\n",
            "Epoch 5/30\n",
            "1563/1563 [==============================] - 511s 327ms/step - loss: 1.5415 - accuracy: 0.4689 - val_loss: 1.3515 - val_accuracy: 0.5488\n",
            "Epoch 6/30\n",
            "1563/1563 [==============================] - 510s 326ms/step - loss: 1.5239 - accuracy: 0.4784 - val_loss: 1.3343 - val_accuracy: 0.5488\n",
            "Epoch 7/30\n",
            "1563/1563 [==============================] - 562s 360ms/step - loss: 1.5092 - accuracy: 0.4830 - val_loss: 1.3123 - val_accuracy: 0.5665\n",
            "Epoch 8/30\n",
            "1563/1563 [==============================] - 501s 321ms/step - loss: 1.4959 - accuracy: 0.4927 - val_loss: 1.3041 - val_accuracy: 0.5601\n",
            "Epoch 9/30\n",
            "1563/1563 [==============================] - 502s 321ms/step - loss: 1.4969 - accuracy: 0.4871 - val_loss: 1.3193 - val_accuracy: 0.5594\n",
            "Epoch 10/30\n",
            "1563/1563 [==============================] - 503s 322ms/step - loss: 1.4814 - accuracy: 0.4963 - val_loss: 1.2975 - val_accuracy: 0.5692\n",
            "Epoch 11/30\n",
            "1563/1563 [==============================] - 503s 322ms/step - loss: 1.4729 - accuracy: 0.4990 - val_loss: 1.2942 - val_accuracy: 0.5684\n",
            "Epoch 12/30\n",
            "1563/1563 [==============================] - 567s 363ms/step - loss: 1.4685 - accuracy: 0.4996 - val_loss: 1.2780 - val_accuracy: 0.5738\n",
            "Epoch 13/30\n",
            "1563/1563 [==============================] - 506s 324ms/step - loss: 1.4583 - accuracy: 0.5039 - val_loss: 1.2817 - val_accuracy: 0.5688\n",
            "Epoch 14/30\n",
            "1563/1563 [==============================] - 508s 325ms/step - loss: 1.4542 - accuracy: 0.5049 - val_loss: 1.2640 - val_accuracy: 0.5829\n",
            "Epoch 15/30\n",
            "1563/1563 [==============================] - 506s 324ms/step - loss: 1.4501 - accuracy: 0.5056 - val_loss: 1.2751 - val_accuracy: 0.5730\n",
            "Epoch 16/30\n",
            "1563/1563 [==============================] - 507s 325ms/step - loss: 1.4388 - accuracy: 0.5100 - val_loss: 1.2642 - val_accuracy: 0.5759\n",
            "Epoch 17/30\n",
            "1563/1563 [==============================] - 506s 324ms/step - loss: 1.4404 - accuracy: 0.5111 - val_loss: 1.2629 - val_accuracy: 0.5786\n",
            "Epoch 18/30\n",
            "1563/1563 [==============================] - 511s 327ms/step - loss: 1.4348 - accuracy: 0.5106 - val_loss: 1.2641 - val_accuracy: 0.5772\n",
            "Epoch 19/30\n",
            "1563/1563 [==============================] - 586s 375ms/step - loss: 1.4275 - accuracy: 0.5173 - val_loss: 1.2574 - val_accuracy: 0.5796\n",
            "Epoch 20/30\n",
            "1563/1563 [==============================] - 512s 328ms/step - loss: 1.4345 - accuracy: 0.5155 - val_loss: 1.2581 - val_accuracy: 0.5788\n",
            "Epoch 21/30\n",
            "1563/1563 [==============================] - 507s 324ms/step - loss: 1.4239 - accuracy: 0.5183 - val_loss: 1.2594 - val_accuracy: 0.5803\n",
            "Epoch 22/30\n",
            "1563/1563 [==============================] - 578s 370ms/step - loss: 1.4195 - accuracy: 0.5197 - val_loss: 1.2465 - val_accuracy: 0.5871\n",
            "Epoch 23/30\n",
            "1563/1563 [==============================] - 573s 367ms/step - loss: 1.4173 - accuracy: 0.5197 - val_loss: 1.2413 - val_accuracy: 0.5868\n",
            "Epoch 24/30\n",
            "1563/1563 [==============================] - 581s 372ms/step - loss: 1.4084 - accuracy: 0.5217 - val_loss: 1.2372 - val_accuracy: 0.5862\n",
            "Epoch 25/30\n",
            "1563/1563 [==============================] - 584s 374ms/step - loss: 1.4137 - accuracy: 0.5210 - val_loss: 1.2481 - val_accuracy: 0.5865\n",
            "Epoch 26/30\n",
            "1563/1563 [==============================] - 583s 373ms/step - loss: 1.4056 - accuracy: 0.5247 - val_loss: 1.2492 - val_accuracy: 0.5816\n",
            "Epoch 27/30\n",
            "1563/1563 [==============================] - 583s 373ms/step - loss: 1.4081 - accuracy: 0.5215 - val_loss: 1.2349 - val_accuracy: 0.5863\n",
            "Epoch 28/30\n",
            "1563/1563 [==============================] - 578s 370ms/step - loss: 1.4018 - accuracy: 0.5258 - val_loss: 1.2510 - val_accuracy: 0.5822\n",
            "Epoch 29/30\n",
            "1563/1563 [==============================] - 589s 377ms/step - loss: 1.4062 - accuracy: 0.5231 - val_loss: 1.2418 - val_accuracy: 0.5917\n",
            "Epoch 30/30\n",
            "1563/1563 [==============================] - 586s 375ms/step - loss: 1.3996 - accuracy: 0.5243 - val_loss: 1.2433 - val_accuracy: 0.5884\n"
          ]
        }
      ]
    },
    {
      "cell_type": "markdown",
      "source": [
        "# Acurácia do Modelo"
      ],
      "metadata": {
        "id": "P6EOie66c19y"
      }
    },
    {
      "cell_type": "code",
      "source": [
        "# plota a acurácia de treinamento e validação em relação às épocas\n",
        "plt.plot(history.history['accuracy'], label='train accuracy')\n",
        "plt.plot(history.history['val_accuracy'], label='val accuracy')\n",
        "plt.xlabel('Epoch')\n",
        "plt.ylabel('Accuracy')\n",
        "plt.legend()\n",
        "plt.show()"
      ],
      "metadata": {
        "colab": {
          "base_uri": "https://localhost:8080/",
          "height": 279
        },
        "id": "yDl13_2AIi4B",
        "outputId": "355cb9c6-c306-4fb4-b1a0-f1f129018500"
      },
      "execution_count": null,
      "outputs": [
        {
          "output_type": "display_data",
          "data": {
            "text/plain": [
              "<Figure size 432x288 with 1 Axes>"
            ],
            "image/png": "[encoded data removed]"
          },
          "metadata": {
            "needs_background": "light"
          }
        }
      ]
    }
  ]
}