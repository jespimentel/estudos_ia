{
  "cells": [
    {
      "attachments": {},
      "cell_type": "markdown",
      "metadata": {
        "id": "axOeulNODJAZ"
      },
      "source": [
        "# Atividades da Semana 2"
      ]
    },
    {
      "cell_type": "markdown",
      "metadata": {
        "id": "vukcl7nXC-Ok"
      },
      "source": [
        "Crie um Notebook no Google Colab com o nome [ELT575_Semana2_<Matrícula>], modificando o campo <Matrícula> pela sua matrícula do Sapiens. As questões devem ser inseridas e respondidas no próprio notebook, sendo seguindas pelas implementações requeridas pela atividade. Ao final, envie o link do notebook como resposta da tarefa (lembre-se de deixar o acesso ao notebook público). Tente organizar o notebook em seções."
      ]
    },
    {
      "cell_type": "markdown",
      "metadata": {
        "id": "_qpW0dfKDkuU"
      },
      "source": [
        "## Parte 1"
      ]
    },
    {
      "cell_type": "markdown",
      "metadata": {
        "id": "3_o9d59JDn74"
      },
      "source": [
        "1 - Explique o que são e o funcionamento das Redes Neurais Convolucionais (CNN), enfatizando as principais diferenças entre esse tipo de modelo e as redes neurais MLPs?\n",
        "\n",
        "As redes neurais convolucionais diferem das redes neurais multicamadas porque, enquanto estas possuem camadas totalmente conectadas, as primeiras possuem, em sua arquitetura, as chamadas camadas convolucionais, cujos neurônios se conectam apenas em parte das saídas da camanda precedente.\n",
        "\n",
        "Essa concepção faz com que as camadas convolucionais se ocupem das características de baixo nível das camadas antecedentes e as repasse para a camada de nível superior. \n",
        "\n",
        "Note-se que, assim sendo, demandam-se menos ajustes de parâmetros, e, consequentemente, menor tempo de treinamento e poder computacional."
      ]
    },
    {
      "cell_type": "markdown",
      "metadata": {
        "id": "84NsvVQcDs7f"
      },
      "source": [
        "2 - Como ocorrem o compartilhamento de parâmetros e a esparsidade em uma CNN?\n",
        "\n",
        "O compartilhameno de parâmetros ocorre na operação de convolução. O filtro (kernel), que nada mais é do que uma matriz de pesos, desliza por toda a imagem sem que seus parâmetros sejam alterados. Assim, um filtro com n canais aprendidos para determinada camada convolucional não se altera para todos os campos receptivos locais das entradas daquela camada, garantindo melhor eficiência do modelo. Desse modo, as características da imagem vão sendo extraídas e mapeadas, produzindo-se, na saída, o que se convencionou chamar de feature map.\n",
        "\n",
        "A esparsividade diz respeito ao fato de que, diversamente do que ocorre com as MLPs, nem todos os neurônios de uma camada (convolucional) estão ligados aos neurônios da camada antecedente. Com essa técnica, menos parâmetros precisam ser ajustados. Diz-se, assim, que a rede se torna mais esparsa."
      ]
    },
    {
      "cell_type": "markdown",
      "metadata": {
        "id": "F4mc4Y73Dw_K"
      },
      "source": [
        "3 - Qual a função da camada Max Pooling? Por que tal função desta camada é importante?\n",
        "\n",
        "As camadas de Max Pooling têm a finalidade de criar uma subamostragem dos valores da camada precedente. Camadas assim reduzem a resolução espacial da imagem de entrada, requisitando menos recursos computacionais. O processo compreende a divisão das imagens em partes e a extração dos valores mais significativos de cada parte. Isso faz com que as principais características da imagem seja preservadas na opeação. Por outro lado, garante que o modelo não seja tão influenciado por pequenas variações da imagem, como uma pequena alteração de posição do objeto. \n"
      ]
    },
    {
      "cell_type": "markdown",
      "metadata": {
        "id": "ghPDb2K6D0-8"
      },
      "source": [
        "4 - As técnicas de regularização são bastante utilizadas para tentar evitar o sobreajuste (overfitting) do modelo. Uma regularização bastante adotada em CNNs é o Dropout, sendo um método bastante simples e eficaz. Explique no que consiste a regularização Dropout e como implementá-la.\n",
        "\n",
        "O Dropout é uma técnica que desativa parte dos neurônios nas etapas de treinamento, fazendo com que seus pesos não se alterem nessas etapas. Isso faz com que os demais neurônios executem a tarefa do neurônio \"desligado\", criando uma redundância.\n",
        "\n",
        "Para implementar uma camada de dropout no TensorFlow, basta usar a classe tf.keras.layers.Dropout(). Dentro dos parênteses () poderíamos indicar o índice 0.2, por exemplo, que indicaria o \"desligamento\" de 20% dos neurônios em cada etapa do treinamento. \n",
        "\n",
        "```python\n",
        "import tensorflow as tf\n",
        "\n",
        "model = tf.keras.Sequential([\n",
        "    tf.keras.layers.Dense(64, activation='relu'),\n",
        "    tf.keras.layers.Dropout(0.2),\n",
        "    tf.keras.layers.Dense(10, activation='softmax')\n",
        "])\n",
        "```"
      ]
    },
    {
      "cell_type": "markdown",
      "metadata": {
        "id": "1MVL2aY_DfWK"
      },
      "source": [
        "## Parte 2\n",
        "\n",
        "Link para notebook Image_classification_CNN: https://colab.research.google.com/drive/1r0pIj6INqqhnOwctukEYmih84GTTTiqN?usp=sharing\n",
        "\n",
        "Repita o exemplo Image_classification_CNN usando o dataset CIFAR-10 (https://www.tensorflow.org/datasets/catalog/cifar10), também disponível no Tensorflow. As imagens agora tem a forma 32 x 32 x 3, sendo necessário fazer ajustes na rede para esse caso. Recomendado executar usando o recurso de GPU do Colab agilizar os treinamentos das redes. Houve muita diferença no desempenho da rede treinada quando comparado ao exemplo?\n",
        "\n",
        "Experimente adicionar mais dois blocos de camadas Conv2D (64 filtros 3x3 - relu) + MaxPooling (2 x 2) antes da camada Flatten e compare os resultados.\n",
        "\n",
        "Seguindo o modelo modificado no item anterior, experimente adicionar um Dropout de 20% após cada camada MaxPooling. Comente os resultados obtidos."
      ]
    },
    {
      "cell_type": "code",
      "execution_count": null,
      "metadata": {
        "id": "mepYIv5SXA6q"
      },
      "outputs": [],
      "source": [
        "import numpy as np\n",
        "from matplotlib import pyplot as plt\n",
        "from sklearn.model_selection import KFold\n",
        "from tensorflow.keras.datasets import cifar10\n",
        "from tensorflow.keras.utils import to_categorical\n",
        "from tensorflow.keras.models import Sequential\n",
        "from tensorflow.keras.layers import Conv2D, MaxPooling2D, Dense, Flatten, Dropout\n",
        "from tensorflow.keras.optimizers import Adam"
      ]
    },
    {
      "cell_type": "markdown",
      "metadata": {
        "id": "jFGaN5sRF4mI"
      },
      "source": [
        "### Cifar 10\n",
        "O cifar10 é um conjunto de dados com 60.000 imagens coloridas (50.000 de treinamento e 10.000 de teste), de formato 32 x 32 x 3. Estão distribuídas em 10 classes de 6.000 imagens cada.\n",
        "\n",
        "Fonte: https://www.tensorflow.org/datasets/catalog/cifar10?hl=pt-br"
      ]
    },
    {
      "cell_type": "code",
      "execution_count": null,
      "metadata": {
        "colab": {
          "base_uri": "https://localhost:8080/"
        },
        "id": "0oTJGJS7_oQq",
        "outputId": "a1149361-f51c-4a50-b44d-c542f2a56bb1"
      },
      "outputs": [
        {
          "name": "stdout",
          "output_type": "stream",
          "text": [
            "Downloading data from https://www.cs.toronto.edu/~kriz/cifar-10-python.tar.gz\n",
            "170498071/170498071 [==============================] - 4s 0us/step\n"
          ]
        }
      ],
      "source": [
        "# Carregando o dataset\n",
        "(trainX, trainY), (testX, testY) = cifar10.load_data()"
      ]
    },
    {
      "cell_type": "code",
      "execution_count": null,
      "metadata": {
        "id": "fIhMNN9u8063"
      },
      "outputs": [],
      "source": [
        "# fazendo um reshape no dataset para ter um único canal\n",
        "trainX = trainX.reshape((trainX.shape[0], 32, 32, 3))\n",
        "testX = testX.reshape((testX.shape[0], 32, 32, 3))\n",
        "\n",
        "# Convertendo valores dos pixels em float\n",
        "trainX = trainX.astype('float32')\n",
        "testX = testX.astype('float32')\n",
        "\n",
        "# normalização para escala [0-1]\n",
        "trainX = trainX / 255.0\n",
        "testX = testX / 255.0\n",
        "\n",
        "# transformando a variável alvo (target) para uma codificação one hot\n",
        "trainY = to_categorical(trainY)\n",
        "testY = to_categorical(testY)"
      ]
    },
    {
      "cell_type": "code",
      "execution_count": null,
      "metadata": {
        "id": "suXiZFlbAmmi"
      },
      "outputs": [],
      "source": [
        "# definindo modelo\n",
        "def define_model():\n",
        "  model = Sequential()\n",
        "  model.add(Conv2D(32, (3, 3), activation='relu', input_shape=(32, 32, 3)))\n",
        "  model.add(MaxPooling2D((2, 2)))\n",
        "  model.add(Flatten())\n",
        "  model.add(Dense(100, activation='relu'))\n",
        "  model.add(Dense(10, activation='softmax'))\n",
        "  \n",
        "  # compilando modelo\n",
        "  opt = Adam(learning_rate=0.001)\n",
        "  model.compile(optimizer=opt, loss='categorical_crossentropy', metrics=['accuracy'])\n",
        "  return model"
      ]
    },
    {
      "cell_type": "code",
      "execution_count": null,
      "metadata": {
        "colab": {
          "base_uri": "https://localhost:8080/",
          "height": 1000
        },
        "id": "vNMJ1WpeUNgp",
        "outputId": "6983226f-67d6-4b25-ef70-a181f2204188"
      },
      "outputs": [
        {
          "name": "stdout",
          "output_type": "stream",
          "text": [
            "Epoch 1/10\n",
            "1250/1250 [==============================] - 55s 43ms/step - loss: 1.5566 - accuracy: 0.4373 - val_loss: 1.3319 - val_accuracy: 0.5311\n",
            "Epoch 2/10\n",
            "1250/1250 [==============================] - 50s 40ms/step - loss: 1.2563 - accuracy: 0.5576 - val_loss: 1.2345 - val_accuracy: 0.5630\n",
            "Epoch 3/10\n",
            "1250/1250 [==============================] - 46s 37ms/step - loss: 1.1507 - accuracy: 0.5948 - val_loss: 1.1734 - val_accuracy: 0.5897\n",
            "Epoch 4/10\n",
            "1250/1250 [==============================] - 45s 36ms/step - loss: 1.0700 - accuracy: 0.6241 - val_loss: 1.1801 - val_accuracy: 0.5875\n",
            "Epoch 5/10\n",
            "1250/1250 [==============================] - 48s 39ms/step - loss: 1.0112 - accuracy: 0.6465 - val_loss: 1.1836 - val_accuracy: 0.5867\n",
            "Epoch 6/10\n",
            "1250/1250 [==============================] - 48s 39ms/step - loss: 0.9607 - accuracy: 0.6630 - val_loss: 1.1308 - val_accuracy: 0.6109\n",
            "Epoch 7/10\n",
            "1250/1250 [==============================] - 49s 39ms/step - loss: 0.9159 - accuracy: 0.6787 - val_loss: 1.1243 - val_accuracy: 0.6155\n",
            "Epoch 8/10\n",
            "1250/1250 [==============================] - 49s 40ms/step - loss: 0.8718 - accuracy: 0.6946 - val_loss: 1.1457 - val_accuracy: 0.6133\n",
            "Epoch 9/10\n",
            "1250/1250 [==============================] - 44s 35ms/step - loss: 0.8377 - accuracy: 0.7067 - val_loss: 1.1073 - val_accuracy: 0.6266\n",
            "Epoch 10/10\n",
            "1250/1250 [==============================] - 46s 37ms/step - loss: 0.7966 - accuracy: 0.7233 - val_loss: 1.0791 - val_accuracy: 0.6407\n",
            "> 64.070\n",
            "Epoch 1/10\n",
            "1250/1250 [==============================] - 51s 40ms/step - loss: 1.4830 - accuracy: 0.4700 - val_loss: 1.2885 - val_accuracy: 0.5426\n",
            "Epoch 2/10\n",
            "1250/1250 [==============================] - 46s 37ms/step - loss: 1.1929 - accuracy: 0.5803 - val_loss: 1.1444 - val_accuracy: 0.5965\n",
            "Epoch 3/10\n",
            "1250/1250 [==============================] - 42s 34ms/step - loss: 1.0479 - accuracy: 0.6345 - val_loss: 1.1385 - val_accuracy: 0.6023\n",
            "Epoch 4/10\n",
            "1250/1250 [==============================] - 53s 42ms/step - loss: 0.9495 - accuracy: 0.6675 - val_loss: 1.0661 - val_accuracy: 0.6318\n",
            "Epoch 5/10\n",
            "1250/1250 [==============================] - 42s 34ms/step - loss: 0.8690 - accuracy: 0.6937 - val_loss: 1.0376 - val_accuracy: 0.6404\n",
            "Epoch 6/10\n",
            "1250/1250 [==============================] - 44s 35ms/step - loss: 0.7892 - accuracy: 0.7235 - val_loss: 1.1019 - val_accuracy: 0.6313\n",
            "Epoch 7/10\n",
            "1250/1250 [==============================] - 44s 35ms/step - loss: 0.7174 - accuracy: 0.7481 - val_loss: 1.0987 - val_accuracy: 0.6369\n",
            "Epoch 8/10\n",
            "1250/1250 [==============================] - 43s 35ms/step - loss: 0.6531 - accuracy: 0.7718 - val_loss: 1.0888 - val_accuracy: 0.6399\n",
            "Epoch 9/10\n",
            "1250/1250 [==============================] - 47s 37ms/step - loss: 0.5868 - accuracy: 0.7953 - val_loss: 1.1013 - val_accuracy: 0.6475\n",
            "Epoch 10/10\n",
            "1250/1250 [==============================] - 43s 34ms/step - loss: 0.5258 - accuracy: 0.8153 - val_loss: 1.2103 - val_accuracy: 0.6350\n",
            "> 63.500\n",
            "Epoch 1/10\n",
            "1250/1250 [==============================] - 44s 35ms/step - loss: 1.4817 - accuracy: 0.4727 - val_loss: 1.2587 - val_accuracy: 0.5568\n",
            "Epoch 2/10\n",
            "1250/1250 [==============================] - 46s 37ms/step - loss: 1.1810 - accuracy: 0.5847 - val_loss: 1.1959 - val_accuracy: 0.5748\n",
            "Epoch 3/10\n",
            "1250/1250 [==============================] - 44s 35ms/step - loss: 1.0454 - accuracy: 0.6340 - val_loss: 1.1532 - val_accuracy: 0.5960\n",
            "Epoch 4/10\n",
            "1250/1250 [==============================] - 46s 37ms/step - loss: 0.9585 - accuracy: 0.6627 - val_loss: 1.0819 - val_accuracy: 0.6228\n",
            "Epoch 5/10\n",
            "1250/1250 [==============================] - 45s 36ms/step - loss: 0.8729 - accuracy: 0.6927 - val_loss: 1.0737 - val_accuracy: 0.6299\n",
            "Epoch 6/10\n",
            "1250/1250 [==============================] - 44s 36ms/step - loss: 0.8055 - accuracy: 0.7155 - val_loss: 1.1364 - val_accuracy: 0.6203\n",
            "Epoch 7/10\n",
            "1250/1250 [==============================] - 43s 34ms/step - loss: 0.7384 - accuracy: 0.7403 - val_loss: 1.0755 - val_accuracy: 0.6405\n",
            "Epoch 8/10\n",
            "1250/1250 [==============================] - 46s 36ms/step - loss: 0.6750 - accuracy: 0.7623 - val_loss: 1.0967 - val_accuracy: 0.6349\n",
            "Epoch 9/10\n",
            "1250/1250 [==============================] - 44s 35ms/step - loss: 0.6149 - accuracy: 0.7860 - val_loss: 1.1368 - val_accuracy: 0.6359\n",
            "Epoch 10/10\n",
            "1250/1250 [==============================] - 43s 35ms/step - loss: 0.5621 - accuracy: 0.8027 - val_loss: 1.1879 - val_accuracy: 0.6294\n",
            "> 62.940\n",
            "Epoch 1/10\n",
            "1250/1250 [==============================] - 46s 36ms/step - loss: 1.4761 - accuracy: 0.4747 - val_loss: 1.3152 - val_accuracy: 0.5353\n",
            "Epoch 2/10\n",
            "1250/1250 [==============================] - 44s 36ms/step - loss: 1.1817 - accuracy: 0.5857 - val_loss: 1.1750 - val_accuracy: 0.5739\n",
            "Epoch 3/10\n",
            "1250/1250 [==============================] - 45s 36ms/step - loss: 1.0507 - accuracy: 0.6304 - val_loss: 1.1154 - val_accuracy: 0.6049\n",
            "Epoch 4/10\n",
            "1250/1250 [==============================] - 45s 36ms/step - loss: 0.9552 - accuracy: 0.6637 - val_loss: 1.0654 - val_accuracy: 0.6300\n",
            "Epoch 5/10\n",
            "1250/1250 [==============================] - 44s 35ms/step - loss: 0.8787 - accuracy: 0.6913 - val_loss: 1.0829 - val_accuracy: 0.6225\n",
            "Epoch 6/10\n",
            "1250/1250 [==============================] - 45s 36ms/step - loss: 0.8146 - accuracy: 0.7125 - val_loss: 1.0782 - val_accuracy: 0.6300\n",
            "Epoch 7/10\n",
            "1250/1250 [==============================] - 43s 34ms/step - loss: 0.7467 - accuracy: 0.7378 - val_loss: 1.1430 - val_accuracy: 0.6225\n",
            "Epoch 8/10\n",
            "1250/1250 [==============================] - 45s 36ms/step - loss: 0.6892 - accuracy: 0.7577 - val_loss: 1.0966 - val_accuracy: 0.6386\n",
            "Epoch 9/10\n",
            "1250/1250 [==============================] - 43s 35ms/step - loss: 0.6297 - accuracy: 0.7790 - val_loss: 1.1740 - val_accuracy: 0.6252\n",
            "Epoch 10/10\n",
            "1250/1250 [==============================] - 43s 34ms/step - loss: 0.5759 - accuracy: 0.7983 - val_loss: 1.1865 - val_accuracy: 0.6294\n",
            "> 62.940\n",
            "Epoch 1/10\n",
            "1250/1250 [==============================] - 45s 36ms/step - loss: 1.4976 - accuracy: 0.4654 - val_loss: 1.2773 - val_accuracy: 0.5572\n",
            "Epoch 2/10\n",
            "1250/1250 [==============================] - 45s 36ms/step - loss: 1.2160 - accuracy: 0.5755 - val_loss: 1.2099 - val_accuracy: 0.5788\n",
            "Epoch 3/10\n",
            "1250/1250 [==============================] - 45s 36ms/step - loss: 1.0989 - accuracy: 0.6167 - val_loss: 1.1527 - val_accuracy: 0.5970\n",
            "Epoch 4/10\n",
            "1250/1250 [==============================] - 43s 35ms/step - loss: 1.0197 - accuracy: 0.6442 - val_loss: 1.1458 - val_accuracy: 0.5989\n",
            "Epoch 5/10\n",
            "1250/1250 [==============================] - 45s 36ms/step - loss: 0.9484 - accuracy: 0.6703 - val_loss: 1.1222 - val_accuracy: 0.6160\n",
            "Epoch 6/10\n",
            "1250/1250 [==============================] - 46s 37ms/step - loss: 0.8945 - accuracy: 0.6890 - val_loss: 1.1451 - val_accuracy: 0.6094\n",
            "Epoch 7/10\n",
            "1250/1250 [==============================] - 48s 38ms/step - loss: 0.8403 - accuracy: 0.7044 - val_loss: 1.1125 - val_accuracy: 0.6220\n",
            "Epoch 8/10\n",
            "1250/1250 [==============================] - 46s 37ms/step - loss: 0.7931 - accuracy: 0.7221 - val_loss: 1.2095 - val_accuracy: 0.5909\n",
            "Epoch 9/10\n",
            "1250/1250 [==============================] - 45s 36ms/step - loss: 0.7447 - accuracy: 0.7392 - val_loss: 1.1435 - val_accuracy: 0.6148\n",
            "Epoch 10/10\n",
            "1250/1250 [==============================] - 46s 37ms/step - loss: 0.7007 - accuracy: 0.7542 - val_loss: 1.1266 - val_accuracy: 0.6311\n",
            "> 63.110\n",
            "Acurácia: média=63.312 desvio=0.431\n"
          ]
        },
        {
          "data": {
            "image/png": "[encoded data removed]",
            "text/plain": [
              "<Figure size 432x288 with 1 Axes>"
            ]
          },
          "metadata": {
            "needs_background": "light"
          },
          "output_type": "display_data"
        }
      ],
      "source": [
        "scores = [] \n",
        "histories = []\n",
        "\n",
        "# definindo a validação k-fold\n",
        "kfold = KFold(5, shuffle=True, random_state=1)\n",
        "\n",
        "# loop para as k-folds (cada fold usa subconjuntos de treino e teste diferentes)\n",
        "for train_ix, test_ix in kfold.split(trainX):\n",
        "  \n",
        "  model = define_model()\n",
        "  \n",
        "  # recorta dados de acordo com índices da k-fold\n",
        "  train_data, train_target, val_data, val_target = trainX[train_ix], trainY[train_ix], trainX[test_ix], trainY[test_ix]\n",
        "  \n",
        "  # treinamento do modelo\n",
        "  history = model.fit(train_data, train_target, \n",
        "                      epochs=10, batch_size=32, \n",
        "                      validation_data=(val_data, val_target), \n",
        "                      verbose=1)\n",
        "  \n",
        "  # desempenho do modelo\n",
        "  _, acc = model.evaluate(val_data, val_target, verbose=0)\n",
        "  print('> %.3f' % (acc * 100.0))\n",
        "  \n",
        "  # armazena resultados de cada modelo treinado dentro da k-fold\n",
        "  scores.append(acc)\n",
        "  histories.append(history)\n",
        "\n",
        "print('Acurácia: média=%.3f desvio=%.3f' % (np.mean(scores)*100, np.std(scores)*100))\n",
        "plt.boxplot(scores)\n",
        "plt.show()"
      ]
    },
    {
      "cell_type": "code",
      "execution_count": null,
      "metadata": {
        "colab": {
          "base_uri": "https://localhost:8080/",
          "height": 266
        },
        "id": "-kQjP09ZfjEF",
        "outputId": "f412d6b9-4410-4ae8-fad6-5db3980b90b3"
      },
      "outputs": [
        {
          "data": {
            "image/png": "[encoded data removed]",
            "text/plain": [
              "<Figure size 432x288 with 1 Axes>"
            ]
          },
          "metadata": {
            "needs_background": "light"
          },
          "output_type": "display_data"
        }
      ],
      "source": [
        "plt.imshow(testX[15,:,:,0], cmap='gray');"
      ]
    },
    {
      "cell_type": "code",
      "execution_count": null,
      "metadata": {
        "colab": {
          "base_uri": "https://localhost:8080/"
        },
        "id": "Q_MpGPWwfnGE",
        "outputId": "6dcadd99-8f66-4a1e-c23e-7bbc83d52f24"
      },
      "outputs": [
        {
          "name": "stdout",
          "output_type": "stream",
          "text": [
            "1/1 [==============================] - 0s 137ms/step\n"
          ]
        },
        {
          "data": {
            "text/plain": [
              "8"
            ]
          },
          "execution_count": 10,
          "metadata": {},
          "output_type": "execute_result"
        }
      ],
      "source": [
        "np.argmax(model.predict(np.expand_dims(testX[15], axis=0)))"
      ]
    },
    {
      "cell_type": "markdown",
      "metadata": {
        "id": "fkNkvtE0IRk1"
      },
      "source": [
        "Experimente adicionar mais dois blocos de camadas Conv2D (64 filtros 3x3 - relu) + MaxPooling (2 x 2) antes da camada Flatten e compare os resultados.\n",
        "\n",
        "\n",
        "Seguindo o modelo modificado no item anterior, experimente adicionar um Dropout de 20% após cada camada MaxPooling. Comente os resultados obtidos."
      ]
    },
    {
      "cell_type": "code",
      "execution_count": null,
      "metadata": {
        "id": "KaqJxSdfIGQn"
      },
      "outputs": [],
      "source": [
        "# Adicionando Conv2D (64 filtros 3x3 - relu) + MaxPooling (2 x 2)\n",
        "def define_model_1():\n",
        "  model = Sequential()\n",
        "  model.add(Conv2D(32, (3, 3), activation='relu', input_shape=(32, 32, 3)))\n",
        "  model.add(MaxPooling2D((2, 2)))\n",
        "  model.add(Conv2D(64, (3, 3), activation='relu', input_shape=(32, 32, 3)))\n",
        "  model.add(MaxPooling2D((2, 2)))\n",
        "  model.add(Flatten())\n",
        "  model.add(Dense(100, activation='relu'))\n",
        "  model.add(Dense(10, activation='softmax'))\n",
        "  \n",
        "  # compilando modelo\n",
        "  opt = Adam(learning_rate=0.001)\n",
        "  model.compile(optimizer=opt, loss='categorical_crossentropy', metrics=['accuracy'])\n",
        "  return model"
      ]
    },
    {
      "cell_type": "code",
      "execution_count": null,
      "metadata": {
        "colab": {
          "base_uri": "https://localhost:8080/",
          "height": 1000
        },
        "id": "eqCx46PgJN1N",
        "outputId": "191b2c84-ae98-4555-8bf7-367532725ccd"
      },
      "outputs": [
        {
          "name": "stdout",
          "output_type": "stream",
          "text": [
            "Epoch 1/10\n",
            "1250/1250 [==============================] - 68s 54ms/step - loss: 1.4837 - accuracy: 0.4642 - val_loss: 1.2101 - val_accuracy: 0.5711\n",
            "Epoch 2/10\n",
            "1250/1250 [==============================] - 65s 52ms/step - loss: 1.1289 - accuracy: 0.6028 - val_loss: 1.0629 - val_accuracy: 0.6202\n",
            "Epoch 3/10\n",
            "1250/1250 [==============================] - 67s 53ms/step - loss: 0.9832 - accuracy: 0.6583 - val_loss: 0.9877 - val_accuracy: 0.6573\n",
            "Epoch 4/10\n",
            "1250/1250 [==============================] - 66s 52ms/step - loss: 0.8842 - accuracy: 0.6918 - val_loss: 0.9541 - val_accuracy: 0.6698\n",
            "Epoch 5/10\n",
            "1250/1250 [==============================] - 65s 52ms/step - loss: 0.8054 - accuracy: 0.7175 - val_loss: 0.9666 - val_accuracy: 0.6639\n",
            "Epoch 6/10\n",
            "1250/1250 [==============================] - 65s 52ms/step - loss: 0.7327 - accuracy: 0.7449 - val_loss: 0.8980 - val_accuracy: 0.6887\n",
            "Epoch 7/10\n",
            "1250/1250 [==============================] - 66s 53ms/step - loss: 0.6657 - accuracy: 0.7679 - val_loss: 0.9218 - val_accuracy: 0.6839\n",
            "Epoch 8/10\n",
            "1250/1250 [==============================] - 65s 52ms/step - loss: 0.6088 - accuracy: 0.7874 - val_loss: 0.9683 - val_accuracy: 0.6715\n",
            "Epoch 9/10\n",
            "1250/1250 [==============================] - 65s 52ms/step - loss: 0.5564 - accuracy: 0.8042 - val_loss: 0.9487 - val_accuracy: 0.6914\n",
            "Epoch 10/10\n",
            "1250/1250 [==============================] - 63s 51ms/step - loss: 0.5083 - accuracy: 0.8201 - val_loss: 0.9554 - val_accuracy: 0.6944\n",
            "> 69.440\n",
            "Epoch 1/10\n",
            "1250/1250 [==============================] - 66s 52ms/step - loss: 1.4798 - accuracy: 0.4695 - val_loss: 1.1602 - val_accuracy: 0.5947\n",
            "Epoch 2/10\n",
            "1250/1250 [==============================] - 67s 53ms/step - loss: 1.1234 - accuracy: 0.6051 - val_loss: 1.0416 - val_accuracy: 0.6340\n",
            "Epoch 3/10\n",
            "1250/1250 [==============================] - 66s 53ms/step - loss: 0.9779 - accuracy: 0.6594 - val_loss: 1.0514 - val_accuracy: 0.6320\n",
            "Epoch 4/10\n",
            "1250/1250 [==============================] - 68s 54ms/step - loss: 0.8906 - accuracy: 0.6884 - val_loss: 0.9629 - val_accuracy: 0.6626\n",
            "Epoch 5/10\n",
            "1250/1250 [==============================] - 67s 53ms/step - loss: 0.8086 - accuracy: 0.7193 - val_loss: 1.0011 - val_accuracy: 0.6576\n",
            "Epoch 6/10\n",
            "1250/1250 [==============================] - 68s 54ms/step - loss: 0.7408 - accuracy: 0.7414 - val_loss: 0.9389 - val_accuracy: 0.6841\n",
            "Epoch 7/10\n",
            "1250/1250 [==============================] - 72s 57ms/step - loss: 0.6765 - accuracy: 0.7630 - val_loss: 0.9631 - val_accuracy: 0.6825\n",
            "Epoch 8/10\n",
            "1250/1250 [==============================] - 64s 52ms/step - loss: 0.6165 - accuracy: 0.7826 - val_loss: 1.0388 - val_accuracy: 0.6744\n",
            "Epoch 9/10\n",
            "1250/1250 [==============================] - 64s 51ms/step - loss: 0.5639 - accuracy: 0.8031 - val_loss: 1.0660 - val_accuracy: 0.6618\n",
            "Epoch 10/10\n",
            "1250/1250 [==============================] - 63s 50ms/step - loss: 0.5109 - accuracy: 0.8215 - val_loss: 1.0374 - val_accuracy: 0.6773\n",
            "> 67.730\n",
            "Epoch 1/10\n",
            "1250/1250 [==============================] - 68s 54ms/step - loss: 1.5396 - accuracy: 0.4426 - val_loss: 1.2590 - val_accuracy: 0.5462\n",
            "Epoch 2/10\n",
            "1250/1250 [==============================] - 65s 52ms/step - loss: 1.1749 - accuracy: 0.5848 - val_loss: 1.1798 - val_accuracy: 0.5857\n",
            "Epoch 3/10\n",
            "1250/1250 [==============================] - 66s 53ms/step - loss: 1.0147 - accuracy: 0.6437 - val_loss: 1.0399 - val_accuracy: 0.6328\n",
            "Epoch 4/10\n",
            "1250/1250 [==============================] - 69s 55ms/step - loss: 0.9235 - accuracy: 0.6786 - val_loss: 0.9563 - val_accuracy: 0.6734\n",
            "Epoch 5/10\n",
            "1250/1250 [==============================] - 74s 59ms/step - loss: 0.8498 - accuracy: 0.7044 - val_loss: 0.9620 - val_accuracy: 0.6679\n",
            "Epoch 6/10\n",
            "1250/1250 [==============================] - 69s 55ms/step - loss: 0.7951 - accuracy: 0.7234 - val_loss: 0.9389 - val_accuracy: 0.6828\n",
            "Epoch 7/10\n",
            "1250/1250 [==============================] - 69s 55ms/step - loss: 0.7409 - accuracy: 0.7403 - val_loss: 0.9406 - val_accuracy: 0.6917\n",
            "Epoch 8/10\n",
            "1250/1250 [==============================] - 68s 54ms/step - loss: 0.6869 - accuracy: 0.7600 - val_loss: 0.9123 - val_accuracy: 0.6947\n",
            "Epoch 9/10\n",
            "1250/1250 [==============================] - 68s 54ms/step - loss: 0.6395 - accuracy: 0.7776 - val_loss: 0.9393 - val_accuracy: 0.6948\n",
            "Epoch 10/10\n",
            "1250/1250 [==============================] - 65s 52ms/step - loss: 0.5930 - accuracy: 0.7946 - val_loss: 0.9561 - val_accuracy: 0.6982\n",
            "> 69.820\n",
            "Epoch 1/10\n",
            "1250/1250 [==============================] - 69s 54ms/step - loss: 1.5027 - accuracy: 0.4575 - val_loss: 1.2541 - val_accuracy: 0.5564\n",
            "Epoch 2/10\n",
            "1250/1250 [==============================] - 65s 52ms/step - loss: 1.1501 - accuracy: 0.5941 - val_loss: 1.1522 - val_accuracy: 0.5960\n",
            "Epoch 3/10\n",
            "1250/1250 [==============================] - 66s 53ms/step - loss: 1.0088 - accuracy: 0.6474 - val_loss: 1.0368 - val_accuracy: 0.6428\n",
            "Epoch 4/10\n",
            "1250/1250 [==============================] - 65s 52ms/step - loss: 0.9093 - accuracy: 0.6831 - val_loss: 1.1029 - val_accuracy: 0.6182\n",
            "Epoch 5/10\n",
            "1250/1250 [==============================] - 65s 52ms/step - loss: 0.8347 - accuracy: 0.7085 - val_loss: 0.9487 - val_accuracy: 0.6764\n",
            "Epoch 6/10\n",
            "1250/1250 [==============================] - 65s 52ms/step - loss: 0.7689 - accuracy: 0.7308 - val_loss: 0.9250 - val_accuracy: 0.6823\n",
            "Epoch 7/10\n",
            "1250/1250 [==============================] - 62s 50ms/step - loss: 0.7063 - accuracy: 0.7521 - val_loss: 0.9804 - val_accuracy: 0.6729\n",
            "Epoch 8/10\n",
            "1250/1250 [==============================] - 64s 51ms/step - loss: 0.6452 - accuracy: 0.7742 - val_loss: 0.9185 - val_accuracy: 0.6908\n",
            "Epoch 9/10\n",
            "1250/1250 [==============================] - 66s 52ms/step - loss: 0.5938 - accuracy: 0.7907 - val_loss: 0.9988 - val_accuracy: 0.6794\n",
            "Epoch 10/10\n",
            "1250/1250 [==============================] - 64s 51ms/step - loss: 0.5416 - accuracy: 0.8096 - val_loss: 0.9969 - val_accuracy: 0.6893\n",
            "> 68.930\n",
            "Epoch 1/10\n",
            "1250/1250 [==============================] - 67s 52ms/step - loss: 1.4844 - accuracy: 0.4670 - val_loss: 1.2264 - val_accuracy: 0.5682\n",
            "Epoch 2/10\n",
            "1250/1250 [==============================] - 66s 53ms/step - loss: 1.1211 - accuracy: 0.6043 - val_loss: 1.1527 - val_accuracy: 0.6000\n",
            "Epoch 3/10\n",
            "1250/1250 [==============================] - 62s 50ms/step - loss: 0.9871 - accuracy: 0.6571 - val_loss: 1.0464 - val_accuracy: 0.6322\n",
            "Epoch 4/10\n",
            "1250/1250 [==============================] - 64s 51ms/step - loss: 0.8942 - accuracy: 0.6899 - val_loss: 1.0239 - val_accuracy: 0.6396\n",
            "Epoch 5/10\n",
            "1250/1250 [==============================] - 63s 51ms/step - loss: 0.8172 - accuracy: 0.7131 - val_loss: 0.9519 - val_accuracy: 0.6712\n",
            "Epoch 6/10\n",
            "1250/1250 [==============================] - 63s 51ms/step - loss: 0.7381 - accuracy: 0.7461 - val_loss: 0.9625 - val_accuracy: 0.6755\n",
            "Epoch 7/10\n",
            "1250/1250 [==============================] - 63s 51ms/step - loss: 0.6774 - accuracy: 0.7667 - val_loss: 0.9933 - val_accuracy: 0.6650\n",
            "Epoch 8/10\n",
            "1250/1250 [==============================] - 63s 50ms/step - loss: 0.6161 - accuracy: 0.7848 - val_loss: 0.9892 - val_accuracy: 0.6777\n",
            "Epoch 9/10\n",
            "1250/1250 [==============================] - 65s 52ms/step - loss: 0.5597 - accuracy: 0.8046 - val_loss: 0.9983 - val_accuracy: 0.6826\n",
            "Epoch 10/10\n",
            "1250/1250 [==============================] - 66s 53ms/step - loss: 0.5034 - accuracy: 0.8260 - val_loss: 1.0479 - val_accuracy: 0.6752\n",
            "> 67.520\n",
            "Acurácia: média=68.688 desvio=0.915\n"
          ]
        },
        {
          "data": {
            "image/png": "[encoded data removed]",
            "text/plain": [
              "<Figure size 432x288 with 1 Axes>"
            ]
          },
          "metadata": {
            "needs_background": "light"
          },
          "output_type": "display_data"
        }
      ],
      "source": [
        "scores = [] \n",
        "histories = []\n",
        "\n",
        "# definindo a validação k-fold\n",
        "kfold = KFold(5, shuffle=True, random_state=1)\n",
        "\n",
        "# loop para as k-folds (cada fold usa subconjuntos de treino e teste diferentes)\n",
        "for train_ix, test_ix in kfold.split(trainX):\n",
        "  \n",
        "  model = define_model_1()\n",
        "  \n",
        "  # recorta dados de acordo com índices da k-fold\n",
        "  train_data, train_target, val_data, val_target = trainX[train_ix], trainY[train_ix], trainX[test_ix], trainY[test_ix]\n",
        "  \n",
        "  # treinamento do modelo\n",
        "  history = model.fit(train_data, train_target, \n",
        "                      epochs=10, batch_size=32, \n",
        "                      validation_data=(val_data, val_target), \n",
        "                      verbose=1)\n",
        "  \n",
        "  # desempenho do modelo\n",
        "  _, acc = model.evaluate(val_data, val_target, verbose=0)\n",
        "  print('> %.3f' % (acc * 100.0))\n",
        "  \n",
        "  # armazena resultados de cada modelo treinado dentro da k-fold\n",
        "  scores.append(acc)\n",
        "  histories.append(history)\n",
        "\n",
        "print('Acurácia: média=%.3f desvio=%.3f' % (np.mean(scores)*100, np.std(scores)*100))\n",
        "plt.boxplot(scores)\n",
        "plt.show()"
      ]
    },
    {
      "cell_type": "code",
      "execution_count": null,
      "metadata": {
        "id": "15PXOA_DIvr9"
      },
      "outputs": [],
      "source": [
        "# Adicionando um Dropout de 20% após cada camada MaxPooling\n",
        "def define_model_2():\n",
        "  model = Sequential()\n",
        "  model.add(Conv2D(32, (3, 3), activation='relu', input_shape=(32, 32, 3)))\n",
        "  model.add(MaxPooling2D((2, 2)))\n",
        "  model.add(Dropout(0.2))\n",
        "  model.add(Conv2D(64, (3, 3), activation='relu', input_shape=(32, 32, 3)))\n",
        "  model.add(MaxPooling2D((2, 2)))\n",
        "  model.add(Dropout(0.2))\n",
        "  model.add(Flatten())\n",
        "  model.add(Dense(100, activation='relu'))\n",
        "  model.add(Dense(10, activation='softmax'))\n",
        "  \n",
        "  # compilando modelo\n",
        "  opt = Adam(learning_rate=0.001)\n",
        "  model.compile(optimizer=opt, loss='categorical_crossentropy', metrics=['accuracy'])\n",
        "  return model"
      ]
    },
    {
      "cell_type": "code",
      "execution_count": null,
      "metadata": {
        "colab": {
          "base_uri": "https://localhost:8080/",
          "height": 1000
        },
        "id": "palk_YSTKRxH",
        "outputId": "82e4337e-3522-44ba-b662-103a6f7e2760"
      },
      "outputs": [
        {
          "name": "stdout",
          "output_type": "stream",
          "text": [
            "Epoch 1/10\n",
            "1250/1250 [==============================] - 73s 58ms/step - loss: 1.5780 - accuracy: 0.4252 - val_loss: 1.2749 - val_accuracy: 0.5583\n",
            "Epoch 2/10\n",
            "1250/1250 [==============================] - 71s 57ms/step - loss: 1.2183 - accuracy: 0.5698 - val_loss: 1.0922 - val_accuracy: 0.6207\n",
            "Epoch 3/10\n",
            "1250/1250 [==============================] - 76s 61ms/step - loss: 1.0853 - accuracy: 0.6178 - val_loss: 1.0348 - val_accuracy: 0.6377\n",
            "Epoch 4/10\n",
            "1250/1250 [==============================] - 72s 58ms/step - loss: 0.9976 - accuracy: 0.6534 - val_loss: 1.0315 - val_accuracy: 0.6353\n",
            "Epoch 5/10\n",
            "1250/1250 [==============================] - 70s 56ms/step - loss: 0.9343 - accuracy: 0.6751 - val_loss: 0.9525 - val_accuracy: 0.6641\n",
            "Epoch 6/10\n",
            "1250/1250 [==============================] - 82s 65ms/step - loss: 0.8772 - accuracy: 0.6943 - val_loss: 1.0418 - val_accuracy: 0.6347\n",
            "Epoch 7/10\n",
            "1250/1250 [==============================] - 85s 68ms/step - loss: 0.8362 - accuracy: 0.7042 - val_loss: 0.9022 - val_accuracy: 0.6887\n",
            "Epoch 8/10\n",
            "1250/1250 [==============================] - 80s 64ms/step - loss: 0.7929 - accuracy: 0.7217 - val_loss: 0.8792 - val_accuracy: 0.6984\n",
            "Epoch 9/10\n",
            "1250/1250 [==============================] - 87s 69ms/step - loss: 0.7574 - accuracy: 0.7340 - val_loss: 0.8622 - val_accuracy: 0.7025\n",
            "Epoch 10/10\n",
            "1250/1250 [==============================] - 77s 62ms/step - loss: 0.7215 - accuracy: 0.7466 - val_loss: 0.8669 - val_accuracy: 0.7019\n",
            "> 70.190\n",
            "Epoch 1/10\n",
            "1250/1250 [==============================] - 71s 56ms/step - loss: 1.5312 - accuracy: 0.4460 - val_loss: 1.3526 - val_accuracy: 0.5155\n",
            "Epoch 2/10\n",
            "1250/1250 [==============================] - 73s 58ms/step - loss: 1.2057 - accuracy: 0.5732 - val_loss: 1.1702 - val_accuracy: 0.5992\n",
            "Epoch 3/10\n",
            "1250/1250 [==============================] - 72s 57ms/step - loss: 1.0828 - accuracy: 0.6187 - val_loss: 1.0161 - val_accuracy: 0.6485\n",
            "Epoch 4/10\n",
            "1250/1250 [==============================] - 78s 63ms/step - loss: 0.9969 - accuracy: 0.6492 - val_loss: 0.9662 - val_accuracy: 0.6672\n",
            "Epoch 5/10\n",
            "1250/1250 [==============================] - 75s 60ms/step - loss: 0.9331 - accuracy: 0.6761 - val_loss: 0.9421 - val_accuracy: 0.6728\n",
            "Epoch 6/10\n",
            "1250/1250 [==============================] - 73s 58ms/step - loss: 0.8714 - accuracy: 0.6950 - val_loss: 0.9082 - val_accuracy: 0.6868\n",
            "Epoch 7/10\n",
            "1250/1250 [==============================] - 75s 60ms/step - loss: 0.8249 - accuracy: 0.7086 - val_loss: 0.8816 - val_accuracy: 0.6931\n",
            "Epoch 8/10\n",
            "1250/1250 [==============================] - 81s 65ms/step - loss: 0.7796 - accuracy: 0.7268 - val_loss: 0.9308 - val_accuracy: 0.6789\n",
            "Epoch 9/10\n",
            "1250/1250 [==============================] - 77s 62ms/step - loss: 0.7472 - accuracy: 0.7371 - val_loss: 0.8455 - val_accuracy: 0.7100\n",
            "Epoch 10/10\n",
            "1250/1250 [==============================] - 75s 60ms/step - loss: 0.7120 - accuracy: 0.7489 - val_loss: 0.8471 - val_accuracy: 0.7101\n",
            "> 71.010\n",
            "Epoch 1/10\n",
            "1250/1250 [==============================] - 78s 62ms/step - loss: 1.5775 - accuracy: 0.4293 - val_loss: 1.3535 - val_accuracy: 0.5165\n",
            "Epoch 2/10\n",
            "1250/1250 [==============================] - 78s 62ms/step - loss: 1.2371 - accuracy: 0.5619 - val_loss: 1.0964 - val_accuracy: 0.6185\n",
            "Epoch 3/10\n",
            "1250/1250 [==============================] - 76s 61ms/step - loss: 1.0897 - accuracy: 0.6165 - val_loss: 1.0522 - val_accuracy: 0.6357\n",
            "Epoch 4/10\n",
            "1250/1250 [==============================] - 72s 58ms/step - loss: 1.0084 - accuracy: 0.6462 - val_loss: 1.0075 - val_accuracy: 0.6536\n",
            "Epoch 5/10\n",
            "1250/1250 [==============================] - 74s 59ms/step - loss: 0.9476 - accuracy: 0.6692 - val_loss: 0.9377 - val_accuracy: 0.6765\n",
            "Epoch 6/10\n",
            "1250/1250 [==============================] - 70s 56ms/step - loss: 0.8983 - accuracy: 0.6838 - val_loss: 0.9130 - val_accuracy: 0.6873\n",
            "Epoch 7/10\n",
            "1250/1250 [==============================] - 77s 62ms/step - loss: 0.8576 - accuracy: 0.6998 - val_loss: 0.8950 - val_accuracy: 0.6923\n",
            "Epoch 8/10\n",
            "1250/1250 [==============================] - 71s 57ms/step - loss: 0.8141 - accuracy: 0.7153 - val_loss: 0.8837 - val_accuracy: 0.6973\n",
            "Epoch 9/10\n",
            "1250/1250 [==============================] - 74s 59ms/step - loss: 0.7845 - accuracy: 0.7229 - val_loss: 0.8669 - val_accuracy: 0.7047\n",
            "Epoch 10/10\n",
            "1250/1250 [==============================] - 70s 56ms/step - loss: 0.7579 - accuracy: 0.7325 - val_loss: 0.8821 - val_accuracy: 0.6997\n",
            "> 69.970\n",
            "Epoch 1/10\n",
            "1250/1250 [==============================] - 82s 63ms/step - loss: 1.5605 - accuracy: 0.4347 - val_loss: 1.2831 - val_accuracy: 0.5523\n",
            "Epoch 2/10\n",
            "1250/1250 [==============================] - 75s 60ms/step - loss: 1.2127 - accuracy: 0.5723 - val_loss: 1.2067 - val_accuracy: 0.5809\n",
            "Epoch 3/10\n",
            "1250/1250 [==============================] - 74s 59ms/step - loss: 1.0910 - accuracy: 0.6190 - val_loss: 1.0134 - val_accuracy: 0.6564\n",
            "Epoch 4/10\n",
            "1250/1250 [==============================] - 73s 58ms/step - loss: 1.0002 - accuracy: 0.6524 - val_loss: 0.9730 - val_accuracy: 0.6656\n",
            "Epoch 5/10\n",
            "1250/1250 [==============================] - 75s 60ms/step - loss: 0.9442 - accuracy: 0.6697 - val_loss: 0.9672 - val_accuracy: 0.6741\n",
            "Epoch 6/10\n",
            "1250/1250 [==============================] - 72s 58ms/step - loss: 0.9008 - accuracy: 0.6855 - val_loss: 0.9638 - val_accuracy: 0.6682\n",
            "Epoch 7/10\n",
            "1250/1250 [==============================] - 74s 59ms/step - loss: 0.8608 - accuracy: 0.6996 - val_loss: 0.9000 - val_accuracy: 0.6954\n",
            "Epoch 8/10\n",
            "1250/1250 [==============================] - 74s 60ms/step - loss: 0.8213 - accuracy: 0.7112 - val_loss: 0.9006 - val_accuracy: 0.6913\n",
            "Epoch 9/10\n",
            "1250/1250 [==============================] - 81s 65ms/step - loss: 0.7862 - accuracy: 0.7248 - val_loss: 0.8836 - val_accuracy: 0.6986\n",
            "Epoch 10/10\n",
            "1250/1250 [==============================] - 71s 57ms/step - loss: 0.7605 - accuracy: 0.7325 - val_loss: 0.9088 - val_accuracy: 0.6891\n",
            "> 68.910\n",
            "Epoch 1/10\n",
            "1250/1250 [==============================] - 72s 57ms/step - loss: 1.5445 - accuracy: 0.4462 - val_loss: 1.3036 - val_accuracy: 0.5357\n",
            "Epoch 2/10\n",
            "1250/1250 [==============================] - 69s 55ms/step - loss: 1.1846 - accuracy: 0.5809 - val_loss: 1.0896 - val_accuracy: 0.6188\n",
            "Epoch 3/10\n",
            "1250/1250 [==============================] - 70s 56ms/step - loss: 1.0630 - accuracy: 0.6257 - val_loss: 1.0310 - val_accuracy: 0.6337\n",
            "Epoch 4/10\n",
            "1250/1250 [==============================] - 72s 58ms/step - loss: 0.9771 - accuracy: 0.6560 - val_loss: 0.9843 - val_accuracy: 0.6498\n",
            "Epoch 5/10\n",
            "1250/1250 [==============================] - 71s 57ms/step - loss: 0.9255 - accuracy: 0.6750 - val_loss: 0.9547 - val_accuracy: 0.6651\n",
            "Epoch 6/10\n",
            "1250/1250 [==============================] - 70s 56ms/step - loss: 0.8709 - accuracy: 0.6932 - val_loss: 0.9804 - val_accuracy: 0.6586\n",
            "Epoch 7/10\n",
            "1250/1250 [==============================] - 70s 56ms/step - loss: 0.8305 - accuracy: 0.7077 - val_loss: 0.9295 - val_accuracy: 0.6761\n",
            "Epoch 8/10\n",
            "1250/1250 [==============================] - 71s 57ms/step - loss: 0.7919 - accuracy: 0.7206 - val_loss: 0.9204 - val_accuracy: 0.6758\n",
            "Epoch 9/10\n",
            "1250/1250 [==============================] - 72s 58ms/step - loss: 0.7514 - accuracy: 0.7360 - val_loss: 0.8903 - val_accuracy: 0.6936\n",
            "Epoch 10/10\n",
            "1250/1250 [==============================] - 71s 57ms/step - loss: 0.7189 - accuracy: 0.7448 - val_loss: 0.8845 - val_accuracy: 0.6931\n",
            "> 69.310\n",
            "Acurácia: média=69.878 desvio=0.728\n"
          ]
        },
        {
          "data": {
            "image/png": "[encoded data removed]",
            "text/plain": [
              "<Figure size 432x288 with 1 Axes>"
            ]
          },
          "metadata": {
            "needs_background": "light"
          },
          "output_type": "display_data"
        }
      ],
      "source": [
        "scores = [] \n",
        "histories = []\n",
        "\n",
        "# definindo a validação k-fold\n",
        "kfold = KFold(5, shuffle=True, random_state=1)\n",
        "\n",
        "# loop para as k-folds (cada fold usa subconjuntos de treino e teste diferentes)\n",
        "for train_ix, test_ix in kfold.split(trainX):\n",
        "  \n",
        "  model = define_model_2()\n",
        "  \n",
        "  # recorta dados de acordo com índices da k-fold\n",
        "  train_data, train_target, val_data, val_target = trainX[train_ix], trainY[train_ix], trainX[test_ix], trainY[test_ix]\n",
        "  \n",
        "  # treinamento do modelo\n",
        "  history = model.fit(train_data, train_target, \n",
        "                      epochs=10, batch_size=32, \n",
        "                      validation_data=(val_data, val_target), \n",
        "                      verbose=1)\n",
        "  \n",
        "  # desempenho do modelo\n",
        "  _, acc = model.evaluate(val_data, val_target, verbose=0)\n",
        "  print('> %.3f' % (acc * 100.0))\n",
        "  \n",
        "  # armazena resultados de cada modelo treinado dentro da k-fold\n",
        "  scores.append(acc)\n",
        "  histories.append(history)\n",
        "\n",
        "print('Acurácia: média=%.3f desvio=%.3f' % (np.mean(scores)*100, np.std(scores)*100))\n",
        "plt.boxplot(scores)\n",
        "plt.show()"
      ]
    },
    {
      "cell_type": "markdown",
      "metadata": {
        "id": "aVOcyWQu7kse"
      },
      "source": [
        "## Conclusão\n",
        "\n",
        "Para a resolução do exercício, partimos do modelo-base, assim considerado o anteriormente utilizado com o dataset MNIST. \n",
        "\n",
        "Para a utilização do modelo com o dataset CIFAR-10 foi necessário adequar os parâmetros da primeira camada (Conv2D), para adequá-lo ao formato das figuras (32x32x3).\n",
        "\n",
        "Depois de compilado, rodamos o modelo-base.\n",
        "\n",
        "Para a avaliação do modelo, usamos a técnica da validação cruzada K-fold. O conjunto de dados foi embaralhado (shuffle=True) e dividido por 5 vezes (n_splits), calculando-se, em cada uma delas, a acurácia, com a função model.evaluate().\n",
        "\n",
        "Os valores foram adicionados a uma lista, da qual se extraíram a média e o desvio-padrão. O boxplot resultante também foi exibido.\n",
        "\n",
        "O modelo-base apresentou acurácia média de 63.31 %, com desvio-padrão de 0.43\n",
        "\n",
        "Adicionando Conv2D (64 filtros 3x3 - relu) + MaxPooling (2 x 2), observamos acurácia de 68.69 % e desvio-padrão de 0,92.\n",
        "\n",
        "Adicionando um Dropout de 20% após cada camada MaxPooling, obtivemos acurácia média de 69.88 % e desvio-padrão de 0,73."
      ]
    }
  ],
  "metadata": {
    "colab": {
      "provenance": []
    },
    "kernelspec": {
      "display_name": "Python 3",
      "name": "python3"
    },
    "language_info": {
      "name": "python"
    }
  },
  "nbformat": 4,
  "nbformat_minor": 0
}
