{
  "cells": [
    {
      "cell_type": "markdown",
      "metadata": {
        "id": "Et08qiEeWZPv"
      },
      "source": [
        "#Importar as bibliotecas"
      ]
    },
    {
      "cell_type": "code",
      "execution_count": 1,
      "metadata": {
        "id": "MmqVJ4lVU9gk"
      },
      "outputs": [],
      "source": [
        "import pandas as pd\n",
        "import numpy as np\n",
        "import matplotlib.pyplot as plt"
      ]
    },
    {
      "cell_type": "code",
      "source": [
        "from google.colab import drive\n",
        "drive.mount('/content/drive')"
      ],
      "metadata": {
        "colab": {
          "base_uri": "https://localhost:8080/"
        },
        "id": "U0ehZ-60Aohy",
        "outputId": "ef55e8c8-8b42-43e3-a368-62f7df404e0a"
      },
      "execution_count": 2,
      "outputs": [
        {
          "output_type": "stream",
          "name": "stdout",
          "text": [
            "Drive already mounted at /content/drive; to attempt to forcibly remount, call drive.mount(\"/content/drive\", force_remount=True).\n"
          ]
        }
      ]
    },
    {
      "cell_type": "markdown",
      "source": [
        "# Benchmark\n",
        "R2 =  0.16\n",
        "\n",
        "MAE =  207.17\n",
        "\n",
        "MSE =  65779.94"
      ],
      "metadata": {
        "id": "voAHvFU2ajeY"
      }
    },
    {
      "cell_type": "markdown",
      "metadata": {
        "id": "whMsK8OISAJx"
      },
      "source": [
        "#Importar o dataset"
      ]
    },
    {
      "cell_type": "code",
      "execution_count": 3,
      "metadata": {
        "colab": {
          "base_uri": "https://localhost:8080/",
          "height": 300
        },
        "id": "altojQfOWb4D",
        "outputId": "420f20f7-59da-466f-8687-b066e7af04c8"
      },
      "outputs": [
        {
          "output_type": "execute_result",
          "data": {
            "text/plain": [
              "   ID  ARVI_mean_  ARVI_mean_0  ARVI_mean_0.2  ARVI_mean_0.4  ARVI_mean_0.6  \\\n",
              "0   1    0.826175     0.826175       0.826175       0.830084       0.891440   \n",
              "1   2    0.929867     0.929867       0.929867       0.929867       0.930354   \n",
              "2   3    0.935018     0.935018       0.935018       0.935018       0.935018   \n",
              "3   4    0.924935     0.924935       0.924935       0.924935       0.925422   \n",
              "4   5    0.924226     0.924226       0.924226       0.924226       0.924226   \n",
              "\n",
              "   ARVI_std_  ARVI_std_0  ARVI_std_0.2  ARVI_std_0.4  ...  rededge_mean_0  \\\n",
              "0   0.204087    0.204087      0.204087      0.198302  ...        0.102632   \n",
              "1   0.044495    0.044495      0.044495      0.044495  ...        0.107168   \n",
              "2   0.038189    0.038189      0.038189      0.038189  ...        0.102992   \n",
              "3   0.053082    0.053082      0.053082      0.053082  ...        0.100519   \n",
              "4   0.057756    0.057756      0.057756      0.057756  ...        0.101913   \n",
              "\n",
              "   rededge_mean_0.2  rededge_mean_0.4  rededge_mean_0.6  rededge_std_  \\\n",
              "0          0.102632          0.102359          0.101120      0.014673   \n",
              "1          0.107168          0.107168          0.107170      0.014065   \n",
              "2          0.102992          0.102992          0.102992      0.011667   \n",
              "3          0.100519          0.100519          0.100532      0.015275   \n",
              "4          0.101913          0.101913          0.101913      0.013607   \n",
              "\n",
              "   rededge_std_0  rededge_std_0.2  rededge_std_0.4  rededge_std_0.6  \\\n",
              "0       0.014673         0.014673         0.014254         0.013392   \n",
              "1       0.014065         0.014065         0.014065         0.014072   \n",
              "2       0.011667         0.011667         0.011667         0.011667   \n",
              "3       0.015275         0.015275         0.015275         0.015277   \n",
              "4       0.013607         0.013607         0.013607         0.013607   \n",
              "\n",
              "   produtividade  \n",
              "0          471.7  \n",
              "1          677.0  \n",
              "2            NaN  \n",
              "3          905.6  \n",
              "4          670.1  \n",
              "\n",
              "[5 rows x 352 columns]"
            ],
            "text/html": [
              "\n",
              "  <div id=\"df-0f4ee2ae-9e4e-4b17-8bfc-37c97ceb1610\">\n",
              "    <div class=\"colab-df-container\">\n",
              "      <div>\n",
              "<style scoped>\n",
              "    .dataframe tbody tr th:only-of-type {\n",
              "        vertical-align: middle;\n",
              "    }\n",
              "\n",
              "    .dataframe tbody tr th {\n",
              "        vertical-align: top;\n",
              "    }\n",
              "\n",
              "    .dataframe thead th {\n",
              "        text-align: right;\n",
              "    }\n",
              "</style>\n",
              "<table border=\"1\" class=\"dataframe\">\n",
              "  <thead>\n",
              "    <tr style=\"text-align: right;\">\n",
              "      <th></th>\n",
              "      <th>ID</th>\n",
              "      <th>ARVI_mean_</th>\n",
              "      <th>ARVI_mean_0</th>\n",
              "      <th>ARVI_mean_0.2</th>\n",
              "      <th>ARVI_mean_0.4</th>\n",
              "      <th>ARVI_mean_0.6</th>\n",
              "      <th>ARVI_std_</th>\n",
              "      <th>ARVI_std_0</th>\n",
              "      <th>ARVI_std_0.2</th>\n",
              "      <th>ARVI_std_0.4</th>\n",
              "      <th>...</th>\n",
              "      <th>rededge_mean_0</th>\n",
              "      <th>rededge_mean_0.2</th>\n",
              "      <th>rededge_mean_0.4</th>\n",
              "      <th>rededge_mean_0.6</th>\n",
              "      <th>rededge_std_</th>\n",
              "      <th>rededge_std_0</th>\n",
              "      <th>rededge_std_0.2</th>\n",
              "      <th>rededge_std_0.4</th>\n",
              "      <th>rededge_std_0.6</th>\n",
              "      <th>produtividade</th>\n",
              "    </tr>\n",
              "  </thead>\n",
              "  <tbody>\n",
              "    <tr>\n",
              "      <th>0</th>\n",
              "      <td>1</td>\n",
              "      <td>0.826175</td>\n",
              "      <td>0.826175</td>\n",
              "      <td>0.826175</td>\n",
              "      <td>0.830084</td>\n",
              "      <td>0.891440</td>\n",
              "      <td>0.204087</td>\n",
              "      <td>0.204087</td>\n",
              "      <td>0.204087</td>\n",
              "      <td>0.198302</td>\n",
              "      <td>...</td>\n",
              "      <td>0.102632</td>\n",
              "      <td>0.102632</td>\n",
              "      <td>0.102359</td>\n",
              "      <td>0.101120</td>\n",
              "      <td>0.014673</td>\n",
              "      <td>0.014673</td>\n",
              "      <td>0.014673</td>\n",
              "      <td>0.014254</td>\n",
              "      <td>0.013392</td>\n",
              "      <td>471.7</td>\n",
              "    </tr>\n",
              "    <tr>\n",
              "      <th>1</th>\n",
              "      <td>2</td>\n",
              "      <td>0.929867</td>\n",
              "      <td>0.929867</td>\n",
              "      <td>0.929867</td>\n",
              "      <td>0.929867</td>\n",
              "      <td>0.930354</td>\n",
              "      <td>0.044495</td>\n",
              "      <td>0.044495</td>\n",
              "      <td>0.044495</td>\n",
              "      <td>0.044495</td>\n",
              "      <td>...</td>\n",
              "      <td>0.107168</td>\n",
              "      <td>0.107168</td>\n",
              "      <td>0.107168</td>\n",
              "      <td>0.107170</td>\n",
              "      <td>0.014065</td>\n",
              "      <td>0.014065</td>\n",
              "      <td>0.014065</td>\n",
              "      <td>0.014065</td>\n",
              "      <td>0.014072</td>\n",
              "      <td>677.0</td>\n",
              "    </tr>\n",
              "    <tr>\n",
              "      <th>2</th>\n",
              "      <td>3</td>\n",
              "      <td>0.935018</td>\n",
              "      <td>0.935018</td>\n",
              "      <td>0.935018</td>\n",
              "      <td>0.935018</td>\n",
              "      <td>0.935018</td>\n",
              "      <td>0.038189</td>\n",
              "      <td>0.038189</td>\n",
              "      <td>0.038189</td>\n",
              "      <td>0.038189</td>\n",
              "      <td>...</td>\n",
              "      <td>0.102992</td>\n",
              "      <td>0.102992</td>\n",
              "      <td>0.102992</td>\n",
              "      <td>0.102992</td>\n",
              "      <td>0.011667</td>\n",
              "      <td>0.011667</td>\n",
              "      <td>0.011667</td>\n",
              "      <td>0.011667</td>\n",
              "      <td>0.011667</td>\n",
              "      <td>NaN</td>\n",
              "    </tr>\n",
              "    <tr>\n",
              "      <th>3</th>\n",
              "      <td>4</td>\n",
              "      <td>0.924935</td>\n",
              "      <td>0.924935</td>\n",
              "      <td>0.924935</td>\n",
              "      <td>0.924935</td>\n",
              "      <td>0.925422</td>\n",
              "      <td>0.053082</td>\n",
              "      <td>0.053082</td>\n",
              "      <td>0.053082</td>\n",
              "      <td>0.053082</td>\n",
              "      <td>...</td>\n",
              "      <td>0.100519</td>\n",
              "      <td>0.100519</td>\n",
              "      <td>0.100519</td>\n",
              "      <td>0.100532</td>\n",
              "      <td>0.015275</td>\n",
              "      <td>0.015275</td>\n",
              "      <td>0.015275</td>\n",
              "      <td>0.015275</td>\n",
              "      <td>0.015277</td>\n",
              "      <td>905.6</td>\n",
              "    </tr>\n",
              "    <tr>\n",
              "      <th>4</th>\n",
              "      <td>5</td>\n",
              "      <td>0.924226</td>\n",
              "      <td>0.924226</td>\n",
              "      <td>0.924226</td>\n",
              "      <td>0.924226</td>\n",
              "      <td>0.924226</td>\n",
              "      <td>0.057756</td>\n",
              "      <td>0.057756</td>\n",
              "      <td>0.057756</td>\n",
              "      <td>0.057756</td>\n",
              "      <td>...</td>\n",
              "      <td>0.101913</td>\n",
              "      <td>0.101913</td>\n",
              "      <td>0.101913</td>\n",
              "      <td>0.101913</td>\n",
              "      <td>0.013607</td>\n",
              "      <td>0.013607</td>\n",
              "      <td>0.013607</td>\n",
              "      <td>0.013607</td>\n",
              "      <td>0.013607</td>\n",
              "      <td>670.1</td>\n",
              "    </tr>\n",
              "  </tbody>\n",
              "</table>\n",
              "<p>5 rows × 352 columns</p>\n",
              "</div>\n",
              "      <button class=\"colab-df-convert\" onclick=\"convertToInteractive('df-0f4ee2ae-9e4e-4b17-8bfc-37c97ceb1610')\"\n",
              "              title=\"Convert this dataframe to an interactive table.\"\n",
              "              style=\"display:none;\">\n",
              "        \n",
              "  <svg xmlns=\"http://www.w3.org/2000/svg\" height=\"24px\"viewBox=\"0 0 24 24\"\n",
              "       width=\"24px\">\n",
              "    <path d=\"M0 0h24v24H0V0z\" fill=\"none\"/>\n",
              "    <path d=\"M18.56 5.44l.94 2.06.94-2.06 2.06-.94-2.06-.94-.94-2.06-.94 2.06-2.06.94zm-11 1L8.5 8.5l.94-2.06 2.06-.94-2.06-.94L8.5 2.5l-.94 2.06-2.06.94zm10 10l.94 2.06.94-2.06 2.06-.94-2.06-.94-.94-2.06-.94 2.06-2.06.94z\"/><path d=\"M17.41 7.96l-1.37-1.37c-.4-.4-.92-.59-1.43-.59-.52 0-1.04.2-1.43.59L10.3 9.45l-7.72 7.72c-.78.78-.78 2.05 0 2.83L4 21.41c.39.39.9.59 1.41.59.51 0 1.02-.2 1.41-.59l7.78-7.78 2.81-2.81c.8-.78.8-2.07 0-2.86zM5.41 20L4 18.59l7.72-7.72 1.47 1.35L5.41 20z\"/>\n",
              "  </svg>\n",
              "      </button>\n",
              "      \n",
              "  <style>\n",
              "    .colab-df-container {\n",
              "      display:flex;\n",
              "      flex-wrap:wrap;\n",
              "      gap: 12px;\n",
              "    }\n",
              "\n",
              "    .colab-df-convert {\n",
              "      background-color: #E8F0FE;\n",
              "      border: none;\n",
              "      border-radius: 50%;\n",
              "      cursor: pointer;\n",
              "      display: none;\n",
              "      fill: #1967D2;\n",
              "      height: 32px;\n",
              "      padding: 0 0 0 0;\n",
              "      width: 32px;\n",
              "    }\n",
              "\n",
              "    .colab-df-convert:hover {\n",
              "      background-color: #E2EBFA;\n",
              "      box-shadow: 0px 1px 2px rgba(60, 64, 67, 0.3), 0px 1px 3px 1px rgba(60, 64, 67, 0.15);\n",
              "      fill: #174EA6;\n",
              "    }\n",
              "\n",
              "    [theme=dark] .colab-df-convert {\n",
              "      background-color: #3B4455;\n",
              "      fill: #D2E3FC;\n",
              "    }\n",
              "\n",
              "    [theme=dark] .colab-df-convert:hover {\n",
              "      background-color: #434B5C;\n",
              "      box-shadow: 0px 1px 3px 1px rgba(0, 0, 0, 0.15);\n",
              "      filter: drop-shadow(0px 1px 2px rgba(0, 0, 0, 0.3));\n",
              "      fill: #FFFFFF;\n",
              "    }\n",
              "  </style>\n",
              "\n",
              "      <script>\n",
              "        const buttonEl =\n",
              "          document.querySelector('#df-0f4ee2ae-9e4e-4b17-8bfc-37c97ceb1610 button.colab-df-convert');\n",
              "        buttonEl.style.display =\n",
              "          google.colab.kernel.accessAllowed ? 'block' : 'none';\n",
              "\n",
              "        async function convertToInteractive(key) {\n",
              "          const element = document.querySelector('#df-0f4ee2ae-9e4e-4b17-8bfc-37c97ceb1610');\n",
              "          const dataTable =\n",
              "            await google.colab.kernel.invokeFunction('convertToInteractive',\n",
              "                                                     [key], {});\n",
              "          if (!dataTable) return;\n",
              "\n",
              "          const docLinkHtml = 'Like what you see? Visit the ' +\n",
              "            '<a target=\"_blank\" href=https://colab.research.google.com/notebooks/data_table.ipynb>data table notebook</a>'\n",
              "            + ' to learn more about interactive tables.';\n",
              "          element.innerHTML = '';\n",
              "          dataTable['output_type'] = 'display_data';\n",
              "          await google.colab.output.renderOutput(dataTable, element);\n",
              "          const docLink = document.createElement('div');\n",
              "          docLink.innerHTML = docLinkHtml;\n",
              "          element.appendChild(docLink);\n",
              "        }\n",
              "      </script>\n",
              "    </div>\n",
              "  </div>\n",
              "  "
            ]
          },
          "metadata": {},
          "execution_count": 3
        }
      ],
      "source": [
        "df = pd.read_csv('/content/drive/MyDrive/tópicos/Dataset_produtividade.csv')\n",
        "\n",
        "df.head()"
      ]
    },
    {
      "cell_type": "markdown",
      "metadata": {
        "id": "UF1WXUfQRwWw"
      },
      "source": [
        "#preprocessamento e visualização dos dados"
      ]
    },
    {
      "cell_type": "markdown",
      "metadata": {
        "id": "GOZy7eoGkrvF"
      },
      "source": [
        "##dados faltantes"
      ]
    },
    {
      "cell_type": "code",
      "execution_count": 4,
      "metadata": {
        "colab": {
          "base_uri": "https://localhost:8080/"
        },
        "id": "-SaakejcRva7",
        "outputId": "26b00e05-f5db-4201-8b43-bffb3afd25ef"
      },
      "outputs": [
        {
          "output_type": "stream",
          "name": "stdout",
          "text": [
            "produtividade 18\n"
          ]
        }
      ],
      "source": [
        "for i in df.columns:\n",
        "  if df[i].isna().sum() != 0:\n",
        "    print(i, df[i].isna().sum())\n"
      ]
    },
    {
      "cell_type": "code",
      "execution_count": 5,
      "metadata": {
        "id": "-BzA25Z6gxLz"
      },
      "outputs": [],
      "source": [
        "df = df.fillna(0)"
      ]
    },
    {
      "cell_type": "code",
      "execution_count": 6,
      "metadata": {
        "id": "GGZVFcV2XUnh"
      },
      "outputs": [],
      "source": [
        "# X = df.loc[:,['ARVI_mean_',\t'NDVI_mean_']]\n",
        "X = df.drop(['ID', 'produtividade'], axis = 1)\n",
        "y = df.loc[:,['produtividade']]\n"
      ]
    },
    {
      "cell_type": "code",
      "execution_count": 7,
      "metadata": {
        "colab": {
          "base_uri": "https://localhost:8080/",
          "height": 300
        },
        "id": "ZYLZyJ90XwKR",
        "outputId": "5add627b-65e6-4da4-bc15-0dbffda63a28"
      },
      "outputs": [
        {
          "output_type": "execute_result",
          "data": {
            "text/plain": [
              "   ARVI_mean_  ARVI_mean_0  ARVI_mean_0.2  ARVI_mean_0.4  ARVI_mean_0.6  \\\n",
              "0    0.826175     0.826175       0.826175       0.830084       0.891440   \n",
              "1    0.929867     0.929867       0.929867       0.929867       0.930354   \n",
              "2    0.935018     0.935018       0.935018       0.935018       0.935018   \n",
              "3    0.924935     0.924935       0.924935       0.924935       0.925422   \n",
              "4    0.924226     0.924226       0.924226       0.924226       0.924226   \n",
              "\n",
              "   ARVI_std_  ARVI_std_0  ARVI_std_0.2  ARVI_std_0.4  ARVI_std_0.6  ...  \\\n",
              "0   0.204087    0.204087      0.204087      0.198302      0.101132  ...   \n",
              "1   0.044495    0.044495      0.044495      0.044495      0.041743  ...   \n",
              "2   0.038189    0.038189      0.038189      0.038189      0.038189  ...   \n",
              "3   0.053082    0.053082      0.053082      0.053082      0.050801  ...   \n",
              "4   0.057756    0.057756      0.057756      0.057756      0.057756  ...   \n",
              "\n",
              "   rededge_mean_  rededge_mean_0  rededge_mean_0.2  rededge_mean_0.4  \\\n",
              "0       0.102632        0.102632          0.102632          0.102359   \n",
              "1       0.107168        0.107168          0.107168          0.107168   \n",
              "2       0.102992        0.102992          0.102992          0.102992   \n",
              "3       0.100519        0.100519          0.100519          0.100519   \n",
              "4       0.101913        0.101913          0.101913          0.101913   \n",
              "\n",
              "   rededge_mean_0.6  rededge_std_  rededge_std_0  rededge_std_0.2  \\\n",
              "0          0.101120      0.014673       0.014673         0.014673   \n",
              "1          0.107170      0.014065       0.014065         0.014065   \n",
              "2          0.102992      0.011667       0.011667         0.011667   \n",
              "3          0.100532      0.015275       0.015275         0.015275   \n",
              "4          0.101913      0.013607       0.013607         0.013607   \n",
              "\n",
              "   rededge_std_0.4  rededge_std_0.6  \n",
              "0         0.014254         0.013392  \n",
              "1         0.014065         0.014072  \n",
              "2         0.011667         0.011667  \n",
              "3         0.015275         0.015277  \n",
              "4         0.013607         0.013607  \n",
              "\n",
              "[5 rows x 350 columns]"
            ],
            "text/html": [
              "\n",
              "  <div id=\"df-7f247b31-587b-4d05-b924-70af3c2e039e\">\n",
              "    <div class=\"colab-df-container\">\n",
              "      <div>\n",
              "<style scoped>\n",
              "    .dataframe tbody tr th:only-of-type {\n",
              "        vertical-align: middle;\n",
              "    }\n",
              "\n",
              "    .dataframe tbody tr th {\n",
              "        vertical-align: top;\n",
              "    }\n",
              "\n",
              "    .dataframe thead th {\n",
              "        text-align: right;\n",
              "    }\n",
              "</style>\n",
              "<table border=\"1\" class=\"dataframe\">\n",
              "  <thead>\n",
              "    <tr style=\"text-align: right;\">\n",
              "      <th></th>\n",
              "      <th>ARVI_mean_</th>\n",
              "      <th>ARVI_mean_0</th>\n",
              "      <th>ARVI_mean_0.2</th>\n",
              "      <th>ARVI_mean_0.4</th>\n",
              "      <th>ARVI_mean_0.6</th>\n",
              "      <th>ARVI_std_</th>\n",
              "      <th>ARVI_std_0</th>\n",
              "      <th>ARVI_std_0.2</th>\n",
              "      <th>ARVI_std_0.4</th>\n",
              "      <th>ARVI_std_0.6</th>\n",
              "      <th>...</th>\n",
              "      <th>rededge_mean_</th>\n",
              "      <th>rededge_mean_0</th>\n",
              "      <th>rededge_mean_0.2</th>\n",
              "      <th>rededge_mean_0.4</th>\n",
              "      <th>rededge_mean_0.6</th>\n",
              "      <th>rededge_std_</th>\n",
              "      <th>rededge_std_0</th>\n",
              "      <th>rededge_std_0.2</th>\n",
              "      <th>rededge_std_0.4</th>\n",
              "      <th>rededge_std_0.6</th>\n",
              "    </tr>\n",
              "  </thead>\n",
              "  <tbody>\n",
              "    <tr>\n",
              "      <th>0</th>\n",
              "      <td>0.826175</td>\n",
              "      <td>0.826175</td>\n",
              "      <td>0.826175</td>\n",
              "      <td>0.830084</td>\n",
              "      <td>0.891440</td>\n",
              "      <td>0.204087</td>\n",
              "      <td>0.204087</td>\n",
              "      <td>0.204087</td>\n",
              "      <td>0.198302</td>\n",
              "      <td>0.101132</td>\n",
              "      <td>...</td>\n",
              "      <td>0.102632</td>\n",
              "      <td>0.102632</td>\n",
              "      <td>0.102632</td>\n",
              "      <td>0.102359</td>\n",
              "      <td>0.101120</td>\n",
              "      <td>0.014673</td>\n",
              "      <td>0.014673</td>\n",
              "      <td>0.014673</td>\n",
              "      <td>0.014254</td>\n",
              "      <td>0.013392</td>\n",
              "    </tr>\n",
              "    <tr>\n",
              "      <th>1</th>\n",
              "      <td>0.929867</td>\n",
              "      <td>0.929867</td>\n",
              "      <td>0.929867</td>\n",
              "      <td>0.929867</td>\n",
              "      <td>0.930354</td>\n",
              "      <td>0.044495</td>\n",
              "      <td>0.044495</td>\n",
              "      <td>0.044495</td>\n",
              "      <td>0.044495</td>\n",
              "      <td>0.041743</td>\n",
              "      <td>...</td>\n",
              "      <td>0.107168</td>\n",
              "      <td>0.107168</td>\n",
              "      <td>0.107168</td>\n",
              "      <td>0.107168</td>\n",
              "      <td>0.107170</td>\n",
              "      <td>0.014065</td>\n",
              "      <td>0.014065</td>\n",
              "      <td>0.014065</td>\n",
              "      <td>0.014065</td>\n",
              "      <td>0.014072</td>\n",
              "    </tr>\n",
              "    <tr>\n",
              "      <th>2</th>\n",
              "      <td>0.935018</td>\n",
              "      <td>0.935018</td>\n",
              "      <td>0.935018</td>\n",
              "      <td>0.935018</td>\n",
              "      <td>0.935018</td>\n",
              "      <td>0.038189</td>\n",
              "      <td>0.038189</td>\n",
              "      <td>0.038189</td>\n",
              "      <td>0.038189</td>\n",
              "      <td>0.038189</td>\n",
              "      <td>...</td>\n",
              "      <td>0.102992</td>\n",
              "      <td>0.102992</td>\n",
              "      <td>0.102992</td>\n",
              "      <td>0.102992</td>\n",
              "      <td>0.102992</td>\n",
              "      <td>0.011667</td>\n",
              "      <td>0.011667</td>\n",
              "      <td>0.011667</td>\n",
              "      <td>0.011667</td>\n",
              "      <td>0.011667</td>\n",
              "    </tr>\n",
              "    <tr>\n",
              "      <th>3</th>\n",
              "      <td>0.924935</td>\n",
              "      <td>0.924935</td>\n",
              "      <td>0.924935</td>\n",
              "      <td>0.924935</td>\n",
              "      <td>0.925422</td>\n",
              "      <td>0.053082</td>\n",
              "      <td>0.053082</td>\n",
              "      <td>0.053082</td>\n",
              "      <td>0.053082</td>\n",
              "      <td>0.050801</td>\n",
              "      <td>...</td>\n",
              "      <td>0.100519</td>\n",
              "      <td>0.100519</td>\n",
              "      <td>0.100519</td>\n",
              "      <td>0.100519</td>\n",
              "      <td>0.100532</td>\n",
              "      <td>0.015275</td>\n",
              "      <td>0.015275</td>\n",
              "      <td>0.015275</td>\n",
              "      <td>0.015275</td>\n",
              "      <td>0.015277</td>\n",
              "    </tr>\n",
              "    <tr>\n",
              "      <th>4</th>\n",
              "      <td>0.924226</td>\n",
              "      <td>0.924226</td>\n",
              "      <td>0.924226</td>\n",
              "      <td>0.924226</td>\n",
              "      <td>0.924226</td>\n",
              "      <td>0.057756</td>\n",
              "      <td>0.057756</td>\n",
              "      <td>0.057756</td>\n",
              "      <td>0.057756</td>\n",
              "      <td>0.057756</td>\n",
              "      <td>...</td>\n",
              "      <td>0.101913</td>\n",
              "      <td>0.101913</td>\n",
              "      <td>0.101913</td>\n",
              "      <td>0.101913</td>\n",
              "      <td>0.101913</td>\n",
              "      <td>0.013607</td>\n",
              "      <td>0.013607</td>\n",
              "      <td>0.013607</td>\n",
              "      <td>0.013607</td>\n",
              "      <td>0.013607</td>\n",
              "    </tr>\n",
              "  </tbody>\n",
              "</table>\n",
              "<p>5 rows × 350 columns</p>\n",
              "</div>\n",
              "      <button class=\"colab-df-convert\" onclick=\"convertToInteractive('df-7f247b31-587b-4d05-b924-70af3c2e039e')\"\n",
              "              title=\"Convert this dataframe to an interactive table.\"\n",
              "              style=\"display:none;\">\n",
              "        \n",
              "  <svg xmlns=\"http://www.w3.org/2000/svg\" height=\"24px\"viewBox=\"0 0 24 24\"\n",
              "       width=\"24px\">\n",
              "    <path d=\"M0 0h24v24H0V0z\" fill=\"none\"/>\n",
              "    <path d=\"M18.56 5.44l.94 2.06.94-2.06 2.06-.94-2.06-.94-.94-2.06-.94 2.06-2.06.94zm-11 1L8.5 8.5l.94-2.06 2.06-.94-2.06-.94L8.5 2.5l-.94 2.06-2.06.94zm10 10l.94 2.06.94-2.06 2.06-.94-2.06-.94-.94-2.06-.94 2.06-2.06.94z\"/><path d=\"M17.41 7.96l-1.37-1.37c-.4-.4-.92-.59-1.43-.59-.52 0-1.04.2-1.43.59L10.3 9.45l-7.72 7.72c-.78.78-.78 2.05 0 2.83L4 21.41c.39.39.9.59 1.41.59.51 0 1.02-.2 1.41-.59l7.78-7.78 2.81-2.81c.8-.78.8-2.07 0-2.86zM5.41 20L4 18.59l7.72-7.72 1.47 1.35L5.41 20z\"/>\n",
              "  </svg>\n",
              "      </button>\n",
              "      \n",
              "  <style>\n",
              "    .colab-df-container {\n",
              "      display:flex;\n",
              "      flex-wrap:wrap;\n",
              "      gap: 12px;\n",
              "    }\n",
              "\n",
              "    .colab-df-convert {\n",
              "      background-color: #E8F0FE;\n",
              "      border: none;\n",
              "      border-radius: 50%;\n",
              "      cursor: pointer;\n",
              "      display: none;\n",
              "      fill: #1967D2;\n",
              "      height: 32px;\n",
              "      padding: 0 0 0 0;\n",
              "      width: 32px;\n",
              "    }\n",
              "\n",
              "    .colab-df-convert:hover {\n",
              "      background-color: #E2EBFA;\n",
              "      box-shadow: 0px 1px 2px rgba(60, 64, 67, 0.3), 0px 1px 3px 1px rgba(60, 64, 67, 0.15);\n",
              "      fill: #174EA6;\n",
              "    }\n",
              "\n",
              "    [theme=dark] .colab-df-convert {\n",
              "      background-color: #3B4455;\n",
              "      fill: #D2E3FC;\n",
              "    }\n",
              "\n",
              "    [theme=dark] .colab-df-convert:hover {\n",
              "      background-color: #434B5C;\n",
              "      box-shadow: 0px 1px 3px 1px rgba(0, 0, 0, 0.15);\n",
              "      filter: drop-shadow(0px 1px 2px rgba(0, 0, 0, 0.3));\n",
              "      fill: #FFFFFF;\n",
              "    }\n",
              "  </style>\n",
              "\n",
              "      <script>\n",
              "        const buttonEl =\n",
              "          document.querySelector('#df-7f247b31-587b-4d05-b924-70af3c2e039e button.colab-df-convert');\n",
              "        buttonEl.style.display =\n",
              "          google.colab.kernel.accessAllowed ? 'block' : 'none';\n",
              "\n",
              "        async function convertToInteractive(key) {\n",
              "          const element = document.querySelector('#df-7f247b31-587b-4d05-b924-70af3c2e039e');\n",
              "          const dataTable =\n",
              "            await google.colab.kernel.invokeFunction('convertToInteractive',\n",
              "                                                     [key], {});\n",
              "          if (!dataTable) return;\n",
              "\n",
              "          const docLinkHtml = 'Like what you see? Visit the ' +\n",
              "            '<a target=\"_blank\" href=https://colab.research.google.com/notebooks/data_table.ipynb>data table notebook</a>'\n",
              "            + ' to learn more about interactive tables.';\n",
              "          element.innerHTML = '';\n",
              "          dataTable['output_type'] = 'display_data';\n",
              "          await google.colab.output.renderOutput(dataTable, element);\n",
              "          const docLink = document.createElement('div');\n",
              "          docLink.innerHTML = docLinkHtml;\n",
              "          element.appendChild(docLink);\n",
              "        }\n",
              "      </script>\n",
              "    </div>\n",
              "  </div>\n",
              "  "
            ]
          },
          "metadata": {},
          "execution_count": 7
        }
      ],
      "source": [
        "X.head()"
      ]
    },
    {
      "cell_type": "code",
      "execution_count": 8,
      "metadata": {
        "colab": {
          "base_uri": "https://localhost:8080/"
        },
        "id": "xw3BTg0mcBWX",
        "outputId": "40b1de05-de67-4b2b-c585-61cfb549f6ef"
      },
      "outputs": [
        {
          "output_type": "execute_result",
          "data": {
            "text/plain": [
              "(297, 350)"
            ]
          },
          "metadata": {},
          "execution_count": 8
        }
      ],
      "source": [
        "X.shape"
      ]
    },
    {
      "cell_type": "code",
      "execution_count": 9,
      "metadata": {
        "colab": {
          "base_uri": "https://localhost:8080/",
          "height": 206
        },
        "id": "l6fL5HRPXxnA",
        "outputId": "06b70da0-2e7b-48cc-c8ce-95e5ff19f298"
      },
      "outputs": [
        {
          "output_type": "execute_result",
          "data": {
            "text/plain": [
              "   produtividade\n",
              "0          471.7\n",
              "1          677.0\n",
              "2            0.0\n",
              "3          905.6\n",
              "4          670.1"
            ],
            "text/html": [
              "\n",
              "  <div id=\"df-cbb1f206-2479-41ae-bad4-1aca2fdbd26f\">\n",
              "    <div class=\"colab-df-container\">\n",
              "      <div>\n",
              "<style scoped>\n",
              "    .dataframe tbody tr th:only-of-type {\n",
              "        vertical-align: middle;\n",
              "    }\n",
              "\n",
              "    .dataframe tbody tr th {\n",
              "        vertical-align: top;\n",
              "    }\n",
              "\n",
              "    .dataframe thead th {\n",
              "        text-align: right;\n",
              "    }\n",
              "</style>\n",
              "<table border=\"1\" class=\"dataframe\">\n",
              "  <thead>\n",
              "    <tr style=\"text-align: right;\">\n",
              "      <th></th>\n",
              "      <th>produtividade</th>\n",
              "    </tr>\n",
              "  </thead>\n",
              "  <tbody>\n",
              "    <tr>\n",
              "      <th>0</th>\n",
              "      <td>471.7</td>\n",
              "    </tr>\n",
              "    <tr>\n",
              "      <th>1</th>\n",
              "      <td>677.0</td>\n",
              "    </tr>\n",
              "    <tr>\n",
              "      <th>2</th>\n",
              "      <td>0.0</td>\n",
              "    </tr>\n",
              "    <tr>\n",
              "      <th>3</th>\n",
              "      <td>905.6</td>\n",
              "    </tr>\n",
              "    <tr>\n",
              "      <th>4</th>\n",
              "      <td>670.1</td>\n",
              "    </tr>\n",
              "  </tbody>\n",
              "</table>\n",
              "</div>\n",
              "      <button class=\"colab-df-convert\" onclick=\"convertToInteractive('df-cbb1f206-2479-41ae-bad4-1aca2fdbd26f')\"\n",
              "              title=\"Convert this dataframe to an interactive table.\"\n",
              "              style=\"display:none;\">\n",
              "        \n",
              "  <svg xmlns=\"http://www.w3.org/2000/svg\" height=\"24px\"viewBox=\"0 0 24 24\"\n",
              "       width=\"24px\">\n",
              "    <path d=\"M0 0h24v24H0V0z\" fill=\"none\"/>\n",
              "    <path d=\"M18.56 5.44l.94 2.06.94-2.06 2.06-.94-2.06-.94-.94-2.06-.94 2.06-2.06.94zm-11 1L8.5 8.5l.94-2.06 2.06-.94-2.06-.94L8.5 2.5l-.94 2.06-2.06.94zm10 10l.94 2.06.94-2.06 2.06-.94-2.06-.94-.94-2.06-.94 2.06-2.06.94z\"/><path d=\"M17.41 7.96l-1.37-1.37c-.4-.4-.92-.59-1.43-.59-.52 0-1.04.2-1.43.59L10.3 9.45l-7.72 7.72c-.78.78-.78 2.05 0 2.83L4 21.41c.39.39.9.59 1.41.59.51 0 1.02-.2 1.41-.59l7.78-7.78 2.81-2.81c.8-.78.8-2.07 0-2.86zM5.41 20L4 18.59l7.72-7.72 1.47 1.35L5.41 20z\"/>\n",
              "  </svg>\n",
              "      </button>\n",
              "      \n",
              "  <style>\n",
              "    .colab-df-container {\n",
              "      display:flex;\n",
              "      flex-wrap:wrap;\n",
              "      gap: 12px;\n",
              "    }\n",
              "\n",
              "    .colab-df-convert {\n",
              "      background-color: #E8F0FE;\n",
              "      border: none;\n",
              "      border-radius: 50%;\n",
              "      cursor: pointer;\n",
              "      display: none;\n",
              "      fill: #1967D2;\n",
              "      height: 32px;\n",
              "      padding: 0 0 0 0;\n",
              "      width: 32px;\n",
              "    }\n",
              "\n",
              "    .colab-df-convert:hover {\n",
              "      background-color: #E2EBFA;\n",
              "      box-shadow: 0px 1px 2px rgba(60, 64, 67, 0.3), 0px 1px 3px 1px rgba(60, 64, 67, 0.15);\n",
              "      fill: #174EA6;\n",
              "    }\n",
              "\n",
              "    [theme=dark] .colab-df-convert {\n",
              "      background-color: #3B4455;\n",
              "      fill: #D2E3FC;\n",
              "    }\n",
              "\n",
              "    [theme=dark] .colab-df-convert:hover {\n",
              "      background-color: #434B5C;\n",
              "      box-shadow: 0px 1px 3px 1px rgba(0, 0, 0, 0.15);\n",
              "      filter: drop-shadow(0px 1px 2px rgba(0, 0, 0, 0.3));\n",
              "      fill: #FFFFFF;\n",
              "    }\n",
              "  </style>\n",
              "\n",
              "      <script>\n",
              "        const buttonEl =\n",
              "          document.querySelector('#df-cbb1f206-2479-41ae-bad4-1aca2fdbd26f button.colab-df-convert');\n",
              "        buttonEl.style.display =\n",
              "          google.colab.kernel.accessAllowed ? 'block' : 'none';\n",
              "\n",
              "        async function convertToInteractive(key) {\n",
              "          const element = document.querySelector('#df-cbb1f206-2479-41ae-bad4-1aca2fdbd26f');\n",
              "          const dataTable =\n",
              "            await google.colab.kernel.invokeFunction('convertToInteractive',\n",
              "                                                     [key], {});\n",
              "          if (!dataTable) return;\n",
              "\n",
              "          const docLinkHtml = 'Like what you see? Visit the ' +\n",
              "            '<a target=\"_blank\" href=https://colab.research.google.com/notebooks/data_table.ipynb>data table notebook</a>'\n",
              "            + ' to learn more about interactive tables.';\n",
              "          element.innerHTML = '';\n",
              "          dataTable['output_type'] = 'display_data';\n",
              "          await google.colab.output.renderOutput(dataTable, element);\n",
              "          const docLink = document.createElement('div');\n",
              "          docLink.innerHTML = docLinkHtml;\n",
              "          element.appendChild(docLink);\n",
              "        }\n",
              "      </script>\n",
              "    </div>\n",
              "  </div>\n",
              "  "
            ]
          },
          "metadata": {},
          "execution_count": 9
        }
      ],
      "source": [
        "y.head()"
      ]
    },
    {
      "cell_type": "markdown",
      "source": [
        "##dividir o banco de dados em treinamento e teste"
      ],
      "metadata": {
        "id": "ce5u_f-bqGOU"
      }
    },
    {
      "cell_type": "code",
      "execution_count": 10,
      "metadata": {
        "id": "a8zc7RxDW8fY"
      },
      "outputs": [],
      "source": [
        "# dividir o banco de dados em treinamento e teste.\n",
        "from sklearn.model_selection import train_test_split\n",
        "\n",
        "X_train, X_test, y_train, y_test = train_test_split(X, y, test_size = 0.25, random_state = 0)\n"
      ]
    },
    {
      "cell_type": "markdown",
      "source": [
        "##Padronizar o conjunto de dados em média 0 e desvio padrão 1"
      ],
      "metadata": {
        "id": "y26I4NPmqKYh"
      }
    },
    {
      "cell_type": "code",
      "execution_count": 11,
      "metadata": {
        "id": "rvAUCbJ_YOd3"
      },
      "outputs": [],
      "source": [
        "# padronizar o conjunto de dados\n",
        "from sklearn.preprocessing import StandardScaler\n",
        "scaleX = StandardScaler()           #cria um objeto\n",
        "scaleX = scaleX.fit(X_train)        #ajusta aos dados\n",
        "X_train_sc = scaleX.transform(X_train) #transforma os dados\n",
        "X_test_sc = scaleX.transform(X_test)   #utransforma os dados\n",
        "\n",
        "X_train_sc = pd.DataFrame(X_train_sc)\n",
        "X_train_sc.columns = X_train.columns\n",
        "\n",
        "X_test_sc = pd.DataFrame(X_test_sc)\n",
        "X_test_sc.columns = X_train.columns"
      ]
    },
    {
      "cell_type": "code",
      "source": [
        "X_train_sc.info()"
      ],
      "metadata": {
        "colab": {
          "base_uri": "https://localhost:8080/"
        },
        "id": "HkJzIktEim78",
        "outputId": "06cc3af4-8d5f-4b29-d6c1-2e112f9b70db"
      },
      "execution_count": 12,
      "outputs": [
        {
          "output_type": "stream",
          "name": "stdout",
          "text": [
            "<class 'pandas.core.frame.DataFrame'>\n",
            "RangeIndex: 222 entries, 0 to 221\n",
            "Columns: 350 entries, ARVI_mean_ to rededge_std_0.6\n",
            "dtypes: float64(350)\n",
            "memory usage: 607.2 KB\n"
          ]
        }
      ]
    },
    {
      "cell_type": "markdown",
      "metadata": {
        "id": "rAvM2mBslbOJ"
      },
      "source": [
        "##Redução da dimensionalidade com PCA\n"
      ]
    },
    {
      "cell_type": "code",
      "execution_count": 13,
      "metadata": {
        "id": "nNh81gEx9QYj"
      },
      "outputs": [],
      "source": [
        "from sklearn.decomposition import PCA\n",
        "\n",
        "pca = PCA(n_components= 3)\n",
        "X_train_pca = pca.fit_transform(X_train_sc)\n",
        "X_test_pca = pca.transform(X_test_sc)"
      ]
    },
    {
      "cell_type": "code",
      "execution_count": 14,
      "metadata": {
        "colab": {
          "base_uri": "https://localhost:8080/"
        },
        "id": "IUZcH5_HGr4s",
        "outputId": "ffa3f31a-d2d7-4455-d553-4d12868cde14"
      },
      "outputs": [
        {
          "output_type": "execute_result",
          "data": {
            "text/plain": [
              "array([0.62127874, 0.1818185 , 0.07486958])"
            ]
          },
          "metadata": {},
          "execution_count": 14
        }
      ],
      "source": [
        "var = pca.explained_variance_ratio_\n",
        "var"
      ]
    },
    {
      "cell_type": "code",
      "execution_count": 15,
      "metadata": {
        "id": "ySrMPkjs91mI",
        "colab": {
          "base_uri": "https://localhost:8080/"
        },
        "outputId": "d79d7e45-0aea-49ab-c182-616f12aa8084"
      },
      "outputs": [
        {
          "output_type": "execute_result",
          "data": {
            "text/plain": [
              "array([[ 10.24327588,  -0.09490081,   1.84223967],\n",
              "       [ -0.50426452,  -7.59796063,  -2.24716777],\n",
              "       [ -5.35271401,   3.70416103,  -1.17170114],\n",
              "       [  6.62346689,  -1.08253599,   7.23560466],\n",
              "       [-11.42234539,   8.23357772,   5.28844607],\n",
              "       [-11.02374223,   4.32502255,   2.12222493],\n",
              "       [ -3.81121808,   1.93822528,   7.15728375],\n",
              "       [-10.13010982,  -2.39049265,  -6.26965088],\n",
              "       [-11.67516317,   6.37515252,  -0.78805351],\n",
              "       [-14.29564542,   5.74539366,  -2.85092128]])"
            ]
          },
          "metadata": {},
          "execution_count": 15
        }
      ],
      "source": [
        "X_train_pca[:10]"
      ]
    },
    {
      "cell_type": "markdown",
      "source": [
        "# Construção da rede neural e otimização com skop"
      ],
      "metadata": {
        "id": "ILdZ4zusuIm8"
      }
    },
    {
      "cell_type": "code",
      "source": [
        "!pip install scikit-optimize"
      ],
      "metadata": {
        "colab": {
          "base_uri": "https://localhost:8080/"
        },
        "id": "23IrAkl8v0Dw",
        "outputId": "e4a675a0-7dde-4e7b-d501-e35ba85aaf69"
      },
      "execution_count": 16,
      "outputs": [
        {
          "output_type": "stream",
          "name": "stdout",
          "text": [
            "Looking in indexes: https://pypi.org/simple, https://us-python.pkg.dev/colab-wheels/public/simple/\n",
            "Requirement already satisfied: scikit-optimize in /usr/local/lib/python3.10/dist-packages (0.9.0)\n",
            "Requirement already satisfied: joblib>=0.11 in /usr/local/lib/python3.10/dist-packages (from scikit-optimize) (1.2.0)\n",
            "Requirement already satisfied: pyaml>=16.9 in /usr/local/lib/python3.10/dist-packages (from scikit-optimize) (23.5.9)\n",
            "Requirement already satisfied: numpy>=1.13.3 in /usr/local/lib/python3.10/dist-packages (from scikit-optimize) (1.22.4)\n",
            "Requirement already satisfied: scipy>=0.19.1 in /usr/local/lib/python3.10/dist-packages (from scikit-optimize) (1.10.1)\n",
            "Requirement already satisfied: scikit-learn>=0.20.0 in /usr/local/lib/python3.10/dist-packages (from scikit-optimize) (1.2.2)\n",
            "Requirement already satisfied: PyYAML in /usr/local/lib/python3.10/dist-packages (from pyaml>=16.9->scikit-optimize) (6.0)\n",
            "Requirement already satisfied: threadpoolctl>=2.0.0 in /usr/local/lib/python3.10/dist-packages (from scikit-learn>=0.20.0->scikit-optimize) (3.1.0)\n"
          ]
        }
      ]
    },
    {
      "cell_type": "code",
      "source": [
        "from tensorflow.keras.models import Sequential\n",
        "from tensorflow.keras.layers import Dense\n",
        "from tensorflow.keras.optimizers import Adam\n",
        "from skopt import BayesSearchCV\n",
        "from sklearn.metrics import mean_squared_error\n",
        "from sklearn.model_selection import train_test_split\n",
        "from keras.wrappers.scikit_learn import KerasRegressor\n",
        "\n",
        "def create_model(hidden_units=4, learning_rate=0.01):\n",
        "    ann = Sequential()\n",
        "    ann.add(Dense(units=hidden_units, input_dim=3, activation='relu'))\n",
        "    ann.add(Dense(units=3, activation='relu'))\n",
        "    ann.add(Dense(units=1))\n",
        "\n",
        "    optimizer = Adam(learning_rate=learning_rate)\n",
        "\n",
        "    ann.compile(optimizer=optimizer, loss='mean_squared_error', metrics=['mae'])\n",
        "\n",
        "    return ann\n",
        "\n",
        "\n",
        "param_space = {\n",
        "    'hidden_units': (2, 32),\n",
        "    'learning_rate': (0.001, 0.1, 'log-uniform')\n",
        "}\n",
        "\n",
        "# Criar o modelo como um estimador do scikit-learn\n",
        "model = KerasRegressor(build_fn=create_model, verbose=0)\n",
        "\n",
        "# Realizar busca bayesiana para encontrar os melhores hiperparâmetros\n",
        "bayes_cv_tuner = BayesSearchCV(\n",
        "    estimator=model,\n",
        "    search_spaces=param_space,\n",
        "    scoring='neg_mean_squared_error',\n",
        "    cv=3,\n",
        "    n_jobs=-1,\n",
        "    n_iter=20,\n",
        "    verbose=0\n",
        ")\n"
      ],
      "metadata": {
        "colab": {
          "base_uri": "https://localhost:8080/"
        },
        "id": "7tphnFFVuL6p",
        "outputId": "15587962-a154-4131-9c03-ed7c4afc98cd"
      },
      "execution_count": 17,
      "outputs": [
        {
          "output_type": "stream",
          "name": "stderr",
          "text": [
            "<ipython-input-17-2f7293f398b7>:28: DeprecationWarning: KerasRegressor is deprecated, use Sci-Keras (https://github.com/adriangb/scikeras) instead. See https://www.adriangb.com/scikeras/stable/migration.html for help migrating.\n",
            "  model = KerasRegressor(build_fn=create_model, verbose=0)\n"
          ]
        }
      ]
    },
    {
      "cell_type": "code",
      "source": [
        "# Ajustar o modelo aos dados de treinamento\n",
        "bayes_cv_tuner.fit(X_train_pca, y_train)\n",
        "\n",
        "# Imprimir os melhores parâmetros encontrados\n",
        "print(\"Melhores parâmetros: \", bayes_cv_tuner.best_params_)\n",
        "\n",
        "# Avaliar o modelo com os melhores parâmetros usando o conjunto de validação\n",
        "best_model = bayes_cv_tuner.best_estimator_"
      ],
      "metadata": {
        "colab": {
          "base_uri": "https://localhost:8080/"
        },
        "id": "dLNxUHUu04Qg",
        "outputId": "11ba5c87-9b24-4f42-d59d-a05d163960f2"
      },
      "execution_count": 18,
      "outputs": [
        {
          "output_type": "stream",
          "name": "stderr",
          "text": [
            "/usr/local/lib/python3.10/dist-packages/skopt/optimizer/optimizer.py:449: UserWarning: The objective has been evaluated at this point before.\n",
            "  warnings.warn(\"The objective has been evaluated \"\n",
            "/usr/local/lib/python3.10/dist-packages/skopt/optimizer/optimizer.py:449: UserWarning: The objective has been evaluated at this point before.\n",
            "  warnings.warn(\"The objective has been evaluated \"\n",
            "/usr/local/lib/python3.10/dist-packages/skopt/optimizer/optimizer.py:449: UserWarning: The objective has been evaluated at this point before.\n",
            "  warnings.warn(\"The objective has been evaluated \"\n"
          ]
        },
        {
          "output_type": "stream",
          "name": "stdout",
          "text": [
            "Melhores parâmetros:  OrderedDict([('hidden_units', 32), ('learning_rate', 0.1)])\n"
          ]
        }
      ]
    },
    {
      "cell_type": "code",
      "source": [
        "# Avaliar o modelo com os melhores parâmetros usando o conjunto de validação\n",
        "\n",
        "history = best_model.fit(X_train_pca, y_train, batch_size= 10, validation_split=0.1, epochs = 100)"
      ],
      "metadata": {
        "id": "Gi0jyqQd2jz1"
      },
      "execution_count": 19,
      "outputs": []
    },
    {
      "cell_type": "markdown",
      "source": [
        "#Plotar gráficos"
      ],
      "metadata": {
        "id": "9ZZHBbImpoMZ"
      }
    },
    {
      "cell_type": "code",
      "execution_count": 20,
      "metadata": {
        "colab": {
          "base_uri": "https://localhost:8080/",
          "height": 472
        },
        "id": "ZCZ3tyujnot5",
        "outputId": "03496348-fc4d-4854-83c2-dee738292d6a"
      },
      "outputs": [
        {
          "output_type": "display_data",
          "data": {
            "text/plain": [
              "<Figure size 640x480 with 1 Axes>"
            ],
            "image/png": "[encoded data removed]"
          },
          "metadata": {}
        }
      ],
      "source": [
        "#plotar gráficos\n",
        "import matplotlib.pyplot as plt\n",
        "\n",
        "loss = history.history['loss'] # Treinamento\n",
        "val_loss = history.history['val_loss'] # Validação\n",
        "\n",
        "epochs = range(1, len(loss)+ 1)\n",
        "\n",
        "plt.plot(epochs, loss, 'y', label = \"Treinamento\")\n",
        "plt.plot(epochs, val_loss, 'r', label = \"Validação\")\n",
        "\n",
        "plt.title(\"Treinamento versus validação\")\n",
        "plt.xlabel(\"Epocas\")\n",
        "plt.ylabel(\"Função custo (Loss)\")\n",
        "plt.legend()\n",
        "plt.show()\n",
        "\n"
      ]
    },
    {
      "cell_type": "code",
      "execution_count": 21,
      "metadata": {
        "colab": {
          "base_uri": "https://localhost:8080/",
          "height": 472
        },
        "id": "oir8sMnape99",
        "outputId": "8e9c43eb-1bb9-4e0d-980b-73100f3264b0"
      },
      "outputs": [
        {
          "output_type": "display_data",
          "data": {
            "text/plain": [
              "<Figure size 640x480 with 1 Axes>"
            ],
            "image/png": "[encoded data removed]"
          },
          "metadata": {}
        }
      ],
      "source": [
        "acc = history.history['mae'] # Treinamento\n",
        "\n",
        "val_acc = history.history['val_mae'] # Validação\n",
        "\n",
        "epochs = range(1, len(loss)+ 1)\n",
        "\n",
        "plt.plot(epochs, acc, 'y', label = \"Treinamento\")\n",
        "plt.plot(epochs, val_acc, 'r', label = \"Validação\")\n",
        "\n",
        "plt.title(\"Treinamento versus validação\")\n",
        "plt.xlabel(\"Epocas\")\n",
        "plt.ylabel(\"Função custo (Loss)\")\n",
        "plt.legend()\n",
        "plt.show()\n"
      ]
    },
    {
      "cell_type": "markdown",
      "source": [
        "#Predição nos dados de teste"
      ],
      "metadata": {
        "id": "fhmmEufWprHY"
      }
    },
    {
      "cell_type": "code",
      "execution_count": 22,
      "metadata": {
        "colab": {
          "base_uri": "https://localhost:8080/",
          "height": 430
        },
        "id": "XBi-STE-pebw",
        "outputId": "7936bac1-8116-459f-a8eb-b31a74b55472"
      },
      "outputs": [
        {
          "output_type": "display_data",
          "data": {
            "text/plain": [
              "<Figure size 640x480 with 1 Axes>"
            ],
            "image/png": "[encoded data removed]"
          },
          "metadata": {}
        }
      ],
      "source": [
        "#predição dos dados de teste\n",
        "y_pred = best_model.predict(X_test_pca)\n",
        "\n",
        "plt.scatter(y_test, y_pred)\n",
        "plt.show()\n"
      ]
    },
    {
      "cell_type": "code",
      "execution_count": 23,
      "metadata": {
        "colab": {
          "base_uri": "https://localhost:8080/"
        },
        "id": "NZxF2NYdoXSz",
        "outputId": "40d44602-3fc4-44d3-b768-e84d8772cd51"
      },
      "outputs": [
        {
          "output_type": "stream",
          "name": "stdout",
          "text": [
            "R2 =  0.31\n",
            "MAE =  131.37\n",
            "MSE =  29686.61\n"
          ]
        }
      ],
      "source": [
        "from sklearn.linear_model import LinearRegression\n",
        "from sklearn.metrics import mean_squared_error, mean_absolute_error\n",
        "\n",
        "linear = LinearRegression()\n",
        "linear.fit(y_test, y_pred)\n",
        "\n",
        "r2 = linear.score(y_test, y_pred)\n",
        "mae = mean_absolute_error(y_test, y_pred)\n",
        "mse = mean_squared_error(y_test, y_pred)\n",
        "\n",
        "print('R2 = ', round(r2, 2))\n",
        "print(\"MAE = \", round(mae, 2))\n",
        "print(\"MSE = \", round(mse, 2))"
      ]
    },
    {
      "cell_type": "markdown",
      "source": [
        "#Traçar a curva de regressão nos dados preditos versus observados"
      ],
      "metadata": {
        "id": "Yfy7z40EpuxA"
      }
    },
    {
      "cell_type": "code",
      "execution_count": 24,
      "metadata": {
        "colab": {
          "base_uri": "https://localhost:8080/",
          "height": 486
        },
        "id": "7riVCGkOs_z-",
        "outputId": "83ca349a-3248-44d4-e085-03de3df01c1c"
      },
      "outputs": [
        {
          "output_type": "stream",
          "name": "stderr",
          "text": [
            "/usr/local/lib/python3.10/dist-packages/sklearn/base.py:439: UserWarning: X does not have valid feature names, but LinearRegression was fitted with feature names\n",
            "  warnings.warn(\n"
          ]
        },
        {
          "output_type": "display_data",
          "data": {
            "text/plain": [
              "<Figure size 640x480 with 1 Axes>"
            ],
            "image/png": "[encoded data removed]"
          },
          "metadata": {}
        }
      ],
      "source": [
        "#predição dos dados de teste\n",
        "y_pred = best_model.predict(X_test_pca)\n",
        "\n",
        "y = np.arange(0, 1200)\n",
        "y = np.expand_dims(y, axis=1)\n",
        "\n",
        "yp = linear.predict(y)\n",
        "\n",
        "plt.scatter(y_test, y_pred)\n",
        "plt.plot(y, yp)\n",
        "plt.show()"
      ]
    }
  ],
  "metadata": {
    "colab": {
      "provenance": []
    },
    "kernelspec": {
      "display_name": "Python 3",
      "name": "python3"
    },
    "language_info": {
      "name": "python"
    }
  },
  "nbformat": 4,
  "nbformat_minor": 0
}